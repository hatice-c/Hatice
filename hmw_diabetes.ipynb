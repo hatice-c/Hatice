{
 "cells": [
  {
   "cell_type": "code",
   "execution_count": 1,
   "metadata": {},
   "outputs": [
    {
     "name": "stderr",
     "output_type": "stream",
     "text": [
      "/opt/anaconda3/lib/python3.7/site-packages/lightgbm/__init__.py:48: UserWarning: Starting from version 2.2.1, the library file in distribution wheels for macOS is built by the Apple Clang (Xcode_8.3.3) compiler.\n",
      "This means that in case of installing LightGBM from PyPI via the ``pip install lightgbm`` command, you don't need to install the gcc compiler anymore.\n",
      "Instead of that, you need to install the OpenMP library, which is required for running LightGBM on the system with the Apple Clang compiler.\n",
      "You can install the OpenMP library by the following command: ``brew install libomp``.\n",
      "  \"You can install the OpenMP library by the following command: ``brew install libomp``.\", UserWarning)\n"
     ]
    }
   ],
   "source": [
    "import numpy as np\n",
    "import pandas as pd \n",
    "import statsmodels.api as sm\n",
    "import statsmodels.formula.api as smf\n",
    "import seaborn as sns\n",
    "from sklearn.preprocessing import scale \n",
    "from sklearn.model_selection import train_test_split, GridSearchCV, cross_val_score\n",
    "from sklearn.metrics import confusion_matrix, accuracy_score, classification_report\n",
    "from sklearn.metrics import roc_auc_score,roc_curve\n",
    "import statsmodels.formula.api as smf\n",
    "import matplotlib.pyplot as plt\n",
    "from sklearn.neighbors import KNeighborsClassifier\n",
    "from sklearn.discriminant_analysis import LinearDiscriminantAnalysis\n",
    "from sklearn.linear_model import LogisticRegression\n",
    "from sklearn.svm import SVC\n",
    "from sklearn.naive_bayes import GaussianNB\n",
    "from sklearn import tree\n",
    "from sklearn.ensemble import RandomForestClassifier\n",
    "from sklearn.ensemble import GradientBoostingClassifier\n",
    "from xgboost import XGBClassifier\n",
    "from lightgbm import LGBMClassifier\n",
    "from catboost import CatBoostClassifier\n",
    "\n",
    "from warnings import filterwarnings\n",
    "filterwarnings('ignore')"
   ]
  },
  {
   "cell_type": "code",
   "execution_count": 2,
   "metadata": {},
   "outputs": [
    {
     "data": {
      "text/html": [
       "<div>\n",
       "<style scoped>\n",
       "    .dataframe tbody tr th:only-of-type {\n",
       "        vertical-align: middle;\n",
       "    }\n",
       "\n",
       "    .dataframe tbody tr th {\n",
       "        vertical-align: top;\n",
       "    }\n",
       "\n",
       "    .dataframe thead th {\n",
       "        text-align: right;\n",
       "    }\n",
       "</style>\n",
       "<table border=\"1\" class=\"dataframe\">\n",
       "  <thead>\n",
       "    <tr style=\"text-align: right;\">\n",
       "      <th></th>\n",
       "      <th>Pregnancies</th>\n",
       "      <th>Glucose</th>\n",
       "      <th>BloodPressure</th>\n",
       "      <th>SkinThickness</th>\n",
       "      <th>Insulin</th>\n",
       "      <th>BMI</th>\n",
       "      <th>DiabetesPedigreeFunction</th>\n",
       "      <th>Age</th>\n",
       "      <th>Outcome</th>\n",
       "    </tr>\n",
       "  </thead>\n",
       "  <tbody>\n",
       "    <tr>\n",
       "      <th>0</th>\n",
       "      <td>6</td>\n",
       "      <td>148</td>\n",
       "      <td>72</td>\n",
       "      <td>35</td>\n",
       "      <td>0</td>\n",
       "      <td>33.6</td>\n",
       "      <td>0.627</td>\n",
       "      <td>50</td>\n",
       "      <td>1</td>\n",
       "    </tr>\n",
       "    <tr>\n",
       "      <th>1</th>\n",
       "      <td>1</td>\n",
       "      <td>85</td>\n",
       "      <td>66</td>\n",
       "      <td>29</td>\n",
       "      <td>0</td>\n",
       "      <td>26.6</td>\n",
       "      <td>0.351</td>\n",
       "      <td>31</td>\n",
       "      <td>0</td>\n",
       "    </tr>\n",
       "    <tr>\n",
       "      <th>2</th>\n",
       "      <td>8</td>\n",
       "      <td>183</td>\n",
       "      <td>64</td>\n",
       "      <td>0</td>\n",
       "      <td>0</td>\n",
       "      <td>23.3</td>\n",
       "      <td>0.672</td>\n",
       "      <td>32</td>\n",
       "      <td>1</td>\n",
       "    </tr>\n",
       "    <tr>\n",
       "      <th>3</th>\n",
       "      <td>1</td>\n",
       "      <td>89</td>\n",
       "      <td>66</td>\n",
       "      <td>23</td>\n",
       "      <td>94</td>\n",
       "      <td>28.1</td>\n",
       "      <td>0.167</td>\n",
       "      <td>21</td>\n",
       "      <td>0</td>\n",
       "    </tr>\n",
       "    <tr>\n",
       "      <th>4</th>\n",
       "      <td>0</td>\n",
       "      <td>137</td>\n",
       "      <td>40</td>\n",
       "      <td>35</td>\n",
       "      <td>168</td>\n",
       "      <td>43.1</td>\n",
       "      <td>2.288</td>\n",
       "      <td>33</td>\n",
       "      <td>1</td>\n",
       "    </tr>\n",
       "  </tbody>\n",
       "</table>\n",
       "</div>"
      ],
      "text/plain": [
       "   Pregnancies  Glucose  BloodPressure  SkinThickness  Insulin   BMI  \\\n",
       "0            6      148             72             35        0  33.6   \n",
       "1            1       85             66             29        0  26.6   \n",
       "2            8      183             64              0        0  23.3   \n",
       "3            1       89             66             23       94  28.1   \n",
       "4            0      137             40             35      168  43.1   \n",
       "\n",
       "   DiabetesPedigreeFunction  Age  Outcome  \n",
       "0                     0.627   50        1  \n",
       "1                     0.351   31        0  \n",
       "2                     0.672   32        1  \n",
       "3                     0.167   21        0  \n",
       "4                     2.288   33        1  "
      ]
     },
     "execution_count": 2,
     "metadata": {},
     "output_type": "execute_result"
    }
   ],
   "source": [
    "diabetes = pd.read_csv(\"diabetes.csv\")\n",
    "df = diabetes.copy()\n",
    "df.head()"
   ]
  },
  {
   "cell_type": "code",
   "execution_count": 3,
   "metadata": {},
   "outputs": [
    {
     "data": {
      "text/plain": [
       "Pregnancies                 0\n",
       "Glucose                     0\n",
       "BloodPressure               0\n",
       "SkinThickness               0\n",
       "Insulin                     0\n",
       "BMI                         0\n",
       "DiabetesPedigreeFunction    0\n",
       "Age                         0\n",
       "Outcome                     0\n",
       "dtype: int64"
      ]
     },
     "execution_count": 3,
     "metadata": {},
     "output_type": "execute_result"
    }
   ],
   "source": [
    "df.isnull().sum()"
   ]
  },
  {
   "cell_type": "code",
   "execution_count": null,
   "metadata": {},
   "outputs": [],
   "source": []
  },
  {
   "cell_type": "code",
   "execution_count": 4,
   "metadata": {},
   "outputs": [],
   "source": [
    "df[['Glucose','BloodPressure','SkinThickness','Insulin','BMI']] = df[['Glucose','BloodPressure','SkinThickness','Insulin','BMI']].replace(0,np.NaN)"
   ]
  },
  {
   "cell_type": "code",
   "execution_count": 5,
   "metadata": {},
   "outputs": [
    {
     "data": {
      "text/html": [
       "<div>\n",
       "<style scoped>\n",
       "    .dataframe tbody tr th:only-of-type {\n",
       "        vertical-align: middle;\n",
       "    }\n",
       "\n",
       "    .dataframe tbody tr th {\n",
       "        vertical-align: top;\n",
       "    }\n",
       "\n",
       "    .dataframe thead th {\n",
       "        text-align: right;\n",
       "    }\n",
       "</style>\n",
       "<table border=\"1\" class=\"dataframe\">\n",
       "  <thead>\n",
       "    <tr style=\"text-align: right;\">\n",
       "      <th></th>\n",
       "      <th>Pregnancies</th>\n",
       "      <th>Glucose</th>\n",
       "      <th>BloodPressure</th>\n",
       "      <th>SkinThickness</th>\n",
       "      <th>Insulin</th>\n",
       "      <th>BMI</th>\n",
       "      <th>DiabetesPedigreeFunction</th>\n",
       "      <th>Age</th>\n",
       "      <th>Outcome</th>\n",
       "    </tr>\n",
       "  </thead>\n",
       "  <tbody>\n",
       "    <tr>\n",
       "      <th>0</th>\n",
       "      <td>6</td>\n",
       "      <td>148.0</td>\n",
       "      <td>72.0</td>\n",
       "      <td>35.0</td>\n",
       "      <td>NaN</td>\n",
       "      <td>33.6</td>\n",
       "      <td>0.627</td>\n",
       "      <td>50</td>\n",
       "      <td>1</td>\n",
       "    </tr>\n",
       "    <tr>\n",
       "      <th>1</th>\n",
       "      <td>1</td>\n",
       "      <td>85.0</td>\n",
       "      <td>66.0</td>\n",
       "      <td>29.0</td>\n",
       "      <td>NaN</td>\n",
       "      <td>26.6</td>\n",
       "      <td>0.351</td>\n",
       "      <td>31</td>\n",
       "      <td>0</td>\n",
       "    </tr>\n",
       "    <tr>\n",
       "      <th>2</th>\n",
       "      <td>8</td>\n",
       "      <td>183.0</td>\n",
       "      <td>64.0</td>\n",
       "      <td>NaN</td>\n",
       "      <td>NaN</td>\n",
       "      <td>23.3</td>\n",
       "      <td>0.672</td>\n",
       "      <td>32</td>\n",
       "      <td>1</td>\n",
       "    </tr>\n",
       "    <tr>\n",
       "      <th>3</th>\n",
       "      <td>1</td>\n",
       "      <td>89.0</td>\n",
       "      <td>66.0</td>\n",
       "      <td>23.0</td>\n",
       "      <td>94.0</td>\n",
       "      <td>28.1</td>\n",
       "      <td>0.167</td>\n",
       "      <td>21</td>\n",
       "      <td>0</td>\n",
       "    </tr>\n",
       "    <tr>\n",
       "      <th>4</th>\n",
       "      <td>0</td>\n",
       "      <td>137.0</td>\n",
       "      <td>40.0</td>\n",
       "      <td>35.0</td>\n",
       "      <td>168.0</td>\n",
       "      <td>43.1</td>\n",
       "      <td>2.288</td>\n",
       "      <td>33</td>\n",
       "      <td>1</td>\n",
       "    </tr>\n",
       "  </tbody>\n",
       "</table>\n",
       "</div>"
      ],
      "text/plain": [
       "   Pregnancies  Glucose  BloodPressure  SkinThickness  Insulin   BMI  \\\n",
       "0            6    148.0           72.0           35.0      NaN  33.6   \n",
       "1            1     85.0           66.0           29.0      NaN  26.6   \n",
       "2            8    183.0           64.0            NaN      NaN  23.3   \n",
       "3            1     89.0           66.0           23.0     94.0  28.1   \n",
       "4            0    137.0           40.0           35.0    168.0  43.1   \n",
       "\n",
       "   DiabetesPedigreeFunction  Age  Outcome  \n",
       "0                     0.627   50        1  \n",
       "1                     0.351   31        0  \n",
       "2                     0.672   32        1  \n",
       "3                     0.167   21        0  \n",
       "4                     2.288   33        1  "
      ]
     },
     "execution_count": 5,
     "metadata": {},
     "output_type": "execute_result"
    }
   ],
   "source": [
    "df.head()"
   ]
  },
  {
   "cell_type": "code",
   "execution_count": 6,
   "metadata": {},
   "outputs": [
    {
     "data": {
      "text/html": [
       "<div>\n",
       "<style scoped>\n",
       "    .dataframe tbody tr th:only-of-type {\n",
       "        vertical-align: middle;\n",
       "    }\n",
       "\n",
       "    .dataframe tbody tr th {\n",
       "        vertical-align: top;\n",
       "    }\n",
       "\n",
       "    .dataframe thead th {\n",
       "        text-align: right;\n",
       "    }\n",
       "</style>\n",
       "<table border=\"1\" class=\"dataframe\">\n",
       "  <thead>\n",
       "    <tr style=\"text-align: right;\">\n",
       "      <th></th>\n",
       "      <th>count</th>\n",
       "      <th>mean</th>\n",
       "      <th>std</th>\n",
       "      <th>min</th>\n",
       "      <th>25%</th>\n",
       "      <th>50%</th>\n",
       "      <th>75%</th>\n",
       "      <th>max</th>\n",
       "    </tr>\n",
       "  </thead>\n",
       "  <tbody>\n",
       "    <tr>\n",
       "      <th>Pregnancies</th>\n",
       "      <td>768.0</td>\n",
       "      <td>3.845052</td>\n",
       "      <td>3.369578</td>\n",
       "      <td>0.000</td>\n",
       "      <td>1.00000</td>\n",
       "      <td>3.0000</td>\n",
       "      <td>6.00000</td>\n",
       "      <td>17.00</td>\n",
       "    </tr>\n",
       "    <tr>\n",
       "      <th>Glucose</th>\n",
       "      <td>763.0</td>\n",
       "      <td>121.686763</td>\n",
       "      <td>30.535641</td>\n",
       "      <td>44.000</td>\n",
       "      <td>99.00000</td>\n",
       "      <td>117.0000</td>\n",
       "      <td>141.00000</td>\n",
       "      <td>199.00</td>\n",
       "    </tr>\n",
       "    <tr>\n",
       "      <th>BloodPressure</th>\n",
       "      <td>733.0</td>\n",
       "      <td>72.405184</td>\n",
       "      <td>12.382158</td>\n",
       "      <td>24.000</td>\n",
       "      <td>64.00000</td>\n",
       "      <td>72.0000</td>\n",
       "      <td>80.00000</td>\n",
       "      <td>122.00</td>\n",
       "    </tr>\n",
       "    <tr>\n",
       "      <th>SkinThickness</th>\n",
       "      <td>541.0</td>\n",
       "      <td>29.153420</td>\n",
       "      <td>10.476982</td>\n",
       "      <td>7.000</td>\n",
       "      <td>22.00000</td>\n",
       "      <td>29.0000</td>\n",
       "      <td>36.00000</td>\n",
       "      <td>99.00</td>\n",
       "    </tr>\n",
       "    <tr>\n",
       "      <th>Insulin</th>\n",
       "      <td>394.0</td>\n",
       "      <td>155.548223</td>\n",
       "      <td>118.775855</td>\n",
       "      <td>14.000</td>\n",
       "      <td>76.25000</td>\n",
       "      <td>125.0000</td>\n",
       "      <td>190.00000</td>\n",
       "      <td>846.00</td>\n",
       "    </tr>\n",
       "    <tr>\n",
       "      <th>BMI</th>\n",
       "      <td>757.0</td>\n",
       "      <td>32.457464</td>\n",
       "      <td>6.924988</td>\n",
       "      <td>18.200</td>\n",
       "      <td>27.50000</td>\n",
       "      <td>32.3000</td>\n",
       "      <td>36.60000</td>\n",
       "      <td>67.10</td>\n",
       "    </tr>\n",
       "    <tr>\n",
       "      <th>DiabetesPedigreeFunction</th>\n",
       "      <td>768.0</td>\n",
       "      <td>0.471876</td>\n",
       "      <td>0.331329</td>\n",
       "      <td>0.078</td>\n",
       "      <td>0.24375</td>\n",
       "      <td>0.3725</td>\n",
       "      <td>0.62625</td>\n",
       "      <td>2.42</td>\n",
       "    </tr>\n",
       "    <tr>\n",
       "      <th>Age</th>\n",
       "      <td>768.0</td>\n",
       "      <td>33.240885</td>\n",
       "      <td>11.760232</td>\n",
       "      <td>21.000</td>\n",
       "      <td>24.00000</td>\n",
       "      <td>29.0000</td>\n",
       "      <td>41.00000</td>\n",
       "      <td>81.00</td>\n",
       "    </tr>\n",
       "    <tr>\n",
       "      <th>Outcome</th>\n",
       "      <td>768.0</td>\n",
       "      <td>0.348958</td>\n",
       "      <td>0.476951</td>\n",
       "      <td>0.000</td>\n",
       "      <td>0.00000</td>\n",
       "      <td>0.0000</td>\n",
       "      <td>1.00000</td>\n",
       "      <td>1.00</td>\n",
       "    </tr>\n",
       "  </tbody>\n",
       "</table>\n",
       "</div>"
      ],
      "text/plain": [
       "                          count        mean         std     min       25%  \\\n",
       "Pregnancies               768.0    3.845052    3.369578   0.000   1.00000   \n",
       "Glucose                   763.0  121.686763   30.535641  44.000  99.00000   \n",
       "BloodPressure             733.0   72.405184   12.382158  24.000  64.00000   \n",
       "SkinThickness             541.0   29.153420   10.476982   7.000  22.00000   \n",
       "Insulin                   394.0  155.548223  118.775855  14.000  76.25000   \n",
       "BMI                       757.0   32.457464    6.924988  18.200  27.50000   \n",
       "DiabetesPedigreeFunction  768.0    0.471876    0.331329   0.078   0.24375   \n",
       "Age                       768.0   33.240885   11.760232  21.000  24.00000   \n",
       "Outcome                   768.0    0.348958    0.476951   0.000   0.00000   \n",
       "\n",
       "                               50%        75%     max  \n",
       "Pregnancies                 3.0000    6.00000   17.00  \n",
       "Glucose                   117.0000  141.00000  199.00  \n",
       "BloodPressure              72.0000   80.00000  122.00  \n",
       "SkinThickness              29.0000   36.00000   99.00  \n",
       "Insulin                   125.0000  190.00000  846.00  \n",
       "BMI                        32.3000   36.60000   67.10  \n",
       "DiabetesPedigreeFunction    0.3725    0.62625    2.42  \n",
       "Age                        29.0000   41.00000   81.00  \n",
       "Outcome                     0.0000    1.00000    1.00  "
      ]
     },
     "execution_count": 6,
     "metadata": {},
     "output_type": "execute_result"
    }
   ],
   "source": [
    "df.describe().T"
   ]
  },
  {
   "cell_type": "code",
   "execution_count": 7,
   "metadata": {},
   "outputs": [],
   "source": [
    "def median_target(var):   \n",
    "    temp = df[df[var].notnull()]\n",
    "    temp = temp[[var, 'Outcome']].groupby(['Outcome'])[[var]].median().reset_index()\n",
    "    return temp"
   ]
  },
  {
   "cell_type": "code",
   "execution_count": 8,
   "metadata": {},
   "outputs": [],
   "source": [
    "columns = df.columns\n",
    "columns = columns.drop(\"Outcome\")\n",
    "for i in columns:\n",
    "    median_target(i)\n",
    "    df.loc[(df['Outcome'] == 0 ) & (df[i].isnull()), i] = median_target(i)[i][0]\n",
    "    df.loc[(df['Outcome'] == 1 ) & (df[i].isnull()), i] = median_target(i)[i][1]"
   ]
  },
  {
   "cell_type": "code",
   "execution_count": 35,
   "metadata": {},
   "outputs": [
    {
     "name": "stdout",
     "output_type": "stream",
     "text": [
      "Pregnancies no\n",
      "Glucose no\n",
      "BloodPressure no\n",
      "SkinThickness yes\n",
      "Insulin yes\n",
      "BMI no\n",
      "DiabetesPedigreeFunction no\n",
      "Age no\n",
      "Outcome no\n"
     ]
    }
   ],
   "source": [
    "for feature in df:\n",
    "    \n",
    "    Q1 = df[feature].quantile(0.05)\n",
    "    Q3 = df[feature].quantile(0.95)\n",
    "    IQR = Q3-Q1\n",
    "    lower = Q1- 1.5*IQR\n",
    "    upper = Q3 + 1.5*IQR\n",
    "    \n",
    "    if df[(df[feature] > upper)].any(axis=None):\n",
    "        print(feature,\"yes\")\n",
    "    else:\n",
    "        print(feature, \"no\")"
   ]
  },
  {
   "cell_type": "code",
   "execution_count": null,
   "metadata": {},
   "outputs": [],
   "source": [
    "Q1 = df.Insulin.quantile(0.25)\n",
    "Q3 = df.Insulin.quantile(0.75)\n",
    "IQR = Q3-Q1\n",
    "lower = Q1 - 1.5*IQR\n",
    "upper = Q3 + 1.5*IQR\n",
    "df.loc[df[\"Insulin\"] > upper,\"Insulin\"] = upper"
   ]
  },
  {
   "cell_type": "code",
   "execution_count": null,
   "metadata": {},
   "outputs": [],
   "source": [
    "df.corr()"
   ]
  },
  {
   "cell_type": "code",
   "execution_count": null,
   "metadata": {},
   "outputs": [],
   "source": []
  },
  {
   "cell_type": "code",
   "execution_count": 10,
   "metadata": {},
   "outputs": [],
   "source": [
    "y = df[\"Outcome\"]\n",
    "X = df.drop([\"Outcome\"], axis=1)"
   ]
  },
  {
   "cell_type": "code",
   "execution_count": 11,
   "metadata": {},
   "outputs": [
    {
     "name": "stdout",
     "output_type": "stream",
     "text": [
      "Optimization terminated successfully.\n",
      "         Current function value: 0.561520\n",
      "         Iterations 6\n"
     ]
    },
    {
     "data": {
      "text/html": [
       "<table class=\"simpletable\">\n",
       "<caption>Logit Regression Results</caption>\n",
       "<tr>\n",
       "  <th>Dep. Variable:</th>        <td>Outcome</td>     <th>  No. Observations:  </th>  <td>   768</td>  \n",
       "</tr>\n",
       "<tr>\n",
       "  <th>Model:</th>                 <td>Logit</td>      <th>  Df Residuals:      </th>  <td>   760</td>  \n",
       "</tr>\n",
       "<tr>\n",
       "  <th>Method:</th>                 <td>MLE</td>       <th>  Df Model:          </th>  <td>     7</td>  \n",
       "</tr>\n",
       "<tr>\n",
       "  <th>Date:</th>            <td>Wed, 22 Jul 2020</td> <th>  Pseudo R-squ.:     </th>  <td>0.1318</td>  \n",
       "</tr>\n",
       "<tr>\n",
       "  <th>Time:</th>                <td>14:28:18</td>     <th>  Log-Likelihood:    </th> <td> -431.25</td> \n",
       "</tr>\n",
       "<tr>\n",
       "  <th>converged:</th>             <td>True</td>       <th>  LL-Null:           </th> <td> -496.74</td> \n",
       "</tr>\n",
       "<tr>\n",
       "  <th>Covariance Type:</th>     <td>nonrobust</td>    <th>  LLR p-value:       </th> <td>3.905e-25</td>\n",
       "</tr>\n",
       "</table>\n",
       "<table class=\"simpletable\">\n",
       "<tr>\n",
       "              <td></td>                <th>coef</th>     <th>std err</th>      <th>z</th>      <th>P>|z|</th>  <th>[0.025</th>    <th>0.975]</th>  \n",
       "</tr>\n",
       "<tr>\n",
       "  <th>Pregnancies</th>              <td>    0.1289</td> <td>    0.029</td> <td>    4.384</td> <td> 0.000</td> <td>    0.071</td> <td>    0.187</td>\n",
       "</tr>\n",
       "<tr>\n",
       "  <th>Glucose</th>                  <td>    0.0157</td> <td>    0.003</td> <td>    4.816</td> <td> 0.000</td> <td>    0.009</td> <td>    0.022</td>\n",
       "</tr>\n",
       "<tr>\n",
       "  <th>BloodPressure</th>            <td>   -0.0567</td> <td>    0.007</td> <td>   -7.944</td> <td> 0.000</td> <td>   -0.071</td> <td>   -0.043</td>\n",
       "</tr>\n",
       "<tr>\n",
       "  <th>SkinThickness</th>            <td>    0.0204</td> <td>    0.012</td> <td>    1.724</td> <td> 0.085</td> <td>   -0.003</td> <td>    0.044</td>\n",
       "</tr>\n",
       "<tr>\n",
       "  <th>Insulin</th>                  <td>    0.0057</td> <td>    0.001</td> <td>    4.404</td> <td> 0.000</td> <td>    0.003</td> <td>    0.008</td>\n",
       "</tr>\n",
       "<tr>\n",
       "  <th>BMI</th>                      <td>   -0.0101</td> <td>    0.015</td> <td>   -0.666</td> <td> 0.506</td> <td>   -0.040</td> <td>    0.020</td>\n",
       "</tr>\n",
       "<tr>\n",
       "  <th>DiabetesPedigreeFunction</th> <td>    0.3333</td> <td>    0.257</td> <td>    1.295</td> <td> 0.195</td> <td>   -0.171</td> <td>    0.838</td>\n",
       "</tr>\n",
       "<tr>\n",
       "  <th>Age</th>                      <td>   -0.0038</td> <td>    0.009</td> <td>   -0.420</td> <td> 0.675</td> <td>   -0.021</td> <td>    0.014</td>\n",
       "</tr>\n",
       "</table>"
      ],
      "text/plain": [
       "<class 'statsmodels.iolib.summary.Summary'>\n",
       "\"\"\"\n",
       "                           Logit Regression Results                           \n",
       "==============================================================================\n",
       "Dep. Variable:                Outcome   No. Observations:                  768\n",
       "Model:                          Logit   Df Residuals:                      760\n",
       "Method:                           MLE   Df Model:                            7\n",
       "Date:                Wed, 22 Jul 2020   Pseudo R-squ.:                  0.1318\n",
       "Time:                        14:28:18   Log-Likelihood:                -431.25\n",
       "converged:                       True   LL-Null:                       -496.74\n",
       "Covariance Type:            nonrobust   LLR p-value:                 3.905e-25\n",
       "============================================================================================\n",
       "                               coef    std err          z      P>|z|      [0.025      0.975]\n",
       "--------------------------------------------------------------------------------------------\n",
       "Pregnancies                  0.1289      0.029      4.384      0.000       0.071       0.187\n",
       "Glucose                      0.0157      0.003      4.816      0.000       0.009       0.022\n",
       "BloodPressure               -0.0567      0.007     -7.944      0.000      -0.071      -0.043\n",
       "SkinThickness                0.0204      0.012      1.724      0.085      -0.003       0.044\n",
       "Insulin                      0.0057      0.001      4.404      0.000       0.003       0.008\n",
       "BMI                         -0.0101      0.015     -0.666      0.506      -0.040       0.020\n",
       "DiabetesPedigreeFunction     0.3333      0.257      1.295      0.195      -0.171       0.838\n",
       "Age                         -0.0038      0.009     -0.420      0.675      -0.021       0.014\n",
       "============================================================================================\n",
       "\"\"\""
      ]
     },
     "execution_count": 11,
     "metadata": {},
     "output_type": "execute_result"
    }
   ],
   "source": [
    "#statsmodels\n",
    "loj = sm.Logit(y, X)\n",
    "loj_model= loj.fit()\n",
    "loj_model.summary()"
   ]
  },
  {
   "cell_type": "code",
   "execution_count": 12,
   "metadata": {},
   "outputs": [
    {
     "data": {
      "text/plain": [
       "LogisticRegression(C=1.0, class_weight=None, dual=False, fit_intercept=True,\n",
       "                   intercept_scaling=1, l1_ratio=None, max_iter=100,\n",
       "                   multi_class='auto', n_jobs=None, penalty='l2',\n",
       "                   random_state=None, solver='liblinear', tol=0.0001, verbose=0,\n",
       "                   warm_start=False)"
      ]
     },
     "execution_count": 12,
     "metadata": {},
     "output_type": "execute_result"
    }
   ],
   "source": [
    "\n",
    "#scikit-learn\n",
    "\n",
    "from sklearn.linear_model import LogisticRegression\n",
    "loj = LogisticRegression(solver = \"liblinear\")\n",
    "loj_model = loj.fit(X,y)\n",
    "loj_model"
   ]
  },
  {
   "cell_type": "code",
   "execution_count": 13,
   "metadata": {},
   "outputs": [
    {
     "data": {
      "text/plain": [
       "array([-5.91487844])"
      ]
     },
     "execution_count": 13,
     "metadata": {},
     "output_type": "execute_result"
    }
   ],
   "source": [
    "loj_model.intercept_"
   ]
  },
  {
   "cell_type": "code",
   "execution_count": 14,
   "metadata": {},
   "outputs": [
    {
     "data": {
      "text/plain": [
       "array([[ 0.11338684,  0.02441809, -0.02026553,  0.0295512 ,  0.00521104,\n",
       "         0.03514231,  0.54524119,  0.00716963]])"
      ]
     },
     "execution_count": 14,
     "metadata": {},
     "output_type": "execute_result"
    }
   ],
   "source": [
    "loj_model.coef_"
   ]
  },
  {
   "cell_type": "code",
   "execution_count": 15,
   "metadata": {},
   "outputs": [],
   "source": [
    "#Tahmin & Model Tuning"
   ]
  },
  {
   "cell_type": "code",
   "execution_count": 16,
   "metadata": {},
   "outputs": [],
   "source": [
    "y_pred = loj_model.predict(X)"
   ]
  },
  {
   "cell_type": "code",
   "execution_count": 17,
   "metadata": {},
   "outputs": [
    {
     "data": {
      "text/plain": [
       "array([[445,  55],\n",
       "       [116, 152]])"
      ]
     },
     "execution_count": 17,
     "metadata": {},
     "output_type": "execute_result"
    }
   ],
   "source": [
    "confusion_matrix(y, y_pred)"
   ]
  },
  {
   "cell_type": "code",
   "execution_count": 18,
   "metadata": {},
   "outputs": [
    {
     "data": {
      "text/plain": [
       "0.77734375"
      ]
     },
     "execution_count": 18,
     "metadata": {},
     "output_type": "execute_result"
    }
   ],
   "source": [
    "accuracy_score(y, y_pred)"
   ]
  },
  {
   "cell_type": "code",
   "execution_count": 19,
   "metadata": {},
   "outputs": [
    {
     "name": "stdout",
     "output_type": "stream",
     "text": [
      "              precision    recall  f1-score   support\n",
      "\n",
      "           0       0.79      0.89      0.84       500\n",
      "           1       0.73      0.57      0.64       268\n",
      "\n",
      "    accuracy                           0.78       768\n",
      "   macro avg       0.76      0.73      0.74       768\n",
      "weighted avg       0.77      0.78      0.77       768\n",
      "\n"
     ]
    }
   ],
   "source": [
    "print(classification_report(y, y_pred))"
   ]
  },
  {
   "cell_type": "code",
   "execution_count": 20,
   "metadata": {},
   "outputs": [
    {
     "data": {
      "text/plain": [
       "array([1, 0, 1, 0, 1, 0, 0, 0, 1, 0])"
      ]
     },
     "execution_count": 20,
     "metadata": {},
     "output_type": "execute_result"
    }
   ],
   "source": [
    "loj_model.predict(X)[0:10]"
   ]
  },
  {
   "cell_type": "code",
   "execution_count": 21,
   "metadata": {},
   "outputs": [
    {
     "data": {
      "text/plain": [
       "array([[0.32763647, 0.67236353],\n",
       "       [0.91084032, 0.08915968],\n",
       "       [0.19666207, 0.80333793],\n",
       "       [0.92871888, 0.07128112],\n",
       "       [0.17824716, 0.82175284],\n",
       "       [0.81134223, 0.18865777],\n",
       "       [0.86624194, 0.13375806],\n",
       "       [0.63134647, 0.36865353],\n",
       "       [0.03226269, 0.96773731],\n",
       "       [0.58736094, 0.41263906]])"
      ]
     },
     "execution_count": 21,
     "metadata": {},
     "output_type": "execute_result"
    }
   ],
   "source": [
    "loj_model.predict_proba(X)[0:10][:,0:2]"
   ]
  },
  {
   "cell_type": "code",
   "execution_count": 22,
   "metadata": {},
   "outputs": [
    {
     "data": {
      "text/plain": [
       "0    1\n",
       "1    0\n",
       "2    1\n",
       "3    0\n",
       "4    1\n",
       "5    0\n",
       "6    1\n",
       "7    0\n",
       "8    1\n",
       "9    1\n",
       "Name: Outcome, dtype: int64"
      ]
     },
     "execution_count": 22,
     "metadata": {},
     "output_type": "execute_result"
    }
   ],
   "source": [
    "y[0:10]"
   ]
  },
  {
   "cell_type": "code",
   "execution_count": 23,
   "metadata": {},
   "outputs": [],
   "source": [
    "y_probs = loj_model.predict_proba(X)\n",
    "y_probs = y_probs[:,1]"
   ]
  },
  {
   "cell_type": "code",
   "execution_count": 24,
   "metadata": {},
   "outputs": [
    {
     "data": {
      "text/plain": [
       "array([0.67236353, 0.08915968, 0.80333793, 0.07128112, 0.82175284,\n",
       "       0.18865777, 0.13375806, 0.36865353, 0.96773731, 0.41263906])"
      ]
     },
     "execution_count": 24,
     "metadata": {},
     "output_type": "execute_result"
    }
   ],
   "source": [
    "y_probs[0:10]"
   ]
  },
  {
   "cell_type": "code",
   "execution_count": 25,
   "metadata": {},
   "outputs": [],
   "source": [
    "y_pred = [1 if i > 0.5 else 0 for i in y_probs]"
   ]
  },
  {
   "cell_type": "code",
   "execution_count": 26,
   "metadata": {},
   "outputs": [
    {
     "data": {
      "text/plain": [
       "[1, 0, 1, 0, 1, 0, 0, 0, 1, 0]"
      ]
     },
     "execution_count": 26,
     "metadata": {},
     "output_type": "execute_result"
    }
   ],
   "source": [
    "y_pred[0:10]"
   ]
  },
  {
   "cell_type": "code",
   "execution_count": 27,
   "metadata": {},
   "outputs": [
    {
     "data": {
      "text/plain": [
       "array([[445,  55],\n",
       "       [116, 152]])"
      ]
     },
     "execution_count": 27,
     "metadata": {},
     "output_type": "execute_result"
    }
   ],
   "source": [
    "confusion_matrix(y, y_pred)"
   ]
  },
  {
   "cell_type": "code",
   "execution_count": 28,
   "metadata": {},
   "outputs": [
    {
     "data": {
      "text/plain": [
       "0.77734375"
      ]
     },
     "execution_count": 28,
     "metadata": {},
     "output_type": "execute_result"
    }
   ],
   "source": [
    "accuracy_score(y, y_pred)"
   ]
  },
  {
   "cell_type": "code",
   "execution_count": 29,
   "metadata": {},
   "outputs": [
    {
     "name": "stdout",
     "output_type": "stream",
     "text": [
      "              precision    recall  f1-score   support\n",
      "\n",
      "           0       0.79      0.89      0.84       500\n",
      "           1       0.73      0.57      0.64       268\n",
      "\n",
      "    accuracy                           0.78       768\n",
      "   macro avg       0.76      0.73      0.74       768\n",
      "weighted avg       0.77      0.78      0.77       768\n",
      "\n"
     ]
    }
   ],
   "source": [
    "print(classification_report(y, y_pred))"
   ]
  },
  {
   "cell_type": "code",
   "execution_count": 30,
   "metadata": {},
   "outputs": [
    {
     "data": {
      "text/plain": [
       "array([0.67236353, 0.08915968, 0.80333793, 0.07128112, 0.82175284])"
      ]
     },
     "execution_count": 30,
     "metadata": {},
     "output_type": "execute_result"
    }
   ],
   "source": [
    "loj_model.predict_proba(X)[:,1][0:5]"
   ]
  },
  {
   "cell_type": "code",
   "execution_count": 31,
   "metadata": {},
   "outputs": [
    {
     "data": {
      "image/png": "[encoded data removed]",
      "text/plain": [
       "<Figure size 432x288 with 1 Axes>"
      ]
     },
     "metadata": {
      "needs_background": "light"
     },
     "output_type": "display_data"
    }
   ],
   "source": [
    "logit_roc_auc = roc_auc_score(y, loj_model.predict(X))\n",
    "\n",
    "fpr, tpr, thresholds = roc_curve(y, loj_model.predict_proba(X)[:,1])\n",
    "plt.figure()\n",
    "plt.plot(fpr, tpr, label='AUC (area = %0.2f)' % logit_roc_auc)\n",
    "plt.plot([0, 1], [0, 1],'r--')\n",
    "plt.xlim([0.0, 1.0])\n",
    "plt.ylim([0.0, 1.05])\n",
    "plt.xlabel('False Positive Oranı')\n",
    "plt.ylabel('True Positive Oranı')\n",
    "plt.title('ROC')\n",
    "plt.show()"
   ]
  },
  {
   "cell_type": "code",
   "execution_count": 32,
   "metadata": {},
   "outputs": [],
   "source": [
    "X_train, X_test, y_train, y_test = train_test_split(X, y, \n",
    "                                                    test_size = 0.30, \n",
    "                                                    random_state = 42)\n",
    "\n"
   ]
  },
  {
   "cell_type": "code",
   "execution_count": 33,
   "metadata": {},
   "outputs": [
    {
     "data": {
      "text/plain": [
       "LogisticRegression(C=1.0, class_weight=None, dual=False, fit_intercept=True,\n",
       "                   intercept_scaling=1, l1_ratio=None, max_iter=100,\n",
       "                   multi_class='auto', n_jobs=None, penalty='l2',\n",
       "                   random_state=None, solver='liblinear', tol=0.0001, verbose=0,\n",
       "                   warm_start=False)"
      ]
     },
     "execution_count": 33,
     "metadata": {},
     "output_type": "execute_result"
    }
   ],
   "source": [
    "loj = LogisticRegression(solver = \"liblinear\")\n",
    "loj_model = loj.fit(X_train,y_train)\n",
    "loj_model"
   ]
  },
  {
   "cell_type": "code",
   "execution_count": 34,
   "metadata": {},
   "outputs": [
    {
     "data": {
      "text/plain": [
       "0.7532467532467533"
      ]
     },
     "execution_count": 34,
     "metadata": {},
     "output_type": "execute_result"
    }
   ],
   "source": [
    "accuracy_score(y_test, loj_model.predict(X_test))"
   ]
  },
  {
   "cell_type": "code",
   "execution_count": 65,
   "metadata": {},
   "outputs": [
    {
     "data": {
      "text/plain": [
       "0.6863636363636363"
      ]
     },
     "execution_count": 65,
     "metadata": {},
     "output_type": "execute_result"
    }
   ],
   "source": [
    "cross_val_score(loj_model, X_test, y_test, cv = 10).mean()"
   ]
  },
  {
   "cell_type": "code",
   "execution_count": null,
   "metadata": {},
   "outputs": [],
   "source": [
    "#Gaussian Naive Bayes"
   ]
  },
  {
   "cell_type": "code",
   "execution_count": 37,
   "metadata": {},
   "outputs": [],
   "source": [
    "from sklearn.naive_bayes import GaussianNB"
   ]
  },
  {
   "cell_type": "code",
   "execution_count": 38,
   "metadata": {},
   "outputs": [
    {
     "data": {
      "text/plain": [
       "GaussianNB(priors=None, var_smoothing=1e-09)"
      ]
     },
     "execution_count": 38,
     "metadata": {},
     "output_type": "execute_result"
    }
   ],
   "source": [
    "nb = GaussianNB()\n",
    "nb_model = nb.fit(X_train, y_train)\n",
    "nb_model"
   ]
  },
  {
   "cell_type": "code",
   "execution_count": 39,
   "metadata": {},
   "outputs": [
    {
     "data": {
      "text/plain": [
       "array([0, 0, 0, 0, 0, 1, 0, 0, 0, 1])"
      ]
     },
     "execution_count": 39,
     "metadata": {},
     "output_type": "execute_result"
    }
   ],
   "source": [
    "nb_model.predict(X_test)[0:10]"
   ]
  },
  {
   "cell_type": "code",
   "execution_count": 40,
   "metadata": {},
   "outputs": [
    {
     "data": {
      "text/plain": [
       "array([[7.81769176e-01, 2.18230824e-01],\n",
       "       [9.45779839e-01, 5.42201607e-02],\n",
       "       [9.87218781e-01, 1.27812192e-02],\n",
       "       [8.92020831e-01, 1.07979169e-01],\n",
       "       [5.02584044e-01, 4.97415956e-01],\n",
       "       [4.44724194e-01, 5.55275806e-01],\n",
       "       [9.99632121e-01, 3.67878815e-04],\n",
       "       [7.97349046e-01, 2.02650954e-01],\n",
       "       [5.44616944e-01, 4.55383056e-01],\n",
       "       [2.78176610e-01, 7.21823390e-01]])"
      ]
     },
     "execution_count": 40,
     "metadata": {},
     "output_type": "execute_result"
    }
   ],
   "source": [
    "nb_model.predict_proba(X_test)[0:10]"
   ]
  },
  {
   "cell_type": "code",
   "execution_count": 41,
   "metadata": {},
   "outputs": [],
   "source": [
    "y_pred = nb_model.predict(X_test)"
   ]
  },
  {
   "cell_type": "code",
   "execution_count": 42,
   "metadata": {},
   "outputs": [
    {
     "data": {
      "text/plain": [
       "0.7445887445887446"
      ]
     },
     "execution_count": 42,
     "metadata": {},
     "output_type": "execute_result"
    }
   ],
   "source": [
    "accuracy_score(y_test, y_pred)"
   ]
  },
  {
   "cell_type": "code",
   "execution_count": 43,
   "metadata": {},
   "outputs": [
    {
     "data": {
      "text/plain": [
       "0.7619565217391304"
      ]
     },
     "execution_count": 43,
     "metadata": {},
     "output_type": "execute_result"
    }
   ],
   "source": [
    "cross_val_score(nb_model, X_test, y_test, cv = 10).mean()"
   ]
  },
  {
   "cell_type": "markdown",
   "metadata": {},
   "source": [
    "**KNN\n",
    "Model & Tahmin**"
   ]
  },
  {
   "cell_type": "code",
   "execution_count": 50,
   "metadata": {},
   "outputs": [
    {
     "name": "stdout",
     "output_type": "stream",
     "text": [
      "KNeighborsClassifier(algorithm='auto', leaf_size=30, metric='minkowski',\n",
      "                     metric_params=None, n_jobs=None, n_neighbors=5, p=2,\n",
      "                     weights='uniform')\n"
     ]
    }
   ],
   "source": [
    "knn = KNeighborsClassifier()\n",
    "knn_model = knn.fit(X_train, y_train)\n",
    "knn_model"
   ]
  },
  {
   "cell_type": "code",
   "execution_count": 45,
   "metadata": {},
   "outputs": [],
   "source": [
    "y_pred = knn_model.predict(X_test)"
   ]
  },
  {
   "cell_type": "code",
   "execution_count": 46,
   "metadata": {},
   "outputs": [
    {
     "data": {
      "text/plain": [
       "0.8311688311688312"
      ]
     },
     "execution_count": 46,
     "metadata": {},
     "output_type": "execute_result"
    }
   ],
   "source": [
    "accuracy_score(y_test, y_pred)"
   ]
  },
  {
   "cell_type": "code",
   "execution_count": 47,
   "metadata": {},
   "outputs": [
    {
     "name": "stdout",
     "output_type": "stream",
     "text": [
      "              precision    recall  f1-score   support\n",
      "\n",
      "           0       0.88      0.86      0.87       151\n",
      "           1       0.75      0.78      0.76        80\n",
      "\n",
      "    accuracy                           0.83       231\n",
      "   macro avg       0.81      0.82      0.82       231\n",
      "weighted avg       0.83      0.83      0.83       231\n",
      "\n"
     ]
    }
   ],
   "source": [
    "print(classification_report(y_test, y_pred))"
   ]
  },
  {
   "cell_type": "code",
   "execution_count": 48,
   "metadata": {},
   "outputs": [],
   "source": [
    "#Model Tuning"
   ]
  },
  {
   "cell_type": "code",
   "execution_count": 51,
   "metadata": {},
   "outputs": [],
   "source": [
    "knn_params = {\"n_neighbors\": np.arange(1,50)}"
   ]
  },
  {
   "cell_type": "code",
   "execution_count": 52,
   "metadata": {},
   "outputs": [
    {
     "data": {
      "text/plain": [
       "GridSearchCV(cv=10, error_score=nan,\n",
       "             estimator=KNeighborsClassifier(algorithm='auto', leaf_size=30,\n",
       "                                            metric='minkowski',\n",
       "                                            metric_params=None, n_jobs=None,\n",
       "                                            n_neighbors=5, p=2,\n",
       "                                            weights='uniform'),\n",
       "             iid='deprecated', n_jobs=None,\n",
       "             param_grid={'n_neighbors': array([ 1,  2,  3,  4,  5,  6,  7,  8,  9, 10, 11, 12, 13, 14, 15, 16, 17,\n",
       "       18, 19, 20, 21, 22, 23, 24, 25, 26, 27, 28, 29, 30, 31, 32, 33, 34,\n",
       "       35, 36, 37, 38, 39, 40, 41, 42, 43, 44, 45, 46, 47, 48, 49])},\n",
       "             pre_dispatch='2*n_jobs', refit=True, return_train_score=False,\n",
       "             scoring=None, verbose=0)"
      ]
     },
     "execution_count": 52,
     "metadata": {},
     "output_type": "execute_result"
    }
   ],
   "source": [
    "knn = KNeighborsClassifier()\n",
    "knn_cv = GridSearchCV(knn, knn_params, cv=10)\n",
    "knn_cv.fit(X_train, y_train)"
   ]
  },
  {
   "cell_type": "code",
   "execution_count": 53,
   "metadata": {},
   "outputs": [
    {
     "name": "stdout",
     "output_type": "stream",
     "text": [
      "En iyi skor:0.8772536687631028\n",
      "En iyi parametreler: {'n_neighbors': 6}\n"
     ]
    }
   ],
   "source": [
    "print(\"En iyi skor:\" + str(knn_cv.best_score_))\n",
    "print(\"En iyi parametreler: \" + str(knn_cv.best_params_))"
   ]
  },
  {
   "cell_type": "code",
   "execution_count": 58,
   "metadata": {},
   "outputs": [],
   "source": [
    "knn = KNeighborsClassifier(11)\n",
    "knn_tuned = knn.fit(X_train, y_train)"
   ]
  },
  {
   "cell_type": "code",
   "execution_count": 59,
   "metadata": {},
   "outputs": [
    {
     "data": {
      "text/plain": [
       "0.8441558441558441"
      ]
     },
     "execution_count": 59,
     "metadata": {},
     "output_type": "execute_result"
    }
   ],
   "source": [
    "knn_tuned.score(X_test, y_test)"
   ]
  },
  {
   "cell_type": "code",
   "execution_count": 60,
   "metadata": {},
   "outputs": [],
   "source": [
    "y_pred = knn_tuned.predict(X_test)"
   ]
  },
  {
   "cell_type": "code",
   "execution_count": 61,
   "metadata": {},
   "outputs": [
    {
     "data": {
      "text/plain": [
       "0.8441558441558441"
      ]
     },
     "execution_count": 61,
     "metadata": {},
     "output_type": "execute_result"
    }
   ],
   "source": [
    "accuracy_score(y_test, y_pred)"
   ]
  },
  {
   "cell_type": "markdown",
   "metadata": {},
   "source": [
    "**SVC\n",
    "Model & Tahmin**"
   ]
  },
  {
   "cell_type": "code",
   "execution_count": 62,
   "metadata": {},
   "outputs": [],
   "source": [
    "svm_model = SVC(kernel = \"linear\").fit(X_train, y_train)"
   ]
  },
  {
   "cell_type": "code",
   "execution_count": 63,
   "metadata": {},
   "outputs": [
    {
     "data": {
      "text/plain": [
       "SVC(C=1.0, break_ties=False, cache_size=200, class_weight=None, coef0=0.0,\n",
       "    decision_function_shape='ovr', degree=3, gamma='scale', kernel='linear',\n",
       "    max_iter=-1, probability=False, random_state=None, shrinking=True,\n",
       "    tol=0.001, verbose=False)"
      ]
     },
     "execution_count": 63,
     "metadata": {},
     "output_type": "execute_result"
    }
   ],
   "source": [
    "svm_model"
   ]
  },
  {
   "cell_type": "code",
   "execution_count": 64,
   "metadata": {},
   "outputs": [],
   "source": [
    "y_pred = svm_model.predict(X_test)"
   ]
  },
  {
   "cell_type": "code",
   "execution_count": 65,
   "metadata": {},
   "outputs": [
    {
     "data": {
      "text/plain": [
       "0.7619047619047619"
      ]
     },
     "execution_count": 65,
     "metadata": {},
     "output_type": "execute_result"
    }
   ],
   "source": [
    "accuracy_score(y_test, y_pred)"
   ]
  },
  {
   "cell_type": "code",
   "execution_count": 66,
   "metadata": {},
   "outputs": [],
   "source": [
    "#Model Tuning¶"
   ]
  },
  {
   "cell_type": "code",
   "execution_count": 67,
   "metadata": {},
   "outputs": [
    {
     "name": "stdout",
     "output_type": "stream",
     "text": [
      "Fitting 10 folds for each of 9 candidates, totalling 90 fits\n"
     ]
    },
    {
     "name": "stderr",
     "output_type": "stream",
     "text": [
      "[Parallel(n_jobs=-1)]: Using backend LokyBackend with 4 concurrent workers.\n",
      "[Parallel(n_jobs=-1)]: Done  33 tasks      | elapsed:  1.5min\n",
      "[Parallel(n_jobs=-1)]: Done  90 out of  90 | elapsed:  7.2min finished\n"
     ]
    },
    {
     "data": {
      "text/plain": [
       "GridSearchCV(cv=10, error_score=nan,\n",
       "             estimator=SVC(C=1.0, break_ties=False, cache_size=200,\n",
       "                           class_weight=None, coef0=0.0,\n",
       "                           decision_function_shape='ovr', degree=3,\n",
       "                           gamma='scale', kernel='linear', max_iter=-1,\n",
       "                           probability=False, random_state=None, shrinking=True,\n",
       "                           tol=0.001, verbose=False),\n",
       "             iid='deprecated', n_jobs=-1,\n",
       "             param_grid={'C': array([1, 2, 3, 4, 5, 6, 7, 8, 9])},\n",
       "             pre_dispatch='2*n_jobs', refit=True, return_train_score=False,\n",
       "             scoring=None, verbose=2)"
      ]
     },
     "execution_count": 67,
     "metadata": {},
     "output_type": "execute_result"
    }
   ],
   "source": [
    "svc_params = {\"C\": np.arange(1,10)}\n",
    "\n",
    "svc = SVC(kernel = \"linear\")\n",
    "\n",
    "svc_cv_model = GridSearchCV(svc,svc_params, \n",
    "                            cv = 10, \n",
    "                            n_jobs = -1, \n",
    "                            verbose = 2 )\n",
    "\n",
    "svc_cv_model.fit(X_train, y_train)"
   ]
  },
  {
   "cell_type": "code",
   "execution_count": 68,
   "metadata": {},
   "outputs": [
    {
     "name": "stdout",
     "output_type": "stream",
     "text": [
      "En iyi parametreler: {'C': 5}\n"
     ]
    }
   ],
   "source": [
    "print(\"En iyi parametreler: \" + str(svc_cv_model.best_params_))"
   ]
  },
  {
   "cell_type": "code",
   "execution_count": 69,
   "metadata": {},
   "outputs": [],
   "source": [
    "svc_tuned = SVC(kernel = \"linear\", C = 5).fit(X_train, y_train)"
   ]
  },
  {
   "cell_type": "code",
   "execution_count": 70,
   "metadata": {},
   "outputs": [
    {
     "data": {
      "text/plain": [
       "0.7489177489177489"
      ]
     },
     "execution_count": 70,
     "metadata": {},
     "output_type": "execute_result"
    }
   ],
   "source": [
    "y_pred = svc_tuned.predict(X_test)\n",
    "accuracy_score(y_test, y_pred)"
   ]
  },
  {
   "cell_type": "markdown",
   "metadata": {},
   "source": [
    "**RBF SVC\n",
    "Model & Tahmin**\n",
    "\n"
   ]
  },
  {
   "cell_type": "code",
   "execution_count": 71,
   "metadata": {},
   "outputs": [],
   "source": [
    "svc_model = SVC(kernel = \"rbf\").fit(X_train, y_train)"
   ]
  },
  {
   "cell_type": "code",
   "execution_count": 72,
   "metadata": {},
   "outputs": [
    {
     "data": {
      "text/plain": [
       "SVC(C=1.0, break_ties=False, cache_size=200, class_weight=None, coef0=0.0,\n",
       "    decision_function_shape='ovr', degree=3, gamma='scale', kernel='rbf',\n",
       "    max_iter=-1, probability=False, random_state=None, shrinking=True,\n",
       "    tol=0.001, verbose=False)"
      ]
     },
     "execution_count": 72,
     "metadata": {},
     "output_type": "execute_result"
    }
   ],
   "source": [
    "svc_model"
   ]
  },
  {
   "cell_type": "code",
   "execution_count": 73,
   "metadata": {},
   "outputs": [
    {
     "data": {
      "text/plain": [
       "0.8311688311688312"
      ]
     },
     "execution_count": 73,
     "metadata": {},
     "output_type": "execute_result"
    }
   ],
   "source": [
    "y_pred = svc_model.predict(X_test)\n",
    "accuracy_score(y_test, y_pred)"
   ]
  },
  {
   "cell_type": "code",
   "execution_count": 75,
   "metadata": {},
   "outputs": [],
   "source": [
    "#Model Tuning"
   ]
  },
  {
   "cell_type": "code",
   "execution_count": 76,
   "metadata": {},
   "outputs": [],
   "source": [
    "svc_params = {\"C\": [0.0001, 0.001, 0.1, 1, 5, 10 ,50 ,100],\n",
    "             \"gamma\": [0.0001, 0.001, 0.1, 1, 5, 10 ,50 ,100]}"
   ]
  },
  {
   "cell_type": "code",
   "execution_count": 77,
   "metadata": {},
   "outputs": [
    {
     "name": "stdout",
     "output_type": "stream",
     "text": [
      "Fitting 10 folds for each of 64 candidates, totalling 640 fits\n"
     ]
    },
    {
     "name": "stderr",
     "output_type": "stream",
     "text": [
      "[Parallel(n_jobs=-1)]: Using backend LokyBackend with 4 concurrent workers.\n",
      "[Parallel(n_jobs=-1)]: Done  38 tasks      | elapsed:    2.1s\n",
      "[Parallel(n_jobs=-1)]: Done 640 out of 640 | elapsed:    6.3s finished\n"
     ]
    },
    {
     "data": {
      "text/plain": [
       "GridSearchCV(cv=10, error_score=nan,\n",
       "             estimator=SVC(C=1.0, break_ties=False, cache_size=200,\n",
       "                           class_weight=None, coef0=0.0,\n",
       "                           decision_function_shape='ovr', degree=3,\n",
       "                           gamma='scale', kernel='rbf', max_iter=-1,\n",
       "                           probability=False, random_state=None, shrinking=True,\n",
       "                           tol=0.001, verbose=False),\n",
       "             iid='deprecated', n_jobs=-1,\n",
       "             param_grid={'C': [0.0001, 0.001, 0.1, 1, 5, 10, 50, 100],\n",
       "                         'gamma': [0.0001, 0.001, 0.1, 1, 5, 10, 50, 100]},\n",
       "             pre_dispatch='2*n_jobs', refit=True, return_train_score=False,\n",
       "             scoring=None, verbose=2)"
      ]
     },
     "execution_count": 77,
     "metadata": {},
     "output_type": "execute_result"
    }
   ],
   "source": [
    "svc = SVC()\n",
    "svc_cv_model = GridSearchCV(svc, svc_params, \n",
    "                         cv = 10, \n",
    "                         n_jobs = -1,\n",
    "                         verbose = 2)\n",
    "\n",
    "svc_cv_model.fit(X_train, y_train)"
   ]
  },
  {
   "cell_type": "code",
   "execution_count": 78,
   "metadata": {},
   "outputs": [
    {
     "name": "stdout",
     "output_type": "stream",
     "text": [
      "En iyi parametreler: {'C': 10, 'gamma': 0.0001}\n"
     ]
    }
   ],
   "source": [
    "print(\"En iyi parametreler: \" + str(svc_cv_model.best_params_))"
   ]
  },
  {
   "cell_type": "code",
   "execution_count": 79,
   "metadata": {},
   "outputs": [],
   "source": [
    "svc_tuned = SVC(C = 10, gamma = 0.0001).fit(X_train, y_train)"
   ]
  },
  {
   "cell_type": "code",
   "execution_count": 80,
   "metadata": {},
   "outputs": [
    {
     "data": {
      "text/plain": [
       "0.8658008658008658"
      ]
     },
     "execution_count": 80,
     "metadata": {},
     "output_type": "execute_result"
    }
   ],
   "source": [
    "y_pred = svc_tuned.predict(X_test)\n",
    "accuracy_score(y_test, y_pred)"
   ]
  },
  {
   "cell_type": "markdown",
   "metadata": {},
   "source": [
    "**Yapay Sinir Ağları**\n",
    "**Model & Tahmin**\n"
   ]
  },
  {
   "cell_type": "code",
   "execution_count": 81,
   "metadata": {},
   "outputs": [],
   "source": [
    "from sklearn.preprocessing import StandardScaler  "
   ]
  },
  {
   "cell_type": "code",
   "execution_count": 82,
   "metadata": {},
   "outputs": [],
   "source": [
    "scaler = StandardScaler()"
   ]
  },
  {
   "cell_type": "code",
   "execution_count": 83,
   "metadata": {},
   "outputs": [],
   "source": [
    "scaler.fit(X_train)\n",
    "X_train_scaled = scaler.transform(X_train)\n",
    "X_test_scaled = scaler.transform(X_test)"
   ]
  },
  {
   "cell_type": "code",
   "execution_count": 84,
   "metadata": {},
   "outputs": [
    {
     "data": {
      "text/plain": [
       "array([[ 0.69748316, -0.79493621, -1.1655593 ,  0.49576916,  0.54064987,\n",
       "         0.24942794, -0.11680393,  0.85019217],\n",
       "       [-0.52953881, -0.33061095,  0.22780034,  0.37905366, -0.44248779,\n",
       "         0.49363941, -0.94192338, -1.03426754],\n",
       "       [-0.52953881, -0.46327531, -0.67378531, -0.20452379, -0.44248779,\n",
       "        -0.21026422, -0.91266382, -1.03426754],\n",
       "       [ 1.31099414, -0.4964414 ,  0.63761199, -0.20452379, -0.44248779,\n",
       "        -1.1009178 ,  1.12965312,  0.07927683],\n",
       "       [ 1.00423865,  0.46537521,  1.45723531, -0.20452379, -0.44248779,\n",
       "        -0.33955265, -0.76051413,  1.44979298]])"
      ]
     },
     "execution_count": 84,
     "metadata": {},
     "output_type": "execute_result"
    }
   ],
   "source": [
    "X_test_scaled[0:5]"
   ]
  },
  {
   "cell_type": "code",
   "execution_count": 85,
   "metadata": {},
   "outputs": [],
   "source": [
    "from sklearn.neural_network import MLPClassifier"
   ]
  },
  {
   "cell_type": "code",
   "execution_count": 86,
   "metadata": {},
   "outputs": [],
   "source": [
    "mlpc = MLPClassifier().fit(X_train_scaled, y_train)"
   ]
  },
  {
   "cell_type": "code",
   "execution_count": 87,
   "metadata": {},
   "outputs": [
    {
     "data": {
      "text/plain": [
       "0.8311688311688312"
      ]
     },
     "execution_count": 87,
     "metadata": {},
     "output_type": "execute_result"
    }
   ],
   "source": [
    "y_pred = mlpc.predict(X_test_scaled)\n",
    "accuracy_score(y_test, y_pred)"
   ]
  },
  {
   "cell_type": "code",
   "execution_count": 88,
   "metadata": {},
   "outputs": [],
   "source": [
    "#Model Tuning"
   ]
  },
  {
   "cell_type": "code",
   "execution_count": 89,
   "metadata": {},
   "outputs": [
    {
     "data": {
      "text/plain": [
       "MLPClassifier(activation='relu', alpha=0.0001, batch_size='auto', beta_1=0.9,\n",
       "              beta_2=0.999, early_stopping=False, epsilon=1e-08,\n",
       "              hidden_layer_sizes=(100,), learning_rate='constant',\n",
       "              learning_rate_init=0.001, max_fun=15000, max_iter=200,\n",
       "              momentum=0.9, n_iter_no_change=10, nesterovs_momentum=True,\n",
       "              power_t=0.5, random_state=None, shuffle=True, solver='adam',\n",
       "              tol=0.0001, validation_fraction=0.1, verbose=False,\n",
       "              warm_start=False)"
      ]
     },
     "execution_count": 89,
     "metadata": {},
     "output_type": "execute_result"
    }
   ],
   "source": [
    "mlpc"
   ]
  },
  {
   "cell_type": "code",
   "execution_count": 90,
   "metadata": {},
   "outputs": [],
   "source": [
    "mlpc_params = {\"alpha\": [0.1, 0.01, 0.02, 0.005, 0.0001,0.00001],\n",
    "              \"hidden_layer_sizes\": [(10,10,10),\n",
    "                                     (100,100,100),\n",
    "                                     (100,100),\n",
    "                                     (3,5), \n",
    "                                     (5, 3)],\n",
    "              \"solver\" : [\"lbfgs\",\"adam\",\"sgd\"],\n",
    "              \"activation\": [\"relu\",\"logistic\"]}\n",
    "\n"
   ]
  },
  {
   "cell_type": "code",
   "execution_count": 91,
   "metadata": {},
   "outputs": [
    {
     "name": "stdout",
     "output_type": "stream",
     "text": [
      "Fitting 10 folds for each of 180 candidates, totalling 1800 fits\n"
     ]
    },
    {
     "name": "stderr",
     "output_type": "stream",
     "text": [
      "[Parallel(n_jobs=-1)]: Using backend LokyBackend with 4 concurrent workers.\n",
      "[Parallel(n_jobs=-1)]: Done  45 tasks      | elapsed:   27.4s\n",
      "[Parallel(n_jobs=-1)]: Done 166 tasks      | elapsed:  1.4min\n",
      "[Parallel(n_jobs=-1)]: Done 369 tasks      | elapsed:  3.5min\n",
      "[Parallel(n_jobs=-1)]: Done 652 tasks      | elapsed:  5.6min\n",
      "[Parallel(n_jobs=-1)]: Done 1017 tasks      | elapsed:  8.3min\n",
      "[Parallel(n_jobs=-1)]: Done 1462 tasks      | elapsed: 11.5min\n",
      "[Parallel(n_jobs=-1)]: Done 1800 out of 1800 | elapsed: 13.6min finished\n"
     ]
    },
    {
     "data": {
      "text/plain": [
       "GridSearchCV(cv=10, error_score=nan,\n",
       "             estimator=MLPClassifier(activation='relu', alpha=0.0001,\n",
       "                                     batch_size='auto', beta_1=0.9,\n",
       "                                     beta_2=0.999, early_stopping=False,\n",
       "                                     epsilon=1e-08, hidden_layer_sizes=(100,),\n",
       "                                     learning_rate='constant',\n",
       "                                     learning_rate_init=0.001, max_fun=15000,\n",
       "                                     max_iter=200, momentum=0.9,\n",
       "                                     n_iter_no_change=10,\n",
       "                                     nesterovs_momentum=True, power_t=0.5,\n",
       "                                     random_stat...\n",
       "                                     validation_fraction=0.1, verbose=False,\n",
       "                                     warm_start=False),\n",
       "             iid='deprecated', n_jobs=-1,\n",
       "             param_grid={'activation': ['relu', 'logistic'],\n",
       "                         'alpha': [0.1, 0.01, 0.02, 0.005, 0.0001, 1e-05],\n",
       "                         'hidden_layer_sizes': [(10, 10, 10), (100, 100, 100),\n",
       "                                                (100, 100), (3, 5), (5, 3)],\n",
       "                         'solver': ['lbfgs', 'adam', 'sgd']},\n",
       "             pre_dispatch='2*n_jobs', refit=True, return_train_score=False,\n",
       "             scoring=None, verbose=2)"
      ]
     },
     "execution_count": 91,
     "metadata": {},
     "output_type": "execute_result"
    }
   ],
   "source": [
    "mlpc = MLPClassifier()\n",
    "mlpc_cv_model = GridSearchCV(mlpc, mlpc_params, \n",
    "                         cv = 10, \n",
    "                         n_jobs = -1,\n",
    "                         verbose = 2)\n",
    "\n",
    "mlpc_cv_model.fit(X_train_scaled, y_train)"
   ]
  },
  {
   "cell_type": "code",
   "execution_count": 92,
   "metadata": {},
   "outputs": [
    {
     "name": "stdout",
     "output_type": "stream",
     "text": [
      "En iyi parametreler: {'activation': 'relu', 'alpha': 0.005, 'hidden_layer_sizes': (10, 10, 10), 'solver': 'adam'}\n"
     ]
    }
   ],
   "source": [
    "print(\"En iyi parametreler: \" + str(mlpc_cv_model.best_params_))"
   ]
  },
  {
   "cell_type": "code",
   "execution_count": 93,
   "metadata": {},
   "outputs": [],
   "source": [
    "mlpc_tuned = MLPClassifier(activation = \"logistic\", \n",
    "                           alpha = 0.1, \n",
    "                           hidden_layer_sizes = (100, 100, 100),\n",
    "                          solver = \"adam\")"
   ]
  },
  {
   "cell_type": "code",
   "execution_count": 94,
   "metadata": {},
   "outputs": [
    {
     "data": {
      "text/plain": [
       "MLPClassifier(activation='logistic', alpha=0.1, batch_size='auto', beta_1=0.9,\n",
       "              beta_2=0.999, early_stopping=False, epsilon=1e-08,\n",
       "              hidden_layer_sizes=(100, 100, 100), learning_rate='constant',\n",
       "              learning_rate_init=0.001, max_fun=15000, max_iter=200,\n",
       "              momentum=0.9, n_iter_no_change=10, nesterovs_momentum=True,\n",
       "              power_t=0.5, random_state=None, shuffle=True, solver='adam',\n",
       "              tol=0.0001, validation_fraction=0.1, verbose=False,\n",
       "              warm_start=False)"
      ]
     },
     "execution_count": 94,
     "metadata": {},
     "output_type": "execute_result"
    }
   ],
   "source": [
    "mlpc_tuned.fit(X_train_scaled, y_train)"
   ]
  },
  {
   "cell_type": "code",
   "execution_count": 95,
   "metadata": {},
   "outputs": [
    {
     "data": {
      "text/plain": [
       "0.7965367965367965"
      ]
     },
     "execution_count": 95,
     "metadata": {},
     "output_type": "execute_result"
    }
   ],
   "source": [
    "y_pred = mlpc_tuned.predict(X_test_scaled)\n",
    "accuracy_score(y_test, y_pred)"
   ]
  },
  {
   "cell_type": "markdown",
   "metadata": {},
   "source": [
    "**CART\n",
    "Model & Tahmin**"
   ]
  },
  {
   "cell_type": "code",
   "execution_count": 96,
   "metadata": {},
   "outputs": [],
   "source": [
    "from sklearn.tree import DecisionTreeClassifier"
   ]
  },
  {
   "cell_type": "code",
   "execution_count": 97,
   "metadata": {},
   "outputs": [],
   "source": [
    "cart = DecisionTreeClassifier()\n",
    "cart_model = cart.fit(X_train, y_train)"
   ]
  },
  {
   "cell_type": "code",
   "execution_count": 98,
   "metadata": {},
   "outputs": [
    {
     "data": {
      "text/plain": [
       "DecisionTreeClassifier(ccp_alpha=0.0, class_weight=None, criterion='gini',\n",
       "                       max_depth=None, max_features=None, max_leaf_nodes=None,\n",
       "                       min_impurity_decrease=0.0, min_impurity_split=None,\n",
       "                       min_samples_leaf=1, min_samples_split=2,\n",
       "                       min_weight_fraction_leaf=0.0, presort='deprecated',\n",
       "                       random_state=None, splitter='best')"
      ]
     },
     "execution_count": 98,
     "metadata": {},
     "output_type": "execute_result"
    }
   ],
   "source": [
    "cart_model"
   ]
  },
  {
   "cell_type": "code",
   "execution_count": 122,
   "metadata": {},
   "outputs": [
    {
     "name": "stdout",
     "output_type": "stream",
     "text": [
      "Requirement already satisfied: skompiler in /opt/anaconda3/lib/python3.7/site-packages (0.5.5)\n",
      "Requirement already satisfied: scikit-learn in /opt/anaconda3/lib/python3.7/site-packages (from skompiler) (0.23.1)\n",
      "Requirement already satisfied: numpy>=1.13.3 in /opt/anaconda3/lib/python3.7/site-packages (from scikit-learn->skompiler) (1.18.1)\n",
      "Requirement already satisfied: joblib>=0.11 in /opt/anaconda3/lib/python3.7/site-packages (from scikit-learn->skompiler) (0.14.1)\n",
      "Requirement already satisfied: threadpoolctl>=2.0.0 in /opt/anaconda3/lib/python3.7/site-packages (from scikit-learn->skompiler) (2.1.0)\n",
      "Requirement already satisfied: scipy>=0.19.1 in /opt/anaconda3/lib/python3.7/site-packages (from scikit-learn->skompiler) (1.4.1)\n",
      "Collecting astor\n",
      "  Downloading astor-0.8.1-py2.py3-none-any.whl (27 kB)\n",
      "Installing collected packages: astor\n",
      "Successfully installed astor-0.8.1\n",
      "((((((((0 if x[6] <= 0.6754999756813049 else (1 if x[3] <= 13.5 else 0) if \n",
      "    x[4] <= 90.0 else 1) if x[4] <= 95.5 else 1) if x[1] <= 127.0 else 0 if\n",
      "    x[5] <= 27.300000190734863 else 1) if x[4] <= 98.0 else 0) if x[1] <= \n",
      "    154.5 else (0 if x[4] <= 80.0 else 1) if x[7] <= 40.0 else 0) if x[5] <=\n",
      "    50.85000038146973 else 1) if x[4] <= 109.0 else ((0 if x[0] <= 4.5 else\n",
      "    1 if x[7] <= 27.5 else 0) if x[0] <= 7.5 else 1) if x[1] <= 124.5 else \n",
      "    ((0 if x[7] <= 36.5 else 1) if x[1] <= 127.0 else 0 if x[2] <= 63.0 else\n",
      "    1) if x[4] <= 132.5 else 1 if x[0] <= 3.0 else 0) if x[4] <= 143.0 else\n",
      "    ((0 if x[5] <= 30.300000190734863 else (0 if x[3] <= 29.5 else 1) if x[\n",
      "    1] <= 127.5 else (1 if x[0] <= 0.5 else 0) if x[3] <= 24.0 else 1) if x\n",
      "    [3] <= 30.5 else (0 if x[4] <= 158.5 else 1) if x[4] <= 169.75 else (1 if\n",
      "    x[2] <= 55.0 else 0 if x[5] <= 41.44999885559082 else 1 if x[7] <= 25.0\n",
      "     else 0) if x[1] <= 169.0 else 1) if x[7] <= 28.5 else ((1 if x[5] <= \n",
      "    31.600000381469727 else 1 if x[0] <= 5.0 else 0 if x[7] <= 49.5 else 1) if\n",
      "    x[3] <= 26.5 else 1) if x[4] <= 175.5 else ((0 if x[6] <= \n",
      "    0.5349999964237213 else 1 if x[3] <= 29.0 else 1 if x[1] <= 101.5 else \n",
      "    0) if x[1] <= 157.5 else 1 if x[5] <= 36.10000038146973 else 0) if x[2] <=\n",
      "    75.0 else 0 if x[4] <= 178.0 else 1 if x[6] <= 1.0979999899864197 else 0)\n",
      "\n"
     ]
    }
   ],
   "source": [
    "!pip install skompiler\n",
    "!pip install astor\n",
    "from skompiler import skompile\n",
    "print(skompile(cart_model.predict).to(\"python/code\"))\n"
   ]
  },
  {
   "cell_type": "code",
   "execution_count": 123,
   "metadata": {},
   "outputs": [],
   "source": [
    "x = [9]"
   ]
  },
  {
   "cell_type": "code",
   "execution_count": 126,
   "metadata": {},
   "outputs": [
    {
     "data": {
      "text/plain": [
       "1"
      ]
     },
     "execution_count": 126,
     "metadata": {},
     "output_type": "execute_result"
    }
   ],
   "source": [
    "0 if x[0] <= 2.5 else 0 if x[0] <= 6.5 else 1 if x[0] <= 13.5 else 1"
   ]
  },
  {
   "cell_type": "code",
   "execution_count": 127,
   "metadata": {},
   "outputs": [
    {
     "data": {
      "text/plain": [
       "0.8311688311688312"
      ]
     },
     "execution_count": 127,
     "metadata": {},
     "output_type": "execute_result"
    }
   ],
   "source": [
    "y_pred = cart_model.predict(X_test)\n",
    "accuracy_score(y_test, y_pred)"
   ]
  },
  {
   "cell_type": "code",
   "execution_count": null,
   "metadata": {},
   "outputs": [],
   "source": [
    "#Model Tuning"
   ]
  },
  {
   "cell_type": "code",
   "execution_count": 128,
   "metadata": {},
   "outputs": [
    {
     "data": {
      "text/plain": [
       "DecisionTreeClassifier(ccp_alpha=0.0, class_weight=None, criterion='gini',\n",
       "                       max_depth=None, max_features=None, max_leaf_nodes=None,\n",
       "                       min_impurity_decrease=0.0, min_impurity_split=None,\n",
       "                       min_samples_leaf=1, min_samples_split=2,\n",
       "                       min_weight_fraction_leaf=0.0, presort='deprecated',\n",
       "                       random_state=None, splitter='best')"
      ]
     },
     "execution_count": 128,
     "metadata": {},
     "output_type": "execute_result"
    }
   ],
   "source": [
    "cart_model"
   ]
  },
  {
   "cell_type": "code",
   "execution_count": 129,
   "metadata": {},
   "outputs": [],
   "source": [
    "cart_grid = {\"max_depth\": range(1,10),\n",
    "            \"min_samples_split\" : list(range(2,50)) }"
   ]
  },
  {
   "cell_type": "code",
   "execution_count": 130,
   "metadata": {},
   "outputs": [
    {
     "name": "stdout",
     "output_type": "stream",
     "text": [
      "Fitting 10 folds for each of 432 candidates, totalling 4320 fits\n"
     ]
    },
    {
     "name": "stderr",
     "output_type": "stream",
     "text": [
      "[Parallel(n_jobs=-1)]: Using backend LokyBackend with 4 concurrent workers.\n",
      "[Parallel(n_jobs=-1)]: Done  38 tasks      | elapsed:    2.3s\n",
      "[Parallel(n_jobs=-1)]: Done 1772 tasks      | elapsed:    6.9s\n",
      "[Parallel(n_jobs=-1)]: Done 4320 out of 4320 | elapsed:   14.6s finished\n"
     ]
    }
   ],
   "source": [
    "cart = tree.DecisionTreeClassifier()\n",
    "cart_cv = GridSearchCV(cart, cart_grid, cv = 10, n_jobs = -1, verbose = 2)\n",
    "cart_cv_model = cart_cv.fit(X_train, y_train)"
   ]
  },
  {
   "cell_type": "code",
   "execution_count": 131,
   "metadata": {},
   "outputs": [
    {
     "name": "stdout",
     "output_type": "stream",
     "text": [
      "En iyi parametreler: {'max_depth': 5, 'min_samples_split': 14}\n"
     ]
    }
   ],
   "source": [
    "print(\"En iyi parametreler: \" + str(cart_cv_model.best_params_))"
   ]
  },
  {
   "cell_type": "code",
   "execution_count": null,
   "metadata": {},
   "outputs": [],
   "source": [
    "#final"
   ]
  },
  {
   "cell_type": "code",
   "execution_count": 132,
   "metadata": {},
   "outputs": [],
   "source": [
    "cart = tree.DecisionTreeClassifier(max_depth = 5, min_samples_split = 19)\n",
    "cart_tuned = cart.fit(X_train, y_train)"
   ]
  },
  {
   "cell_type": "code",
   "execution_count": 133,
   "metadata": {},
   "outputs": [
    {
     "data": {
      "text/plain": [
       "0.8614718614718615"
      ]
     },
     "execution_count": 133,
     "metadata": {},
     "output_type": "execute_result"
    }
   ],
   "source": [
    "y_pred = cart_tuned.predict(X_test)\n",
    "accuracy_score(y_test, y_pred)"
   ]
  },
  {
   "cell_type": "markdown",
   "metadata": {},
   "source": [
    "# Random Forests"
   ]
  },
  {
   "cell_type": "code",
   "execution_count": 134,
   "metadata": {},
   "outputs": [],
   "source": [
    "from sklearn.ensemble import RandomForestClassifier"
   ]
  },
  {
   "cell_type": "code",
   "execution_count": 135,
   "metadata": {},
   "outputs": [],
   "source": [
    "rf_model = RandomForestClassifier().fit(X_train, y_train)"
   ]
  },
  {
   "cell_type": "code",
   "execution_count": 136,
   "metadata": {},
   "outputs": [
    {
     "data": {
      "text/plain": [
       "RandomForestClassifier(bootstrap=True, ccp_alpha=0.0, class_weight=None,\n",
       "                       criterion='gini', max_depth=None, max_features='auto',\n",
       "                       max_leaf_nodes=None, max_samples=None,\n",
       "                       min_impurity_decrease=0.0, min_impurity_split=None,\n",
       "                       min_samples_leaf=1, min_samples_split=2,\n",
       "                       min_weight_fraction_leaf=0.0, n_estimators=100,\n",
       "                       n_jobs=None, oob_score=False, random_state=None,\n",
       "                       verbose=0, warm_start=False)"
      ]
     },
     "execution_count": 136,
     "metadata": {},
     "output_type": "execute_result"
    }
   ],
   "source": [
    "rf_model"
   ]
  },
  {
   "cell_type": "code",
   "execution_count": null,
   "metadata": {},
   "outputs": [],
   "source": [
    "y_pred = rf_model.predict(X_test)\n",
    "accuracy_score(y_test, y_pred)"
   ]
  },
  {
   "cell_type": "code",
   "execution_count": null,
   "metadata": {},
   "outputs": [],
   "source": [
    "#Model Tuning"
   ]
  },
  {
   "cell_type": "code",
   "execution_count": 137,
   "metadata": {},
   "outputs": [
    {
     "data": {
      "text/plain": [
       "RandomForestClassifier(bootstrap=True, ccp_alpha=0.0, class_weight=None,\n",
       "                       criterion='gini', max_depth=None, max_features='auto',\n",
       "                       max_leaf_nodes=None, max_samples=None,\n",
       "                       min_impurity_decrease=0.0, min_impurity_split=None,\n",
       "                       min_samples_leaf=1, min_samples_split=2,\n",
       "                       min_weight_fraction_leaf=0.0, n_estimators=100,\n",
       "                       n_jobs=None, oob_score=False, random_state=None,\n",
       "                       verbose=0, warm_start=False)"
      ]
     },
     "execution_count": 137,
     "metadata": {},
     "output_type": "execute_result"
    }
   ],
   "source": [
    "rf_model"
   ]
  },
  {
   "cell_type": "code",
   "execution_count": 138,
   "metadata": {},
   "outputs": [
    {
     "data": {
      "text/plain": [
       "\u001b[0;31mType:\u001b[0m        RandomForestClassifier\n",
       "\u001b[0;31mString form:\u001b[0m\n",
       "RandomForestClassifier(bootstrap=True, ccp_alpha=0.0, class_weight=None,\n",
       "           c <...> obs=None, oob_score=False, random_state=None,\n",
       "           verbose=0, warm_start=False)\n",
       "\u001b[0;31mLength:\u001b[0m      100\n",
       "\u001b[0;31mFile:\u001b[0m        /opt/anaconda3/lib/python3.7/site-packages/sklearn/ensemble/_forest.py\n",
       "\u001b[0;31mDocstring:\u001b[0m  \n",
       "A random forest classifier.\n",
       "\n",
       "A random forest is a meta estimator that fits a number of decision tree\n",
       "classifiers on various sub-samples of the dataset and uses averaging to\n",
       "improve the predictive accuracy and control over-fitting.\n",
       "The sub-sample size is always the same as the original\n",
       "input sample size but the samples are drawn with replacement if\n",
       "`bootstrap=True` (default).\n",
       "\n",
       "Read more in the :ref:`User Guide <forest>`.\n",
       "\n",
       "Parameters\n",
       "----------\n",
       "n_estimators : integer, optional (default=100)\n",
       "    The number of trees in the forest.\n",
       "\n",
       "    .. versionchanged:: 0.22\n",
       "       The default value of ``n_estimators`` changed from 10 to 100\n",
       "       in 0.22.\n",
       "\n",
       "criterion : string, optional (default=\"gini\")\n",
       "    The function to measure the quality of a split. Supported criteria are\n",
       "    \"gini\" for the Gini impurity and \"entropy\" for the information gain.\n",
       "    Note: this parameter is tree-specific.\n",
       "\n",
       "max_depth : integer or None, optional (default=None)\n",
       "    The maximum depth of the tree. If None, then nodes are expanded until\n",
       "    all leaves are pure or until all leaves contain less than\n",
       "    min_samples_split samples.\n",
       "\n",
       "min_samples_split : int, float, optional (default=2)\n",
       "    The minimum number of samples required to split an internal node:\n",
       "\n",
       "    - If int, then consider `min_samples_split` as the minimum number.\n",
       "    - If float, then `min_samples_split` is a fraction and\n",
       "      `ceil(min_samples_split * n_samples)` are the minimum\n",
       "      number of samples for each split.\n",
       "\n",
       "    .. versionchanged:: 0.18\n",
       "       Added float values for fractions.\n",
       "\n",
       "min_samples_leaf : int, float, optional (default=1)\n",
       "    The minimum number of samples required to be at a leaf node.\n",
       "    A split point at any depth will only be considered if it leaves at\n",
       "    least ``min_samples_leaf`` training samples in each of the left and\n",
       "    right branches.  This may have the effect of smoothing the model,\n",
       "    especially in regression.\n",
       "\n",
       "    - If int, then consider `min_samples_leaf` as the minimum number.\n",
       "    - If float, then `min_samples_leaf` is a fraction and\n",
       "      `ceil(min_samples_leaf * n_samples)` are the minimum\n",
       "      number of samples for each node.\n",
       "\n",
       "    .. versionchanged:: 0.18\n",
       "       Added float values for fractions.\n",
       "\n",
       "min_weight_fraction_leaf : float, optional (default=0.)\n",
       "    The minimum weighted fraction of the sum total of weights (of all\n",
       "    the input samples) required to be at a leaf node. Samples have\n",
       "    equal weight when sample_weight is not provided.\n",
       "\n",
       "max_features : int, float, string or None, optional (default=\"auto\")\n",
       "    The number of features to consider when looking for the best split:\n",
       "\n",
       "    - If int, then consider `max_features` features at each split.\n",
       "    - If float, then `max_features` is a fraction and\n",
       "      `int(max_features * n_features)` features are considered at each\n",
       "      split.\n",
       "    - If \"auto\", then `max_features=sqrt(n_features)`.\n",
       "    - If \"sqrt\", then `max_features=sqrt(n_features)` (same as \"auto\").\n",
       "    - If \"log2\", then `max_features=log2(n_features)`.\n",
       "    - If None, then `max_features=n_features`.\n",
       "\n",
       "    Note: the search for a split does not stop until at least one\n",
       "    valid partition of the node samples is found, even if it requires to\n",
       "    effectively inspect more than ``max_features`` features.\n",
       "\n",
       "max_leaf_nodes : int or None, optional (default=None)\n",
       "    Grow trees with ``max_leaf_nodes`` in best-first fashion.\n",
       "    Best nodes are defined as relative reduction in impurity.\n",
       "    If None then unlimited number of leaf nodes.\n",
       "\n",
       "min_impurity_decrease : float, optional (default=0.)\n",
       "    A node will be split if this split induces a decrease of the impurity\n",
       "    greater than or equal to this value.\n",
       "\n",
       "    The weighted impurity decrease equation is the following::\n",
       "\n",
       "        N_t / N * (impurity - N_t_R / N_t * right_impurity\n",
       "                            - N_t_L / N_t * left_impurity)\n",
       "\n",
       "    where ``N`` is the total number of samples, ``N_t`` is the number of\n",
       "    samples at the current node, ``N_t_L`` is the number of samples in the\n",
       "    left child, and ``N_t_R`` is the number of samples in the right child.\n",
       "\n",
       "    ``N``, ``N_t``, ``N_t_R`` and ``N_t_L`` all refer to the weighted sum,\n",
       "    if ``sample_weight`` is passed.\n",
       "\n",
       "    .. versionadded:: 0.19\n",
       "\n",
       "min_impurity_split : float, (default=1e-7)\n",
       "    Threshold for early stopping in tree growth. A node will split\n",
       "    if its impurity is above the threshold, otherwise it is a leaf.\n",
       "\n",
       "    .. deprecated:: 0.19\n",
       "       ``min_impurity_split`` has been deprecated in favor of\n",
       "       ``min_impurity_decrease`` in 0.19. The default value of\n",
       "       ``min_impurity_split`` will change from 1e-7 to 0 in 0.23 and it\n",
       "       will be removed in 0.25. Use ``min_impurity_decrease`` instead.\n",
       "\n",
       "\n",
       "bootstrap : boolean, optional (default=True)\n",
       "    Whether bootstrap samples are used when building trees. If False, the\n",
       "    whole datset is used to build each tree.\n",
       "\n",
       "oob_score : bool (default=False)\n",
       "    Whether to use out-of-bag samples to estimate\n",
       "    the generalization accuracy.\n",
       "\n",
       "n_jobs : int or None, optional (default=None)\n",
       "    The number of jobs to run in parallel. :meth:`fit`, :meth:`predict`,\n",
       "    :meth:`decision_path` and :meth:`apply` are all parallelized over the\n",
       "    trees. ``None`` means 1 unless in a :obj:`joblib.parallel_backend`\n",
       "    context. ``-1`` means using all processors. See :term:`Glossary\n",
       "    <n_jobs>` for more details.\n",
       "\n",
       "random_state : int, RandomState instance or None, optional (default=None)\n",
       "    Controls both the randomness of the bootstrapping of the samples used\n",
       "    when building trees (if ``bootstrap=True``) and the sampling of the\n",
       "    features to consider when looking for the best split at each node\n",
       "    (if ``max_features < n_features``).\n",
       "    See :term:`Glossary <random_state>` for details.\n",
       "\n",
       "verbose : int, optional (default=0)\n",
       "    Controls the verbosity when fitting and predicting.\n",
       "\n",
       "warm_start : bool, optional (default=False)\n",
       "    When set to ``True``, reuse the solution of the previous call to fit\n",
       "    and add more estimators to the ensemble, otherwise, just fit a whole\n",
       "    new forest. See :term:`the Glossary <warm_start>`.\n",
       "\n",
       "class_weight : dict, list of dicts, \"balanced\", \"balanced_subsample\" or     None, optional (default=None)\n",
       "    Weights associated with classes in the form ``{class_label: weight}``.\n",
       "    If not given, all classes are supposed to have weight one. For\n",
       "    multi-output problems, a list of dicts can be provided in the same\n",
       "    order as the columns of y.\n",
       "\n",
       "    Note that for multioutput (including multilabel) weights should be\n",
       "    defined for each class of every column in its own dict. For example,\n",
       "    for four-class multilabel classification weights should be\n",
       "    [{0: 1, 1: 1}, {0: 1, 1: 5}, {0: 1, 1: 1}, {0: 1, 1: 1}] instead of\n",
       "    [{1:1}, {2:5}, {3:1}, {4:1}].\n",
       "\n",
       "    The \"balanced\" mode uses the values of y to automatically adjust\n",
       "    weights inversely proportional to class frequencies in the input data\n",
       "    as ``n_samples / (n_classes * np.bincount(y))``\n",
       "\n",
       "    The \"balanced_subsample\" mode is the same as \"balanced\" except that\n",
       "    weights are computed based on the bootstrap sample for every tree\n",
       "    grown.\n",
       "\n",
       "    For multi-output, the weights of each column of y will be multiplied.\n",
       "\n",
       "    Note that these weights will be multiplied with sample_weight (passed\n",
       "    through the fit method) if sample_weight is specified.\n",
       "\n",
       "ccp_alpha : non-negative float, optional (default=0.0)\n",
       "    Complexity parameter used for Minimal Cost-Complexity Pruning. The\n",
       "    subtree with the largest cost complexity that is smaller than\n",
       "    ``ccp_alpha`` will be chosen. By default, no pruning is performed. See\n",
       "    :ref:`minimal_cost_complexity_pruning` for details.\n",
       "\n",
       "    .. versionadded:: 0.22\n",
       "\n",
       "max_samples : int or float, default=None\n",
       "    If bootstrap is True, the number of samples to draw from X\n",
       "    to train each base estimator.\n",
       "\n",
       "    - If None (default), then draw `X.shape[0]` samples.\n",
       "    - If int, then draw `max_samples` samples.\n",
       "    - If float, then draw `max_samples * X.shape[0]` samples. Thus,\n",
       "      `max_samples` should be in the interval `(0, 1)`.\n",
       "\n",
       "    .. versionadded:: 0.22\n",
       "\n",
       "Attributes\n",
       "----------\n",
       "base_estimator_ : DecisionTreeClassifier\n",
       "    The child estimator template used to create the collection of fitted\n",
       "    sub-estimators.\n",
       "\n",
       "estimators_ : list of DecisionTreeClassifier\n",
       "    The collection of fitted sub-estimators.\n",
       "\n",
       "classes_ : array of shape (n_classes,) or a list of such arrays\n",
       "    The classes labels (single output problem), or a list of arrays of\n",
       "    class labels (multi-output problem).\n",
       "\n",
       "n_classes_ : int or list\n",
       "    The number of classes (single output problem), or a list containing the\n",
       "    number of classes for each output (multi-output problem).\n",
       "\n",
       "n_features_ : int\n",
       "    The number of features when ``fit`` is performed.\n",
       "\n",
       "n_outputs_ : int\n",
       "    The number of outputs when ``fit`` is performed.\n",
       "\n",
       "feature_importances_ : ndarray of shape (n_features,)\n",
       "    The feature importances (the higher, the more important the feature).\n",
       "\n",
       "oob_score_ : float\n",
       "    Score of the training dataset obtained using an out-of-bag estimate.\n",
       "    This attribute exists only when ``oob_score`` is True.\n",
       "\n",
       "oob_decision_function_ : array of shape (n_samples, n_classes)\n",
       "    Decision function computed with out-of-bag estimate on the training\n",
       "    set. If n_estimators is small it might be possible that a data point\n",
       "    was never left out during the bootstrap. In this case,\n",
       "    `oob_decision_function_` might contain NaN. This attribute exists\n",
       "    only when ``oob_score`` is True.\n",
       "\n",
       "Examples\n",
       "--------\n",
       ">>> from sklearn.ensemble import RandomForestClassifier\n",
       ">>> from sklearn.datasets import make_classification\n",
       "\n",
       ">>> X, y = make_classification(n_samples=1000, n_features=4,\n",
       "...                            n_informative=2, n_redundant=0,\n",
       "...                            random_state=0, shuffle=False)\n",
       ">>> clf = RandomForestClassifier(max_depth=2, random_state=0)\n",
       ">>> clf.fit(X, y)\n",
       "RandomForestClassifier(max_depth=2, random_state=0)\n",
       ">>> print(clf.feature_importances_)\n",
       "[0.14205973 0.76664038 0.0282433  0.06305659]\n",
       ">>> print(clf.predict([[0, 0, 0, 0]]))\n",
       "[1]\n",
       "\n",
       "Notes\n",
       "-----\n",
       "The default values for the parameters controlling the size of the trees\n",
       "(e.g. ``max_depth``, ``min_samples_leaf``, etc.) lead to fully grown and\n",
       "unpruned trees which can potentially be very large on some data sets. To\n",
       "reduce memory consumption, the complexity and size of the trees should be\n",
       "controlled by setting those parameter values.\n",
       "\n",
       "The features are always randomly permuted at each split. Therefore,\n",
       "the best found split may vary, even with the same training data,\n",
       "``max_features=n_features`` and ``bootstrap=False``, if the improvement\n",
       "of the criterion is identical for several splits enumerated during the\n",
       "search of the best split. To obtain a deterministic behaviour during\n",
       "fitting, ``random_state`` has to be fixed.\n",
       "\n",
       "References\n",
       "----------\n",
       "\n",
       ".. [1] L. Breiman, \"Random Forests\", Machine Learning, 45(1), 5-32, 2001.\n",
       "\n",
       "See Also\n",
       "--------\n",
       "DecisionTreeClassifier, ExtraTreesClassifier\n"
      ]
     },
     "metadata": {},
     "output_type": "display_data"
    }
   ],
   "source": [
    "?rf_model"
   ]
  },
  {
   "cell_type": "code",
   "execution_count": 139,
   "metadata": {},
   "outputs": [],
   "source": [
    "rf_params = {\"max_depth\": [2,5,8,10],\n",
    "            \"max_features\": [2,5,8],\n",
    "            \"n_estimators\": [10,500,1000],\n",
    "            \"min_samples_split\": [2,5,10]}"
   ]
  },
  {
   "cell_type": "code",
   "execution_count": 140,
   "metadata": {},
   "outputs": [],
   "source": [
    "rf_model = RandomForestClassifier()\n",
    "\n",
    "rf_cv_model = GridSearchCV(rf_model, \n",
    "                           rf_params, \n",
    "                           cv = 10, \n",
    "                           n_jobs = -1, \n",
    "                           verbose = 2) "
   ]
  },
  {
   "cell_type": "code",
   "execution_count": 141,
   "metadata": {},
   "outputs": [
    {
     "name": "stdout",
     "output_type": "stream",
     "text": [
      "Fitting 10 folds for each of 108 candidates, totalling 1080 fits\n"
     ]
    },
    {
     "name": "stderr",
     "output_type": "stream",
     "text": [
      "[Parallel(n_jobs=-1)]: Using backend LokyBackend with 4 concurrent workers.\n",
      "[Parallel(n_jobs=-1)]: Done  44 tasks      | elapsed:   20.7s\n",
      "[Parallel(n_jobs=-1)]: Done 166 tasks      | elapsed:  1.5min\n",
      "[Parallel(n_jobs=-1)]: Done 369 tasks      | elapsed:  3.6min\n",
      "[Parallel(n_jobs=-1)]: Done 652 tasks      | elapsed:  7.3min\n",
      "[Parallel(n_jobs=-1)]: Done 1017 tasks      | elapsed: 12.6min\n",
      "[Parallel(n_jobs=-1)]: Done 1080 out of 1080 | elapsed: 13.4min finished\n"
     ]
    },
    {
     "data": {
      "text/plain": [
       "GridSearchCV(cv=10, error_score=nan,\n",
       "             estimator=RandomForestClassifier(bootstrap=True, ccp_alpha=0.0,\n",
       "                                              class_weight=None,\n",
       "                                              criterion='gini', max_depth=None,\n",
       "                                              max_features='auto',\n",
       "                                              max_leaf_nodes=None,\n",
       "                                              max_samples=None,\n",
       "                                              min_impurity_decrease=0.0,\n",
       "                                              min_impurity_split=None,\n",
       "                                              min_samples_leaf=1,\n",
       "                                              min_samples_split=2,\n",
       "                                              min_weight_fraction_leaf=0.0,\n",
       "                                              n_estimators=100, n_jobs=None,\n",
       "                                              oob_score=False,\n",
       "                                              random_state=None, verbose=0,\n",
       "                                              warm_start=False),\n",
       "             iid='deprecated', n_jobs=-1,\n",
       "             param_grid={'max_depth': [2, 5, 8, 10], 'max_features': [2, 5, 8],\n",
       "                         'min_samples_split': [2, 5, 10],\n",
       "                         'n_estimators': [10, 500, 1000]},\n",
       "             pre_dispatch='2*n_jobs', refit=True, return_train_score=False,\n",
       "             scoring=None, verbose=2)"
      ]
     },
     "execution_count": 141,
     "metadata": {},
     "output_type": "execute_result"
    }
   ],
   "source": [
    "rf_cv_model.fit(X_train, y_train)"
   ]
  },
  {
   "cell_type": "code",
   "execution_count": 142,
   "metadata": {},
   "outputs": [
    {
     "name": "stdout",
     "output_type": "stream",
     "text": [
      "En iyi parametreler: {'max_depth': 8, 'max_features': 8, 'min_samples_split': 2, 'n_estimators': 500}\n"
     ]
    }
   ],
   "source": [
    "print(\"En iyi parametreler: \" + str(rf_cv_model.best_params_))"
   ]
  },
  {
   "cell_type": "code",
   "execution_count": 143,
   "metadata": {},
   "outputs": [],
   "source": [
    "#final"
   ]
  },
  {
   "cell_type": "code",
   "execution_count": 144,
   "metadata": {},
   "outputs": [
    {
     "data": {
      "text/plain": [
       "RandomForestClassifier(bootstrap=True, ccp_alpha=0.0, class_weight=None,\n",
       "                       criterion='gini', max_depth=10, max_features=8,\n",
       "                       max_leaf_nodes=None, max_samples=None,\n",
       "                       min_impurity_decrease=0.0, min_impurity_split=None,\n",
       "                       min_samples_leaf=1, min_samples_split=10,\n",
       "                       min_weight_fraction_leaf=0.0, n_estimators=1000,\n",
       "                       n_jobs=None, oob_score=False, random_state=None,\n",
       "                       verbose=0, warm_start=False)"
      ]
     },
     "execution_count": 144,
     "metadata": {},
     "output_type": "execute_result"
    }
   ],
   "source": [
    "rf_tuned = RandomForestClassifier(max_depth = 10, \n",
    "                                  max_features = 8, \n",
    "                                  min_samples_split = 10,\n",
    "                                  n_estimators = 1000)\n",
    "\n",
    "rf_tuned.fit(X_train, y_train)"
   ]
  },
  {
   "cell_type": "code",
   "execution_count": 145,
   "metadata": {},
   "outputs": [
    {
     "data": {
      "text/plain": [
       "0.8658008658008658"
      ]
     },
     "execution_count": 145,
     "metadata": {},
     "output_type": "execute_result"
    }
   ],
   "source": [
    "y_pred = rf_tuned.predict(X_test)\n",
    "accuracy_score(y_test, y_pred)"
   ]
  },
  {
   "cell_type": "code",
   "execution_count": 146,
   "metadata": {},
   "outputs": [],
   "source": [
    "Importance = pd.DataFrame({\"Importance\": rf_tuned.feature_importances_*100},\n",
    "                         index = X_train.columns)"
   ]
  },
  {
   "cell_type": "code",
   "execution_count": 147,
   "metadata": {},
   "outputs": [
    {
     "data": {
      "text/plain": [
       "Text(0.5, 0, 'Değişken Önem Düzeyleri')"
      ]
     },
     "execution_count": 147,
     "metadata": {},
     "output_type": "execute_result"
    },
    {
     "data": {
      "image/png": "[encoded data removed]",
      "text/plain": [
       "<Figure size 432x288 with 1 Axes>"
      ]
     },
     "metadata": {
      "needs_background": "light"
     },
     "output_type": "display_data"
    }
   ],
   "source": [
    "Importance.sort_values(by = \"Importance\", \n",
    "                       axis = 0, \n",
    "                       ascending = True).plot(kind =\"barh\", color = \"r\")\n",
    "\n",
    "plt.xlabel(\"Değişken Önem Düzeyleri\")"
   ]
  },
  {
   "cell_type": "markdown",
   "metadata": {},
   "source": [
    "# GBM"
   ]
  },
  {
   "cell_type": "code",
   "execution_count": 148,
   "metadata": {},
   "outputs": [],
   "source": [
    "from sklearn.ensemble import GradientBoostingClassifier"
   ]
  },
  {
   "cell_type": "code",
   "execution_count": 149,
   "metadata": {},
   "outputs": [],
   "source": [
    "gbm_model = GradientBoostingClassifier().fit(X_train, y_train)"
   ]
  },
  {
   "cell_type": "code",
   "execution_count": 150,
   "metadata": {},
   "outputs": [
    {
     "data": {
      "text/plain": [
       "0.8701298701298701"
      ]
     },
     "execution_count": 150,
     "metadata": {},
     "output_type": "execute_result"
    }
   ],
   "source": [
    "y_pred = gbm_model.predict(X_test)\n",
    "accuracy_score(y_test, y_pred)"
   ]
  },
  {
   "cell_type": "code",
   "execution_count": 151,
   "metadata": {},
   "outputs": [],
   "source": [
    "# Model Tuning\n"
   ]
  },
  {
   "cell_type": "code",
   "execution_count": 152,
   "metadata": {},
   "outputs": [
    {
     "data": {
      "text/plain": [
       "GradientBoostingClassifier(ccp_alpha=0.0, criterion='friedman_mse', init=None,\n",
       "                           learning_rate=0.1, loss='deviance', max_depth=3,\n",
       "                           max_features=None, max_leaf_nodes=None,\n",
       "                           min_impurity_decrease=0.0, min_impurity_split=None,\n",
       "                           min_samples_leaf=1, min_samples_split=2,\n",
       "                           min_weight_fraction_leaf=0.0, n_estimators=100,\n",
       "                           n_iter_no_change=None, presort='deprecated',\n",
       "                           random_state=None, subsample=1.0, tol=0.0001,\n",
       "                           validation_fraction=0.1, verbose=0,\n",
       "                           warm_start=False)"
      ]
     },
     "execution_count": 152,
     "metadata": {},
     "output_type": "execute_result"
    }
   ],
   "source": [
    "gbm_model"
   ]
  },
  {
   "cell_type": "code",
   "execution_count": 153,
   "metadata": {},
   "outputs": [],
   "source": [
    "gbm_params = {\"learning_rate\" : [0.001, 0.01, 0.1, 0.05],\n",
    "             \"n_estimators\": [100,500,100],\n",
    "             \"max_depth\": [3,5,10],\n",
    "             \"min_samples_split\": [2,5,10]}"
   ]
  },
  {
   "cell_type": "code",
   "execution_count": 154,
   "metadata": {},
   "outputs": [],
   "source": [
    "gbm = GradientBoostingClassifier()\n",
    "\n",
    "gbm_cv = GridSearchCV(gbm, gbm_params, cv = 10, n_jobs = -1, verbose = 2)"
   ]
  },
  {
   "cell_type": "code",
   "execution_count": 155,
   "metadata": {},
   "outputs": [
    {
     "name": "stdout",
     "output_type": "stream",
     "text": [
      "Fitting 10 folds for each of 108 candidates, totalling 1080 fits\n"
     ]
    },
    {
     "name": "stderr",
     "output_type": "stream",
     "text": [
      "[Parallel(n_jobs=-1)]: Using backend LokyBackend with 4 concurrent workers.\n",
      "[Parallel(n_jobs=-1)]: Done  33 tasks      | elapsed:    6.0s\n",
      "[Parallel(n_jobs=-1)]: Done 154 tasks      | elapsed:   38.5s\n",
      "[Parallel(n_jobs=-1)]: Done 357 tasks      | elapsed:  2.0min\n",
      "[Parallel(n_jobs=-1)]: Done 640 tasks      | elapsed:  4.1min\n",
      "[Parallel(n_jobs=-1)]: Done 1005 tasks      | elapsed:  5.7min\n",
      "[Parallel(n_jobs=-1)]: Done 1080 out of 1080 | elapsed:  6.1min finished\n"
     ]
    },
    {
     "data": {
      "text/plain": [
       "GridSearchCV(cv=10, error_score=nan,\n",
       "             estimator=GradientBoostingClassifier(ccp_alpha=0.0,\n",
       "                                                  criterion='friedman_mse',\n",
       "                                                  init=None, learning_rate=0.1,\n",
       "                                                  loss='deviance', max_depth=3,\n",
       "                                                  max_features=None,\n",
       "                                                  max_leaf_nodes=None,\n",
       "                                                  min_impurity_decrease=0.0,\n",
       "                                                  min_impurity_split=None,\n",
       "                                                  min_samples_leaf=1,\n",
       "                                                  min_samples_split=2,\n",
       "                                                  min_weight_fraction_leaf=0.0,\n",
       "                                                  n_estimators=100,\n",
       "                                                  n_iter_no_...\n",
       "                                                  presort='deprecated',\n",
       "                                                  random_state=None,\n",
       "                                                  subsample=1.0, tol=0.0001,\n",
       "                                                  validation_fraction=0.1,\n",
       "                                                  verbose=0, warm_start=False),\n",
       "             iid='deprecated', n_jobs=-1,\n",
       "             param_grid={'learning_rate': [0.001, 0.01, 0.1, 0.05],\n",
       "                         'max_depth': [3, 5, 10],\n",
       "                         'min_samples_split': [2, 5, 10],\n",
       "                         'n_estimators': [100, 500, 100]},\n",
       "             pre_dispatch='2*n_jobs', refit=True, return_train_score=False,\n",
       "             scoring=None, verbose=2)"
      ]
     },
     "execution_count": 155,
     "metadata": {},
     "output_type": "execute_result"
    }
   ],
   "source": [
    "gbm_cv.fit(X_train, y_train)"
   ]
  },
  {
   "cell_type": "code",
   "execution_count": 156,
   "metadata": {},
   "outputs": [
    {
     "name": "stdout",
     "output_type": "stream",
     "text": [
      "En iyi parametreler: {'learning_rate': 0.05, 'max_depth': 5, 'min_samples_split': 5, 'n_estimators': 100}\n"
     ]
    }
   ],
   "source": [
    "print(\"En iyi parametreler: \" + str(gbm_cv.best_params_))"
   ]
  },
  {
   "cell_type": "code",
   "execution_count": 157,
   "metadata": {},
   "outputs": [],
   "source": [
    "gbm = GradientBoostingClassifier(learning_rate = 0.01, \n",
    "                                 max_depth = 3,\n",
    "                                min_samples_split = 5,\n",
    "                                n_estimators = 500)"
   ]
  },
  {
   "cell_type": "code",
   "execution_count": 158,
   "metadata": {},
   "outputs": [],
   "source": [
    "gbm_tuned =  gbm.fit(X_train,y_train)"
   ]
  },
  {
   "cell_type": "code",
   "execution_count": 159,
   "metadata": {},
   "outputs": [
    {
     "data": {
      "text/plain": [
       "0.8744588744588745"
      ]
     },
     "execution_count": 159,
     "metadata": {},
     "output_type": "execute_result"
    }
   ],
   "source": [
    "y_pred = gbm_tuned.predict(X_test)\n",
    "accuracy_score(y_test, y_pred)"
   ]
  },
  {
   "cell_type": "code",
   "execution_count": null,
   "metadata": {},
   "outputs": [],
   "source": []
  },
  {
   "cell_type": "markdown",
   "metadata": {},
   "source": [
    "# XGBoost"
   ]
  },
  {
   "cell_type": "code",
   "execution_count": 160,
   "metadata": {},
   "outputs": [],
   "source": [
    "#!pip install xgboost\n",
    "from xgboost import XGBClassifier"
   ]
  },
  {
   "cell_type": "code",
   "execution_count": 161,
   "metadata": {},
   "outputs": [],
   "source": [
    "xgb_model = XGBClassifier().fit(X_train, y_train)"
   ]
  },
  {
   "cell_type": "code",
   "execution_count": 162,
   "metadata": {},
   "outputs": [
    {
     "data": {
      "text/plain": [
       "XGBClassifier(base_score=0.5, booster='gbtree', colsample_bylevel=1,\n",
       "              colsample_bynode=1, colsample_bytree=1, gamma=0,\n",
       "              learning_rate=0.1, max_delta_step=0, max_depth=3,\n",
       "              min_child_weight=1, missing=None, n_estimators=100, n_jobs=1,\n",
       "              nthread=None, objective='binary:logistic', random_state=0,\n",
       "              reg_alpha=0, reg_lambda=1, scale_pos_weight=1, seed=None,\n",
       "              silent=None, subsample=1, verbosity=1)"
      ]
     },
     "execution_count": 162,
     "metadata": {},
     "output_type": "execute_result"
    }
   ],
   "source": [
    "xgb_model"
   ]
  },
  {
   "cell_type": "code",
   "execution_count": 163,
   "metadata": {},
   "outputs": [
    {
     "data": {
      "text/plain": [
       "0.8744588744588745"
      ]
     },
     "execution_count": 163,
     "metadata": {},
     "output_type": "execute_result"
    }
   ],
   "source": [
    "y_pred = xgb_model.predict(X_test)\n",
    "accuracy_score(y_test, y_pred)"
   ]
  },
  {
   "cell_type": "code",
   "execution_count": 164,
   "metadata": {},
   "outputs": [],
   "source": [
    "# Model Tuning"
   ]
  },
  {
   "cell_type": "code",
   "execution_count": 165,
   "metadata": {},
   "outputs": [
    {
     "data": {
      "text/plain": [
       "XGBClassifier(base_score=0.5, booster='gbtree', colsample_bylevel=1,\n",
       "              colsample_bynode=1, colsample_bytree=1, gamma=0,\n",
       "              learning_rate=0.1, max_delta_step=0, max_depth=3,\n",
       "              min_child_weight=1, missing=None, n_estimators=100, n_jobs=1,\n",
       "              nthread=None, objective='binary:logistic', random_state=0,\n",
       "              reg_alpha=0, reg_lambda=1, scale_pos_weight=1, seed=None,\n",
       "              silent=None, subsample=1, verbosity=1)"
      ]
     },
     "execution_count": 165,
     "metadata": {},
     "output_type": "execute_result"
    }
   ],
   "source": [
    "xgb_model"
   ]
  },
  {
   "cell_type": "code",
   "execution_count": 166,
   "metadata": {},
   "outputs": [],
   "source": [
    "xgb_params = {\n",
    "        'n_estimators': [100, 500, 1000, 2000],\n",
    "        'subsample': [0.6, 0.8, 1.0],\n",
    "        'max_depth': [3, 4, 5,6],\n",
    "        'learning_rate': [0.1,0.01,0.02,0.05],\n",
    "        \"min_samples_split\": [2,5,10]}"
   ]
  },
  {
   "cell_type": "code",
   "execution_count": 167,
   "metadata": {},
   "outputs": [],
   "source": [
    "xgb = XGBClassifier()\n",
    "\n",
    "xgb_cv_model = GridSearchCV(xgb, xgb_params, cv = 10, n_jobs = -1, verbose = 2)"
   ]
  },
  {
   "cell_type": "code",
   "execution_count": 168,
   "metadata": {},
   "outputs": [
    {
     "name": "stdout",
     "output_type": "stream",
     "text": [
      "Fitting 10 folds for each of 576 candidates, totalling 5760 fits\n"
     ]
    },
    {
     "name": "stderr",
     "output_type": "stream",
     "text": [
      "[Parallel(n_jobs=-1)]: Using backend LokyBackend with 4 concurrent workers.\n",
      "[Parallel(n_jobs=-1)]: Done  58 tasks      | elapsed:    5.4s\n",
      "[Parallel(n_jobs=-1)]: Done 186 tasks      | elapsed:   36.2s\n",
      "[Parallel(n_jobs=-1)]: Done 389 tasks      | elapsed:  1.5min\n",
      "[Parallel(n_jobs=-1)]: Done 672 tasks      | elapsed:  2.9min\n",
      "[Parallel(n_jobs=-1)]: Done 1037 tasks      | elapsed:  4.8min\n",
      "[Parallel(n_jobs=-1)]: Done 1482 tasks      | elapsed:  6.8min\n",
      "[Parallel(n_jobs=-1)]: Done 2009 tasks      | elapsed:  9.5min\n",
      "[Parallel(n_jobs=-1)]: Done 2616 tasks      | elapsed: 13.3min\n",
      "[Parallel(n_jobs=-1)]: Done 3305 tasks      | elapsed: 17.9min\n",
      "[Parallel(n_jobs=-1)]: Done 4074 tasks      | elapsed: 22.5min\n",
      "[Parallel(n_jobs=-1)]: Done 4925 tasks      | elapsed: 27.9min\n",
      "[Parallel(n_jobs=-1)]: Done 5760 out of 5760 | elapsed: 34.0min finished\n"
     ]
    },
    {
     "data": {
      "text/plain": [
       "GridSearchCV(cv=10, error_score=nan,\n",
       "             estimator=XGBClassifier(base_score=0.5, booster='gbtree',\n",
       "                                     colsample_bylevel=1, colsample_bynode=1,\n",
       "                                     colsample_bytree=1, gamma=0,\n",
       "                                     learning_rate=0.1, max_delta_step=0,\n",
       "                                     max_depth=3, min_child_weight=1,\n",
       "                                     missing=None, n_estimators=100, n_jobs=1,\n",
       "                                     nthread=None, objective='binary:logistic',\n",
       "                                     random_state=0, reg_alpha=0, reg_lambda=1,\n",
       "                                     scale_pos_weight=1, seed=None, silent=None,\n",
       "                                     subsample=1, verbosity=1),\n",
       "             iid='deprecated', n_jobs=-1,\n",
       "             param_grid={'learning_rate': [0.1, 0.01, 0.02, 0.05],\n",
       "                         'max_depth': [3, 4, 5, 6],\n",
       "                         'min_samples_split': [2, 5, 10],\n",
       "                         'n_estimators': [100, 500, 1000, 2000],\n",
       "                         'subsample': [0.6, 0.8, 1.0]},\n",
       "             pre_dispatch='2*n_jobs', refit=True, return_train_score=False,\n",
       "             scoring=None, verbose=2)"
      ]
     },
     "execution_count": 168,
     "metadata": {},
     "output_type": "execute_result"
    }
   ],
   "source": [
    "xgb_cv_model.fit(X_train, y_train)"
   ]
  },
  {
   "cell_type": "code",
   "execution_count": 169,
   "metadata": {},
   "outputs": [
    {
     "data": {
      "text/plain": [
       "{'learning_rate': 0.02,\n",
       " 'max_depth': 3,\n",
       " 'min_samples_split': 2,\n",
       " 'n_estimators': 500,\n",
       " 'subsample': 1.0}"
      ]
     },
     "execution_count": 169,
     "metadata": {},
     "output_type": "execute_result"
    }
   ],
   "source": [
    "xgb_cv_model.best_params_"
   ]
  },
  {
   "cell_type": "code",
   "execution_count": 170,
   "metadata": {},
   "outputs": [],
   "source": [
    "xgb = XGBClassifier(learning_rate = 0.01, \n",
    "                    max_depth = 6,\n",
    "                    min_samples_split = 2,\n",
    "                    n_estimators = 100,\n",
    "                    subsample = 0.8)"
   ]
  },
  {
   "cell_type": "code",
   "execution_count": 171,
   "metadata": {},
   "outputs": [],
   "source": [
    "xgb_tuned =  xgb.fit(X_train,y_train)"
   ]
  },
  {
   "cell_type": "code",
   "execution_count": 172,
   "metadata": {},
   "outputs": [
    {
     "data": {
      "text/plain": [
       "0.8658008658008658"
      ]
     },
     "execution_count": 172,
     "metadata": {},
     "output_type": "execute_result"
    }
   ],
   "source": [
    "y_pred = xgb_tuned.predict(X_test)\n",
    "accuracy_score(y_test, y_pred)"
   ]
  },
  {
   "cell_type": "code",
   "execution_count": null,
   "metadata": {},
   "outputs": [],
   "source": []
  },
  {
   "cell_type": "markdown",
   "metadata": {},
   "source": [
    "# LightGBM"
   ]
  },
  {
   "cell_type": "code",
   "execution_count": 173,
   "metadata": {},
   "outputs": [],
   "source": [
    "from lightgbm import LGBMClassifier"
   ]
  },
  {
   "cell_type": "code",
   "execution_count": 174,
   "metadata": {},
   "outputs": [],
   "source": [
    "lgbm_model = LGBMClassifier().fit(X_train, y_train)"
   ]
  },
  {
   "cell_type": "code",
   "execution_count": 175,
   "metadata": {},
   "outputs": [
    {
     "data": {
      "text/plain": [
       "0.8701298701298701"
      ]
     },
     "execution_count": 175,
     "metadata": {},
     "output_type": "execute_result"
    }
   ],
   "source": [
    "y_pred = lgbm_model.predict(X_test)\n",
    "accuracy_score(y_test, y_pred)"
   ]
  },
  {
   "cell_type": "code",
   "execution_count": 176,
   "metadata": {},
   "outputs": [],
   "source": [
    "# Model Tuning"
   ]
  },
  {
   "cell_type": "code",
   "execution_count": 177,
   "metadata": {},
   "outputs": [
    {
     "data": {
      "text/plain": [
       "LGBMClassifier(boosting_type='gbdt', class_weight=None, colsample_bytree=1.0,\n",
       "               importance_type='split', learning_rate=0.1, max_depth=-1,\n",
       "               min_child_samples=20, min_child_weight=0.001, min_split_gain=0.0,\n",
       "               n_estimators=100, n_jobs=-1, num_leaves=31, objective=None,\n",
       "               random_state=None, reg_alpha=0.0, reg_lambda=0.0, silent=True,\n",
       "               subsample=1.0, subsample_for_bin=200000, subsample_freq=0)"
      ]
     },
     "execution_count": 177,
     "metadata": {},
     "output_type": "execute_result"
    }
   ],
   "source": [
    "lgbm_model"
   ]
  },
  {
   "cell_type": "code",
   "execution_count": 178,
   "metadata": {},
   "outputs": [],
   "source": [
    "lgbm_params = {\n",
    "        'n_estimators': [100, 500, 1000, 2000],\n",
    "        'subsample': [0.6, 0.8, 1.0],\n",
    "        'max_depth': [3, 4, 5,6],\n",
    "        'learning_rate': [0.1,0.01,0.02,0.05],\n",
    "        \"min_child_samples\": [5,10,20]}"
   ]
  },
  {
   "cell_type": "code",
   "execution_count": 179,
   "metadata": {},
   "outputs": [],
   "source": [
    "lgbm = LGBMClassifier()\n",
    "\n",
    "lgbm_cv_model = GridSearchCV(lgbm, lgbm_params, \n",
    "                             cv = 10, \n",
    "                             n_jobs = -1, \n",
    "                             verbose = 2)\n",
    "\n"
   ]
  },
  {
   "cell_type": "code",
   "execution_count": 180,
   "metadata": {},
   "outputs": [
    {
     "name": "stdout",
     "output_type": "stream",
     "text": [
      "Fitting 10 folds for each of 576 candidates, totalling 5760 fits\n"
     ]
    },
    {
     "name": "stderr",
     "output_type": "stream",
     "text": [
      "[Parallel(n_jobs=-1)]: Using backend LokyBackend with 4 concurrent workers.\n",
      "[Parallel(n_jobs=-1)]: Done  44 tasks      | elapsed:    2.3s\n",
      "[Parallel(n_jobs=-1)]: Done 210 tasks      | elapsed:   18.5s\n",
      "[Parallel(n_jobs=-1)]: Done 413 tasks      | elapsed:   45.2s\n",
      "[Parallel(n_jobs=-1)]: Done 696 tasks      | elapsed:  1.4min\n",
      "[Parallel(n_jobs=-1)]: Done 1061 tasks      | elapsed:  2.3min\n",
      "[Parallel(n_jobs=-1)]: Done 1506 tasks      | elapsed:  3.4min\n",
      "[Parallel(n_jobs=-1)]: Done 2033 tasks      | elapsed:  5.0min\n",
      "[Parallel(n_jobs=-1)]: Done 2640 tasks      | elapsed:  8.1min\n",
      "[Parallel(n_jobs=-1)]: Done 3329 tasks      | elapsed: 10.5min\n",
      "[Parallel(n_jobs=-1)]: Done 4098 tasks      | elapsed: 14.2min\n",
      "[Parallel(n_jobs=-1)]: Done 4949 tasks      | elapsed: 17.0min\n",
      "[Parallel(n_jobs=-1)]: Done 5760 out of 5760 | elapsed: 19.8min finished\n"
     ]
    },
    {
     "data": {
      "text/plain": [
       "GridSearchCV(cv=10, error_score=nan,\n",
       "             estimator=LGBMClassifier(boosting_type='gbdt', class_weight=None,\n",
       "                                      colsample_bytree=1.0,\n",
       "                                      importance_type='split',\n",
       "                                      learning_rate=0.1, max_depth=-1,\n",
       "                                      min_child_samples=20,\n",
       "                                      min_child_weight=0.001,\n",
       "                                      min_split_gain=0.0, n_estimators=100,\n",
       "                                      n_jobs=-1, num_leaves=31, objective=None,\n",
       "                                      random_state=None, reg_alpha=0.0,\n",
       "                                      reg_lambda=0.0, silent=True,\n",
       "                                      subsample=1.0, subsample_for_bin=200000,\n",
       "                                      subsample_freq=0),\n",
       "             iid='deprecated', n_jobs=-1,\n",
       "             param_grid={'learning_rate': [0.1, 0.01, 0.02, 0.05],\n",
       "                         'max_depth': [3, 4, 5, 6],\n",
       "                         'min_child_samples': [5, 10, 20],\n",
       "                         'n_estimators': [100, 500, 1000, 2000],\n",
       "                         'subsample': [0.6, 0.8, 1.0]},\n",
       "             pre_dispatch='2*n_jobs', refit=True, return_train_score=False,\n",
       "             scoring=None, verbose=2)"
      ]
     },
     "execution_count": 180,
     "metadata": {},
     "output_type": "execute_result"
    }
   ],
   "source": [
    "lgbm_cv_model.fit(X_train, y_train)"
   ]
  },
  {
   "cell_type": "code",
   "execution_count": 181,
   "metadata": {},
   "outputs": [
    {
     "data": {
      "text/plain": [
       "{'learning_rate': 0.01,\n",
       " 'max_depth': 3,\n",
       " 'min_child_samples': 5,\n",
       " 'n_estimators': 500,\n",
       " 'subsample': 0.6}"
      ]
     },
     "execution_count": 181,
     "metadata": {},
     "output_type": "execute_result"
    }
   ],
   "source": [
    "lgbm_cv_model.best_params_"
   ]
  },
  {
   "cell_type": "code",
   "execution_count": 182,
   "metadata": {},
   "outputs": [],
   "source": [
    "lgbm = LGBMClassifier(learning_rate = 0.01, \n",
    "                       max_depth = 3,\n",
    "                       subsample = 0.6,\n",
    "                       n_estimators = 500,\n",
    "                       min_child_samples = 20)"
   ]
  },
  {
   "cell_type": "code",
   "execution_count": 183,
   "metadata": {},
   "outputs": [],
   "source": [
    "lgbm_tuned = lgbm.fit(X_train,y_train)"
   ]
  },
  {
   "cell_type": "code",
   "execution_count": 184,
   "metadata": {},
   "outputs": [
    {
     "data": {
      "text/plain": [
       "0.8701298701298701"
      ]
     },
     "execution_count": 184,
     "metadata": {},
     "output_type": "execute_result"
    }
   ],
   "source": [
    "y_pred = lgbm_tuned.predict(X_test)\n",
    "accuracy_score(y_test, y_pred)"
   ]
  },
  {
   "cell_type": "code",
   "execution_count": null,
   "metadata": {},
   "outputs": [],
   "source": []
  },
  {
   "cell_type": "code",
   "execution_count": 185,
   "metadata": {},
   "outputs": [],
   "source": [
    "# CatBoost"
   ]
  },
  {
   "cell_type": "code",
   "execution_count": 186,
   "metadata": {},
   "outputs": [],
   "source": [
    "#Model & Tahmin"
   ]
  },
  {
   "cell_type": "code",
   "execution_count": 187,
   "metadata": {},
   "outputs": [],
   "source": [
    "#!pip install catboost\n",
    "from catboost import CatBoostClassifier"
   ]
  },
  {
   "cell_type": "code",
   "execution_count": 188,
   "metadata": {},
   "outputs": [
    {
     "name": "stdout",
     "output_type": "stream",
     "text": [
      "Learning rate set to 0.0079\n",
      "0:\tlearn: 0.6860593\ttotal: 66.7ms\tremaining: 1m 6s\n",
      "1:\tlearn: 0.6787808\ttotal: 69.1ms\tremaining: 34.5s\n",
      "2:\tlearn: 0.6727670\ttotal: 72.4ms\tremaining: 24.1s\n",
      "3:\tlearn: 0.6654203\ttotal: 75ms\tremaining: 18.7s\n",
      "4:\tlearn: 0.6583796\ttotal: 77.3ms\tremaining: 15.4s\n",
      "5:\tlearn: 0.6507944\ttotal: 79.6ms\tremaining: 13.2s\n",
      "6:\tlearn: 0.6431850\ttotal: 82ms\tremaining: 11.6s\n",
      "7:\tlearn: 0.6347761\ttotal: 84.4ms\tremaining: 10.5s\n",
      "8:\tlearn: 0.6299454\ttotal: 86.6ms\tremaining: 9.54s\n",
      "9:\tlearn: 0.6227784\ttotal: 89.3ms\tremaining: 8.84s\n",
      "10:\tlearn: 0.6160659\ttotal: 91.7ms\tremaining: 8.25s\n",
      "11:\tlearn: 0.6103778\ttotal: 94.1ms\tremaining: 7.75s\n",
      "12:\tlearn: 0.6044539\ttotal: 96.5ms\tremaining: 7.33s\n",
      "13:\tlearn: 0.5987503\ttotal: 98.9ms\tremaining: 6.97s\n",
      "14:\tlearn: 0.5917562\ttotal: 101ms\tremaining: 6.66s\n",
      "15:\tlearn: 0.5840288\ttotal: 104ms\tremaining: 6.37s\n",
      "16:\tlearn: 0.5785449\ttotal: 106ms\tremaining: 6.12s\n",
      "17:\tlearn: 0.5735703\ttotal: 108ms\tremaining: 5.89s\n",
      "18:\tlearn: 0.5682509\ttotal: 110ms\tremaining: 5.69s\n",
      "19:\tlearn: 0.5639791\ttotal: 112ms\tremaining: 5.5s\n",
      "20:\tlearn: 0.5579673\ttotal: 115ms\tremaining: 5.36s\n",
      "21:\tlearn: 0.5535220\ttotal: 117ms\tremaining: 5.22s\n",
      "22:\tlearn: 0.5488422\ttotal: 120ms\tremaining: 5.09s\n",
      "23:\tlearn: 0.5435675\ttotal: 122ms\tremaining: 4.97s\n",
      "24:\tlearn: 0.5384491\ttotal: 124ms\tremaining: 4.85s\n",
      "25:\tlearn: 0.5345911\ttotal: 127ms\tremaining: 4.74s\n",
      "26:\tlearn: 0.5299407\ttotal: 129ms\tremaining: 4.64s\n",
      "27:\tlearn: 0.5241378\ttotal: 131ms\tremaining: 4.55s\n",
      "28:\tlearn: 0.5201699\ttotal: 133ms\tremaining: 4.47s\n",
      "29:\tlearn: 0.5154298\ttotal: 136ms\tremaining: 4.39s\n",
      "30:\tlearn: 0.5103658\ttotal: 138ms\tremaining: 4.31s\n",
      "31:\tlearn: 0.5057126\ttotal: 140ms\tremaining: 4.24s\n",
      "32:\tlearn: 0.5003885\ttotal: 142ms\tremaining: 4.17s\n",
      "33:\tlearn: 0.4958394\ttotal: 145ms\tremaining: 4.11s\n",
      "34:\tlearn: 0.4912994\ttotal: 147ms\tremaining: 4.05s\n",
      "35:\tlearn: 0.4870821\ttotal: 149ms\tremaining: 4s\n",
      "36:\tlearn: 0.4823336\ttotal: 152ms\tremaining: 3.94s\n",
      "37:\tlearn: 0.4772425\ttotal: 154ms\tremaining: 3.89s\n",
      "38:\tlearn: 0.4738851\ttotal: 156ms\tremaining: 3.84s\n",
      "39:\tlearn: 0.4691966\ttotal: 158ms\tremaining: 3.79s\n",
      "40:\tlearn: 0.4662088\ttotal: 160ms\tremaining: 3.75s\n",
      "41:\tlearn: 0.4628562\ttotal: 163ms\tremaining: 3.71s\n",
      "42:\tlearn: 0.4586488\ttotal: 165ms\tremaining: 3.66s\n",
      "43:\tlearn: 0.4551207\ttotal: 167ms\tremaining: 3.62s\n",
      "44:\tlearn: 0.4511702\ttotal: 171ms\tremaining: 3.62s\n",
      "45:\tlearn: 0.4474453\ttotal: 174ms\tremaining: 3.6s\n",
      "46:\tlearn: 0.4438246\ttotal: 176ms\tremaining: 3.57s\n",
      "47:\tlearn: 0.4405615\ttotal: 179ms\tremaining: 3.54s\n",
      "48:\tlearn: 0.4368969\ttotal: 181ms\tremaining: 3.51s\n",
      "49:\tlearn: 0.4338352\ttotal: 183ms\tremaining: 3.48s\n",
      "50:\tlearn: 0.4297656\ttotal: 185ms\tremaining: 3.45s\n",
      "51:\tlearn: 0.4265846\ttotal: 188ms\tremaining: 3.42s\n",
      "52:\tlearn: 0.4226916\ttotal: 190ms\tremaining: 3.39s\n",
      "53:\tlearn: 0.4202410\ttotal: 192ms\tremaining: 3.37s\n",
      "54:\tlearn: 0.4167645\ttotal: 194ms\tremaining: 3.34s\n",
      "55:\tlearn: 0.4137356\ttotal: 197ms\tremaining: 3.31s\n",
      "56:\tlearn: 0.4102631\ttotal: 199ms\tremaining: 3.29s\n",
      "57:\tlearn: 0.4075907\ttotal: 201ms\tremaining: 3.27s\n",
      "58:\tlearn: 0.4041460\ttotal: 204ms\tremaining: 3.25s\n",
      "59:\tlearn: 0.4014320\ttotal: 206ms\tremaining: 3.23s\n",
      "60:\tlearn: 0.3982901\ttotal: 208ms\tremaining: 3.2s\n",
      "61:\tlearn: 0.3957139\ttotal: 210ms\tremaining: 3.18s\n",
      "62:\tlearn: 0.3931415\ttotal: 213ms\tremaining: 3.16s\n",
      "63:\tlearn: 0.3902270\ttotal: 215ms\tremaining: 3.14s\n",
      "64:\tlearn: 0.3867416\ttotal: 217ms\tremaining: 3.13s\n",
      "65:\tlearn: 0.3841842\ttotal: 220ms\tremaining: 3.12s\n",
      "66:\tlearn: 0.3815589\ttotal: 223ms\tremaining: 3.11s\n",
      "67:\tlearn: 0.3787312\ttotal: 226ms\tremaining: 3.09s\n",
      "68:\tlearn: 0.3763575\ttotal: 228ms\tremaining: 3.07s\n",
      "69:\tlearn: 0.3736206\ttotal: 230ms\tremaining: 3.06s\n",
      "70:\tlearn: 0.3703899\ttotal: 233ms\tremaining: 3.04s\n",
      "71:\tlearn: 0.3678823\ttotal: 235ms\tremaining: 3.03s\n",
      "72:\tlearn: 0.3653830\ttotal: 237ms\tremaining: 3.01s\n",
      "73:\tlearn: 0.3633302\ttotal: 239ms\tremaining: 3s\n",
      "74:\tlearn: 0.3605772\ttotal: 242ms\tremaining: 2.98s\n",
      "75:\tlearn: 0.3578566\ttotal: 244ms\tremaining: 2.96s\n",
      "76:\tlearn: 0.3548876\ttotal: 246ms\tremaining: 2.94s\n",
      "77:\tlearn: 0.3526423\ttotal: 248ms\tremaining: 2.93s\n",
      "78:\tlearn: 0.3510809\ttotal: 250ms\tremaining: 2.91s\n",
      "79:\tlearn: 0.3491773\ttotal: 252ms\tremaining: 2.89s\n",
      "80:\tlearn: 0.3469318\ttotal: 254ms\tremaining: 2.88s\n",
      "81:\tlearn: 0.3448928\ttotal: 256ms\tremaining: 2.87s\n",
      "82:\tlearn: 0.3424581\ttotal: 258ms\tremaining: 2.85s\n",
      "83:\tlearn: 0.3403696\ttotal: 260ms\tremaining: 2.84s\n",
      "84:\tlearn: 0.3380652\ttotal: 262ms\tremaining: 2.82s\n",
      "85:\tlearn: 0.3361189\ttotal: 264ms\tremaining: 2.81s\n",
      "86:\tlearn: 0.3340994\ttotal: 266ms\tremaining: 2.79s\n",
      "87:\tlearn: 0.3320731\ttotal: 268ms\tremaining: 2.78s\n",
      "88:\tlearn: 0.3302121\ttotal: 270ms\tremaining: 2.77s\n",
      "89:\tlearn: 0.3287268\ttotal: 272ms\tremaining: 2.75s\n",
      "90:\tlearn: 0.3268243\ttotal: 274ms\tremaining: 2.74s\n",
      "91:\tlearn: 0.3251777\ttotal: 276ms\tremaining: 2.73s\n",
      "92:\tlearn: 0.3237991\ttotal: 278ms\tremaining: 2.71s\n",
      "93:\tlearn: 0.3220345\ttotal: 280ms\tremaining: 2.7s\n",
      "94:\tlearn: 0.3202599\ttotal: 282ms\tremaining: 2.69s\n",
      "95:\tlearn: 0.3184088\ttotal: 284ms\tremaining: 2.68s\n",
      "96:\tlearn: 0.3167338\ttotal: 286ms\tremaining: 2.67s\n",
      "97:\tlearn: 0.3150498\ttotal: 288ms\tremaining: 2.65s\n",
      "98:\tlearn: 0.3133217\ttotal: 290ms\tremaining: 2.64s\n",
      "99:\tlearn: 0.3114365\ttotal: 292ms\tremaining: 2.63s\n",
      "100:\tlearn: 0.3098908\ttotal: 294ms\tremaining: 2.62s\n",
      "101:\tlearn: 0.3080737\ttotal: 296ms\tremaining: 2.61s\n",
      "102:\tlearn: 0.3067389\ttotal: 299ms\tremaining: 2.6s\n",
      "103:\tlearn: 0.3055924\ttotal: 301ms\tremaining: 2.59s\n",
      "104:\tlearn: 0.3037391\ttotal: 303ms\tremaining: 2.58s\n",
      "105:\tlearn: 0.3021860\ttotal: 305ms\tremaining: 2.57s\n",
      "106:\tlearn: 0.3004887\ttotal: 307ms\tremaining: 2.56s\n",
      "107:\tlearn: 0.2991936\ttotal: 309ms\tremaining: 2.55s\n",
      "108:\tlearn: 0.2972484\ttotal: 311ms\tremaining: 2.54s\n",
      "109:\tlearn: 0.2956269\ttotal: 313ms\tremaining: 2.53s\n",
      "110:\tlearn: 0.2945666\ttotal: 315ms\tremaining: 2.52s\n",
      "111:\tlearn: 0.2932746\ttotal: 317ms\tremaining: 2.51s\n",
      "112:\tlearn: 0.2917987\ttotal: 319ms\tremaining: 2.5s\n",
      "113:\tlearn: 0.2902895\ttotal: 321ms\tremaining: 2.49s\n",
      "114:\tlearn: 0.2891127\ttotal: 323ms\tremaining: 2.48s\n",
      "115:\tlearn: 0.2877758\ttotal: 325ms\tremaining: 2.48s\n",
      "116:\tlearn: 0.2864548\ttotal: 327ms\tremaining: 2.47s\n",
      "117:\tlearn: 0.2847939\ttotal: 329ms\tremaining: 2.46s\n",
      "118:\tlearn: 0.2837518\ttotal: 331ms\tremaining: 2.45s\n",
      "119:\tlearn: 0.2820817\ttotal: 333ms\tremaining: 2.44s\n",
      "120:\tlearn: 0.2806952\ttotal: 335ms\tremaining: 2.43s\n",
      "121:\tlearn: 0.2792305\ttotal: 337ms\tremaining: 2.42s\n",
      "122:\tlearn: 0.2781843\ttotal: 339ms\tremaining: 2.42s\n",
      "123:\tlearn: 0.2769045\ttotal: 341ms\tremaining: 2.41s\n",
      "124:\tlearn: 0.2756966\ttotal: 343ms\tremaining: 2.4s\n",
      "125:\tlearn: 0.2745408\ttotal: 345ms\tremaining: 2.39s\n",
      "126:\tlearn: 0.2731548\ttotal: 347ms\tremaining: 2.39s\n",
      "127:\tlearn: 0.2724030\ttotal: 350ms\tremaining: 2.39s\n",
      "128:\tlearn: 0.2712391\ttotal: 353ms\tremaining: 2.38s\n",
      "129:\tlearn: 0.2703273\ttotal: 355ms\tremaining: 2.38s\n",
      "130:\tlearn: 0.2696044\ttotal: 357ms\tremaining: 2.37s\n",
      "131:\tlearn: 0.2680633\ttotal: 360ms\tremaining: 2.37s\n",
      "132:\tlearn: 0.2667525\ttotal: 362ms\tremaining: 2.36s\n",
      "133:\tlearn: 0.2659885\ttotal: 365ms\tremaining: 2.35s\n",
      "134:\tlearn: 0.2652737\ttotal: 367ms\tremaining: 2.35s\n",
      "135:\tlearn: 0.2643217\ttotal: 369ms\tremaining: 2.34s\n",
      "136:\tlearn: 0.2634859\ttotal: 371ms\tremaining: 2.34s\n",
      "137:\tlearn: 0.2623116\ttotal: 374ms\tremaining: 2.33s\n",
      "138:\tlearn: 0.2611158\ttotal: 376ms\tremaining: 2.33s\n",
      "139:\tlearn: 0.2600972\ttotal: 378ms\tremaining: 2.32s\n",
      "140:\tlearn: 0.2592418\ttotal: 381ms\tremaining: 2.32s\n",
      "141:\tlearn: 0.2581940\ttotal: 383ms\tremaining: 2.31s\n",
      "142:\tlearn: 0.2571487\ttotal: 385ms\tremaining: 2.31s\n",
      "143:\tlearn: 0.2564709\ttotal: 387ms\tremaining: 2.3s\n",
      "144:\tlearn: 0.2556127\ttotal: 389ms\tremaining: 2.3s\n",
      "145:\tlearn: 0.2546686\ttotal: 392ms\tremaining: 2.29s\n",
      "146:\tlearn: 0.2537303\ttotal: 394ms\tremaining: 2.29s\n",
      "147:\tlearn: 0.2527922\ttotal: 396ms\tremaining: 2.28s\n",
      "148:\tlearn: 0.2516898\ttotal: 398ms\tremaining: 2.27s\n",
      "149:\tlearn: 0.2505970\ttotal: 400ms\tremaining: 2.27s\n",
      "150:\tlearn: 0.2494354\ttotal: 403ms\tremaining: 2.26s\n",
      "151:\tlearn: 0.2488194\ttotal: 405ms\tremaining: 2.26s\n",
      "152:\tlearn: 0.2475734\ttotal: 407ms\tremaining: 2.25s\n",
      "153:\tlearn: 0.2469518\ttotal: 410ms\tremaining: 2.25s\n",
      "154:\tlearn: 0.2462323\ttotal: 412ms\tremaining: 2.25s\n",
      "155:\tlearn: 0.2456083\ttotal: 414ms\tremaining: 2.24s\n",
      "156:\tlearn: 0.2452694\ttotal: 417ms\tremaining: 2.24s\n",
      "157:\tlearn: 0.2444683\ttotal: 419ms\tremaining: 2.23s\n",
      "158:\tlearn: 0.2434298\ttotal: 421ms\tremaining: 2.23s\n",
      "159:\tlearn: 0.2426067\ttotal: 423ms\tremaining: 2.22s\n",
      "160:\tlearn: 0.2419106\ttotal: 425ms\tremaining: 2.22s\n",
      "161:\tlearn: 0.2413580\ttotal: 427ms\tremaining: 2.21s\n",
      "162:\tlearn: 0.2406297\ttotal: 429ms\tremaining: 2.2s\n",
      "163:\tlearn: 0.2401173\ttotal: 432ms\tremaining: 2.2s\n",
      "164:\tlearn: 0.2393660\ttotal: 434ms\tremaining: 2.19s\n",
      "165:\tlearn: 0.2383842\ttotal: 436ms\tremaining: 2.19s\n",
      "166:\tlearn: 0.2380377\ttotal: 438ms\tremaining: 2.18s\n",
      "167:\tlearn: 0.2372660\ttotal: 440ms\tremaining: 2.18s\n",
      "168:\tlearn: 0.2365024\ttotal: 442ms\tremaining: 2.17s\n",
      "169:\tlearn: 0.2357982\ttotal: 444ms\tremaining: 2.17s\n",
      "170:\tlearn: 0.2350275\ttotal: 446ms\tremaining: 2.16s\n",
      "171:\tlearn: 0.2340692\ttotal: 448ms\tremaining: 2.16s\n",
      "172:\tlearn: 0.2332753\ttotal: 450ms\tremaining: 2.15s\n",
      "173:\tlearn: 0.2325642\ttotal: 452ms\tremaining: 2.15s\n",
      "174:\tlearn: 0.2319706\ttotal: 454ms\tremaining: 2.14s\n",
      "175:\tlearn: 0.2312376\ttotal: 456ms\tremaining: 2.13s\n",
      "176:\tlearn: 0.2305846\ttotal: 458ms\tremaining: 2.13s\n",
      "177:\tlearn: 0.2299751\ttotal: 460ms\tremaining: 2.13s\n",
      "178:\tlearn: 0.2293100\ttotal: 462ms\tremaining: 2.12s\n",
      "179:\tlearn: 0.2284987\ttotal: 464ms\tremaining: 2.11s\n",
      "180:\tlearn: 0.2278635\ttotal: 466ms\tremaining: 2.11s\n",
      "181:\tlearn: 0.2271873\ttotal: 468ms\tremaining: 2.1s\n",
      "182:\tlearn: 0.2264870\ttotal: 470ms\tremaining: 2.1s\n",
      "183:\tlearn: 0.2259411\ttotal: 472ms\tremaining: 2.09s\n",
      "184:\tlearn: 0.2253094\ttotal: 474ms\tremaining: 2.09s\n",
      "185:\tlearn: 0.2246632\ttotal: 476ms\tremaining: 2.08s\n",
      "186:\tlearn: 0.2238268\ttotal: 478ms\tremaining: 2.08s\n",
      "187:\tlearn: 0.2232646\ttotal: 480ms\tremaining: 2.07s\n",
      "188:\tlearn: 0.2225657\ttotal: 482ms\tremaining: 2.07s\n",
      "189:\tlearn: 0.2218031\ttotal: 485ms\tremaining: 2.07s\n",
      "190:\tlearn: 0.2211432\ttotal: 487ms\tremaining: 2.06s\n",
      "191:\tlearn: 0.2204459\ttotal: 490ms\tremaining: 2.06s\n",
      "192:\tlearn: 0.2197313\ttotal: 492ms\tremaining: 2.06s\n",
      "193:\tlearn: 0.2191625\ttotal: 494ms\tremaining: 2.05s\n",
      "194:\tlearn: 0.2185112\ttotal: 496ms\tremaining: 2.05s\n",
      "195:\tlearn: 0.2183237\ttotal: 498ms\tremaining: 2.04s\n",
      "196:\tlearn: 0.2177657\ttotal: 500ms\tremaining: 2.04s\n",
      "197:\tlearn: 0.2171907\ttotal: 502ms\tremaining: 2.03s\n",
      "198:\tlearn: 0.2165221\ttotal: 504ms\tremaining: 2.03s\n",
      "199:\tlearn: 0.2160776\ttotal: 506ms\tremaining: 2.02s\n",
      "200:\tlearn: 0.2157867\ttotal: 508ms\tremaining: 2.02s\n",
      "201:\tlearn: 0.2153737\ttotal: 510ms\tremaining: 2.02s\n",
      "202:\tlearn: 0.2148480\ttotal: 512ms\tremaining: 2.01s\n",
      "203:\tlearn: 0.2140877\ttotal: 514ms\tremaining: 2.01s\n",
      "204:\tlearn: 0.2137589\ttotal: 516ms\tremaining: 2s\n",
      "205:\tlearn: 0.2130141\ttotal: 518ms\tremaining: 2s\n",
      "206:\tlearn: 0.2124228\ttotal: 520ms\tremaining: 1.99s\n",
      "207:\tlearn: 0.2121321\ttotal: 523ms\tremaining: 1.99s\n",
      "208:\tlearn: 0.2116439\ttotal: 526ms\tremaining: 1.99s\n",
      "209:\tlearn: 0.2112570\ttotal: 528ms\tremaining: 1.99s\n",
      "210:\tlearn: 0.2109049\ttotal: 530ms\tremaining: 1.98s\n",
      "211:\tlearn: 0.2103219\ttotal: 533ms\tremaining: 1.98s\n",
      "212:\tlearn: 0.2099935\ttotal: 535ms\tremaining: 1.98s\n",
      "213:\tlearn: 0.2093750\ttotal: 537ms\tremaining: 1.97s\n",
      "214:\tlearn: 0.2086871\ttotal: 539ms\tremaining: 1.97s\n",
      "215:\tlearn: 0.2082677\ttotal: 542ms\tremaining: 1.97s\n",
      "216:\tlearn: 0.2078627\ttotal: 544ms\tremaining: 1.96s\n",
      "217:\tlearn: 0.2072040\ttotal: 546ms\tremaining: 1.96s\n",
      "218:\tlearn: 0.2065386\ttotal: 548ms\tremaining: 1.96s\n",
      "219:\tlearn: 0.2061345\ttotal: 550ms\tremaining: 1.95s\n",
      "220:\tlearn: 0.2056861\ttotal: 553ms\tremaining: 1.95s\n",
      "221:\tlearn: 0.2053393\ttotal: 555ms\tremaining: 1.95s\n",
      "222:\tlearn: 0.2047710\ttotal: 557ms\tremaining: 1.94s\n",
      "223:\tlearn: 0.2042537\ttotal: 560ms\tremaining: 1.94s\n",
      "224:\tlearn: 0.2039298\ttotal: 562ms\tremaining: 1.94s\n",
      "225:\tlearn: 0.2032691\ttotal: 564ms\tremaining: 1.93s\n",
      "226:\tlearn: 0.2029650\ttotal: 566ms\tremaining: 1.93s\n",
      "227:\tlearn: 0.2024548\ttotal: 569ms\tremaining: 1.93s\n",
      "228:\tlearn: 0.2021183\ttotal: 571ms\tremaining: 1.92s\n",
      "229:\tlearn: 0.2017180\ttotal: 573ms\tremaining: 1.92s\n",
      "230:\tlearn: 0.2015152\ttotal: 575ms\tremaining: 1.92s\n",
      "231:\tlearn: 0.2010778\ttotal: 578ms\tremaining: 1.91s\n",
      "232:\tlearn: 0.2004500\ttotal: 580ms\tremaining: 1.91s\n",
      "233:\tlearn: 0.1999291\ttotal: 582ms\tremaining: 1.91s\n",
      "234:\tlearn: 0.1996327\ttotal: 585ms\tremaining: 1.9s\n",
      "235:\tlearn: 0.1992126\ttotal: 587ms\tremaining: 1.9s\n",
      "236:\tlearn: 0.1989757\ttotal: 589ms\tremaining: 1.9s\n",
      "237:\tlearn: 0.1987150\ttotal: 591ms\tremaining: 1.89s\n",
      "238:\tlearn: 0.1983703\ttotal: 593ms\tremaining: 1.89s\n",
      "239:\tlearn: 0.1979234\ttotal: 596ms\tremaining: 1.89s\n",
      "240:\tlearn: 0.1976544\ttotal: 598ms\tremaining: 1.88s\n",
      "241:\tlearn: 0.1970853\ttotal: 600ms\tremaining: 1.88s\n",
      "242:\tlearn: 0.1966274\ttotal: 602ms\tremaining: 1.87s\n",
      "243:\tlearn: 0.1963579\ttotal: 604ms\tremaining: 1.87s\n",
      "244:\tlearn: 0.1958164\ttotal: 606ms\tremaining: 1.87s\n",
      "245:\tlearn: 0.1954691\ttotal: 608ms\tremaining: 1.86s\n",
      "246:\tlearn: 0.1950842\ttotal: 610ms\tremaining: 1.86s\n",
      "247:\tlearn: 0.1949098\ttotal: 612ms\tremaining: 1.86s\n",
      "248:\tlearn: 0.1946766\ttotal: 614ms\tremaining: 1.85s\n",
      "249:\tlearn: 0.1944943\ttotal: 616ms\tremaining: 1.85s\n",
      "250:\tlearn: 0.1941705\ttotal: 618ms\tremaining: 1.84s\n",
      "251:\tlearn: 0.1936093\ttotal: 620ms\tremaining: 1.84s\n",
      "252:\tlearn: 0.1930081\ttotal: 622ms\tremaining: 1.84s\n",
      "253:\tlearn: 0.1927468\ttotal: 624ms\tremaining: 1.83s\n",
      "254:\tlearn: 0.1924546\ttotal: 626ms\tremaining: 1.83s\n",
      "255:\tlearn: 0.1918237\ttotal: 628ms\tremaining: 1.83s\n",
      "256:\tlearn: 0.1915909\ttotal: 630ms\tremaining: 1.82s\n",
      "257:\tlearn: 0.1910959\ttotal: 632ms\tremaining: 1.82s\n",
      "258:\tlearn: 0.1904008\ttotal: 634ms\tremaining: 1.81s\n",
      "259:\tlearn: 0.1900513\ttotal: 636ms\tremaining: 1.81s\n",
      "260:\tlearn: 0.1896732\ttotal: 638ms\tremaining: 1.81s\n",
      "261:\tlearn: 0.1891132\ttotal: 640ms\tremaining: 1.8s\n",
      "262:\tlearn: 0.1889911\ttotal: 642ms\tremaining: 1.8s\n",
      "263:\tlearn: 0.1885695\ttotal: 644ms\tremaining: 1.8s\n",
      "264:\tlearn: 0.1880772\ttotal: 646ms\tremaining: 1.79s\n",
      "265:\tlearn: 0.1877892\ttotal: 648ms\tremaining: 1.79s\n",
      "266:\tlearn: 0.1873605\ttotal: 651ms\tremaining: 1.78s\n",
      "267:\tlearn: 0.1870763\ttotal: 653ms\tremaining: 1.78s\n",
      "268:\tlearn: 0.1868414\ttotal: 655ms\tremaining: 1.78s\n",
      "269:\tlearn: 0.1864051\ttotal: 657ms\tremaining: 1.77s\n",
      "270:\tlearn: 0.1861826\ttotal: 659ms\tremaining: 1.77s\n",
      "271:\tlearn: 0.1858551\ttotal: 661ms\tremaining: 1.77s\n",
      "272:\tlearn: 0.1856811\ttotal: 663ms\tremaining: 1.76s\n",
      "273:\tlearn: 0.1852189\ttotal: 665ms\tremaining: 1.76s\n",
      "274:\tlearn: 0.1847778\ttotal: 667ms\tremaining: 1.76s\n",
      "275:\tlearn: 0.1844444\ttotal: 669ms\tremaining: 1.75s\n",
      "276:\tlearn: 0.1842464\ttotal: 671ms\tremaining: 1.75s\n",
      "277:\tlearn: 0.1839299\ttotal: 673ms\tremaining: 1.75s\n",
      "278:\tlearn: 0.1838370\ttotal: 675ms\tremaining: 1.74s\n",
      "279:\tlearn: 0.1835152\ttotal: 676ms\tremaining: 1.74s\n",
      "280:\tlearn: 0.1831270\ttotal: 678ms\tremaining: 1.74s\n",
      "281:\tlearn: 0.1827825\ttotal: 680ms\tremaining: 1.73s\n",
      "282:\tlearn: 0.1822621\ttotal: 682ms\tremaining: 1.73s\n",
      "283:\tlearn: 0.1818836\ttotal: 684ms\tremaining: 1.72s\n",
      "284:\tlearn: 0.1816156\ttotal: 686ms\tremaining: 1.72s\n",
      "285:\tlearn: 0.1813181\ttotal: 688ms\tremaining: 1.72s\n",
      "286:\tlearn: 0.1810371\ttotal: 690ms\tremaining: 1.71s\n",
      "287:\tlearn: 0.1808131\ttotal: 692ms\tremaining: 1.71s\n",
      "288:\tlearn: 0.1803443\ttotal: 694ms\tremaining: 1.71s\n",
      "289:\tlearn: 0.1801356\ttotal: 696ms\tremaining: 1.7s\n",
      "290:\tlearn: 0.1798061\ttotal: 698ms\tremaining: 1.7s\n",
      "291:\tlearn: 0.1795364\ttotal: 701ms\tremaining: 1.7s\n",
      "292:\tlearn: 0.1791965\ttotal: 704ms\tremaining: 1.7s\n",
      "293:\tlearn: 0.1788782\ttotal: 706ms\tremaining: 1.7s\n",
      "294:\tlearn: 0.1784838\ttotal: 708ms\tremaining: 1.69s\n",
      "295:\tlearn: 0.1779897\ttotal: 711ms\tremaining: 1.69s\n",
      "296:\tlearn: 0.1774152\ttotal: 713ms\tremaining: 1.69s\n",
      "297:\tlearn: 0.1771808\ttotal: 715ms\tremaining: 1.68s\n",
      "298:\tlearn: 0.1770144\ttotal: 718ms\tremaining: 1.68s\n",
      "299:\tlearn: 0.1766848\ttotal: 720ms\tremaining: 1.68s\n",
      "300:\tlearn: 0.1763609\ttotal: 722ms\tremaining: 1.68s\n",
      "301:\tlearn: 0.1761845\ttotal: 724ms\tremaining: 1.67s\n",
      "302:\tlearn: 0.1758657\ttotal: 727ms\tremaining: 1.67s\n",
      "303:\tlearn: 0.1754988\ttotal: 729ms\tremaining: 1.67s\n",
      "304:\tlearn: 0.1751961\ttotal: 732ms\tremaining: 1.67s\n",
      "305:\tlearn: 0.1748711\ttotal: 734ms\tremaining: 1.66s\n",
      "306:\tlearn: 0.1746236\ttotal: 736ms\tremaining: 1.66s\n",
      "307:\tlearn: 0.1743001\ttotal: 739ms\tremaining: 1.66s\n",
      "308:\tlearn: 0.1737926\ttotal: 741ms\tremaining: 1.66s\n",
      "309:\tlearn: 0.1734179\ttotal: 743ms\tremaining: 1.65s\n",
      "310:\tlearn: 0.1732354\ttotal: 746ms\tremaining: 1.65s\n",
      "311:\tlearn: 0.1728449\ttotal: 748ms\tremaining: 1.65s\n",
      "312:\tlearn: 0.1726072\ttotal: 750ms\tremaining: 1.65s\n",
      "313:\tlearn: 0.1724299\ttotal: 753ms\tremaining: 1.64s\n",
      "314:\tlearn: 0.1721161\ttotal: 755ms\tremaining: 1.64s\n",
      "315:\tlearn: 0.1718966\ttotal: 758ms\tremaining: 1.64s\n",
      "316:\tlearn: 0.1714474\ttotal: 760ms\tremaining: 1.64s\n",
      "317:\tlearn: 0.1711578\ttotal: 763ms\tremaining: 1.64s\n",
      "318:\tlearn: 0.1710652\ttotal: 766ms\tremaining: 1.63s\n",
      "319:\tlearn: 0.1707841\ttotal: 768ms\tremaining: 1.63s\n",
      "320:\tlearn: 0.1703047\ttotal: 770ms\tremaining: 1.63s\n",
      "321:\tlearn: 0.1700486\ttotal: 773ms\tremaining: 1.63s\n",
      "322:\tlearn: 0.1698026\ttotal: 775ms\tremaining: 1.63s\n",
      "323:\tlearn: 0.1696772\ttotal: 778ms\tremaining: 1.62s\n",
      "324:\tlearn: 0.1693972\ttotal: 780ms\tremaining: 1.62s\n",
      "325:\tlearn: 0.1692397\ttotal: 783ms\tremaining: 1.62s\n",
      "326:\tlearn: 0.1690951\ttotal: 785ms\tremaining: 1.62s\n",
      "327:\tlearn: 0.1688098\ttotal: 788ms\tremaining: 1.61s\n",
      "328:\tlearn: 0.1685179\ttotal: 790ms\tremaining: 1.61s\n",
      "329:\tlearn: 0.1683506\ttotal: 792ms\tremaining: 1.61s\n",
      "330:\tlearn: 0.1681420\ttotal: 794ms\tremaining: 1.6s\n",
      "331:\tlearn: 0.1677503\ttotal: 796ms\tremaining: 1.6s\n",
      "332:\tlearn: 0.1674026\ttotal: 798ms\tremaining: 1.6s\n",
      "333:\tlearn: 0.1671746\ttotal: 800ms\tremaining: 1.59s\n",
      "334:\tlearn: 0.1669087\ttotal: 802ms\tremaining: 1.59s\n",
      "335:\tlearn: 0.1667811\ttotal: 804ms\tremaining: 1.59s\n",
      "336:\tlearn: 0.1667509\ttotal: 805ms\tremaining: 1.58s\n",
      "337:\tlearn: 0.1665362\ttotal: 807ms\tremaining: 1.58s\n",
      "338:\tlearn: 0.1661088\ttotal: 809ms\tremaining: 1.58s\n",
      "339:\tlearn: 0.1657881\ttotal: 812ms\tremaining: 1.57s\n",
      "340:\tlearn: 0.1655389\ttotal: 814ms\tremaining: 1.57s\n",
      "341:\tlearn: 0.1653042\ttotal: 817ms\tremaining: 1.57s\n",
      "342:\tlearn: 0.1650738\ttotal: 819ms\tremaining: 1.57s\n",
      "343:\tlearn: 0.1649100\ttotal: 821ms\tremaining: 1.57s\n",
      "344:\tlearn: 0.1647639\ttotal: 823ms\tremaining: 1.56s\n",
      "345:\tlearn: 0.1645418\ttotal: 825ms\tremaining: 1.56s\n",
      "346:\tlearn: 0.1643105\ttotal: 827ms\tremaining: 1.56s\n",
      "347:\tlearn: 0.1640132\ttotal: 830ms\tremaining: 1.55s\n",
      "348:\tlearn: 0.1639036\ttotal: 832ms\tremaining: 1.55s\n",
      "349:\tlearn: 0.1636510\ttotal: 834ms\tremaining: 1.55s\n",
      "350:\tlearn: 0.1635311\ttotal: 836ms\tremaining: 1.55s\n",
      "351:\tlearn: 0.1632613\ttotal: 839ms\tremaining: 1.54s\n",
      "352:\tlearn: 0.1631297\ttotal: 841ms\tremaining: 1.54s\n",
      "353:\tlearn: 0.1627596\ttotal: 844ms\tremaining: 1.54s\n",
      "354:\tlearn: 0.1625733\ttotal: 846ms\tremaining: 1.54s\n",
      "355:\tlearn: 0.1622658\ttotal: 849ms\tremaining: 1.54s\n",
      "356:\tlearn: 0.1619580\ttotal: 852ms\tremaining: 1.53s\n",
      "357:\tlearn: 0.1617327\ttotal: 854ms\tremaining: 1.53s\n",
      "358:\tlearn: 0.1615301\ttotal: 857ms\tremaining: 1.53s\n",
      "359:\tlearn: 0.1612397\ttotal: 859ms\tremaining: 1.53s\n",
      "360:\tlearn: 0.1611504\ttotal: 862ms\tremaining: 1.52s\n",
      "361:\tlearn: 0.1609719\ttotal: 864ms\tremaining: 1.52s\n",
      "362:\tlearn: 0.1606513\ttotal: 867ms\tremaining: 1.52s\n",
      "363:\tlearn: 0.1604804\ttotal: 869ms\tremaining: 1.52s\n",
      "364:\tlearn: 0.1602194\ttotal: 872ms\tremaining: 1.52s\n",
      "365:\tlearn: 0.1600103\ttotal: 874ms\tremaining: 1.51s\n",
      "366:\tlearn: 0.1596637\ttotal: 878ms\tremaining: 1.51s\n",
      "367:\tlearn: 0.1593329\ttotal: 881ms\tremaining: 1.51s\n",
      "368:\tlearn: 0.1591995\ttotal: 884ms\tremaining: 1.51s\n",
      "369:\tlearn: 0.1590221\ttotal: 887ms\tremaining: 1.51s\n",
      "370:\tlearn: 0.1589470\ttotal: 890ms\tremaining: 1.51s\n",
      "371:\tlearn: 0.1587014\ttotal: 893ms\tremaining: 1.51s\n",
      "372:\tlearn: 0.1582589\ttotal: 896ms\tremaining: 1.5s\n",
      "373:\tlearn: 0.1579162\ttotal: 900ms\tremaining: 1.5s\n",
      "374:\tlearn: 0.1574716\ttotal: 902ms\tremaining: 1.5s\n",
      "375:\tlearn: 0.1571170\ttotal: 906ms\tremaining: 1.5s\n",
      "376:\tlearn: 0.1568698\ttotal: 909ms\tremaining: 1.5s\n",
      "377:\tlearn: 0.1566255\ttotal: 912ms\tremaining: 1.5s\n",
      "378:\tlearn: 0.1564428\ttotal: 915ms\tremaining: 1.5s\n",
      "379:\tlearn: 0.1562858\ttotal: 918ms\tremaining: 1.5s\n",
      "380:\tlearn: 0.1559168\ttotal: 922ms\tremaining: 1.5s\n",
      "381:\tlearn: 0.1557172\ttotal: 925ms\tremaining: 1.5s\n",
      "382:\tlearn: 0.1553693\ttotal: 929ms\tremaining: 1.5s\n",
      "383:\tlearn: 0.1550072\ttotal: 932ms\tremaining: 1.5s\n",
      "384:\tlearn: 0.1548339\ttotal: 993ms\tremaining: 1.59s\n",
      "385:\tlearn: 0.1547200\ttotal: 998ms\tremaining: 1.59s\n",
      "386:\tlearn: 0.1545536\ttotal: 1.01s\tremaining: 1.6s\n",
      "387:\tlearn: 0.1544516\ttotal: 1.02s\tremaining: 1.6s\n",
      "388:\tlearn: 0.1540878\ttotal: 1.02s\tremaining: 1.61s\n",
      "389:\tlearn: 0.1539524\ttotal: 1.03s\tremaining: 1.61s\n",
      "390:\tlearn: 0.1537280\ttotal: 1.03s\tremaining: 1.61s\n",
      "391:\tlearn: 0.1535487\ttotal: 1.05s\tremaining: 1.62s\n",
      "392:\tlearn: 0.1534455\ttotal: 1.05s\tremaining: 1.62s\n",
      "393:\tlearn: 0.1532921\ttotal: 1.05s\tremaining: 1.62s\n",
      "394:\tlearn: 0.1531163\ttotal: 1.05s\tremaining: 1.61s\n",
      "395:\tlearn: 0.1528395\ttotal: 1.06s\tremaining: 1.61s\n",
      "396:\tlearn: 0.1526999\ttotal: 1.06s\tremaining: 1.61s\n",
      "397:\tlearn: 0.1524841\ttotal: 1.06s\tremaining: 1.6s\n",
      "398:\tlearn: 0.1520682\ttotal: 1.06s\tremaining: 1.6s\n",
      "399:\tlearn: 0.1519224\ttotal: 1.06s\tremaining: 1.6s\n",
      "400:\tlearn: 0.1517967\ttotal: 1.07s\tremaining: 1.59s\n",
      "401:\tlearn: 0.1515597\ttotal: 1.07s\tremaining: 1.59s\n",
      "402:\tlearn: 0.1513353\ttotal: 1.07s\tremaining: 1.59s\n",
      "403:\tlearn: 0.1509725\ttotal: 1.07s\tremaining: 1.59s\n",
      "404:\tlearn: 0.1508275\ttotal: 1.08s\tremaining: 1.58s\n",
      "405:\tlearn: 0.1507149\ttotal: 1.08s\tremaining: 1.58s\n",
      "406:\tlearn: 0.1505078\ttotal: 1.08s\tremaining: 1.58s\n",
      "407:\tlearn: 0.1504239\ttotal: 1.08s\tremaining: 1.57s\n",
      "408:\tlearn: 0.1501571\ttotal: 1.09s\tremaining: 1.57s\n",
      "409:\tlearn: 0.1500375\ttotal: 1.09s\tremaining: 1.57s\n",
      "410:\tlearn: 0.1498658\ttotal: 1.09s\tremaining: 1.56s\n",
      "411:\tlearn: 0.1497889\ttotal: 1.09s\tremaining: 1.56s\n",
      "412:\tlearn: 0.1496248\ttotal: 1.1s\tremaining: 1.56s\n",
      "413:\tlearn: 0.1494441\ttotal: 1.1s\tremaining: 1.55s\n",
      "414:\tlearn: 0.1494114\ttotal: 1.1s\tremaining: 1.55s\n",
      "415:\tlearn: 0.1493170\ttotal: 1.1s\tremaining: 1.55s\n",
      "416:\tlearn: 0.1489903\ttotal: 1.1s\tremaining: 1.54s\n",
      "417:\tlearn: 0.1486002\ttotal: 1.11s\tremaining: 1.54s\n",
      "418:\tlearn: 0.1482290\ttotal: 1.11s\tremaining: 1.54s\n",
      "419:\tlearn: 0.1479108\ttotal: 1.11s\tremaining: 1.53s\n",
      "420:\tlearn: 0.1477070\ttotal: 1.11s\tremaining: 1.53s\n",
      "421:\tlearn: 0.1475178\ttotal: 1.12s\tremaining: 1.53s\n",
      "422:\tlearn: 0.1472517\ttotal: 1.12s\tremaining: 1.52s\n",
      "423:\tlearn: 0.1470411\ttotal: 1.12s\tremaining: 1.52s\n",
      "424:\tlearn: 0.1467064\ttotal: 1.12s\tremaining: 1.52s\n",
      "425:\tlearn: 0.1465759\ttotal: 1.13s\tremaining: 1.52s\n",
      "426:\tlearn: 0.1464063\ttotal: 1.13s\tremaining: 1.51s\n",
      "427:\tlearn: 0.1463105\ttotal: 1.13s\tremaining: 1.51s\n",
      "428:\tlearn: 0.1462672\ttotal: 1.13s\tremaining: 1.51s\n",
      "429:\tlearn: 0.1461033\ttotal: 1.14s\tremaining: 1.5s\n",
      "430:\tlearn: 0.1459983\ttotal: 1.14s\tremaining: 1.5s\n",
      "431:\tlearn: 0.1457067\ttotal: 1.14s\tremaining: 1.5s\n",
      "432:\tlearn: 0.1456320\ttotal: 1.14s\tremaining: 1.5s\n",
      "433:\tlearn: 0.1453032\ttotal: 1.14s\tremaining: 1.49s\n",
      "434:\tlearn: 0.1450816\ttotal: 1.15s\tremaining: 1.49s\n",
      "435:\tlearn: 0.1450430\ttotal: 1.15s\tremaining: 1.49s\n",
      "436:\tlearn: 0.1448287\ttotal: 1.15s\tremaining: 1.48s\n",
      "437:\tlearn: 0.1445409\ttotal: 1.15s\tremaining: 1.48s\n",
      "438:\tlearn: 0.1443936\ttotal: 1.15s\tremaining: 1.48s\n",
      "439:\tlearn: 0.1442640\ttotal: 1.16s\tremaining: 1.47s\n",
      "440:\tlearn: 0.1441084\ttotal: 1.16s\tremaining: 1.47s\n",
      "441:\tlearn: 0.1439111\ttotal: 1.16s\tremaining: 1.47s\n",
      "442:\tlearn: 0.1436425\ttotal: 1.16s\tremaining: 1.46s\n",
      "443:\tlearn: 0.1434306\ttotal: 1.16s\tremaining: 1.46s\n",
      "444:\tlearn: 0.1431412\ttotal: 1.17s\tremaining: 1.46s\n",
      "445:\tlearn: 0.1429697\ttotal: 1.17s\tremaining: 1.45s\n",
      "446:\tlearn: 0.1427417\ttotal: 1.17s\tremaining: 1.45s\n",
      "447:\tlearn: 0.1425375\ttotal: 1.17s\tremaining: 1.45s\n",
      "448:\tlearn: 0.1423002\ttotal: 1.17s\tremaining: 1.44s\n",
      "449:\tlearn: 0.1420601\ttotal: 1.18s\tremaining: 1.44s\n",
      "450:\tlearn: 0.1418654\ttotal: 1.18s\tremaining: 1.44s\n",
      "451:\tlearn: 0.1416497\ttotal: 1.18s\tremaining: 1.43s\n",
      "452:\tlearn: 0.1414439\ttotal: 1.18s\tremaining: 1.43s\n",
      "453:\tlearn: 0.1413226\ttotal: 1.18s\tremaining: 1.43s\n",
      "454:\tlearn: 0.1411315\ttotal: 1.19s\tremaining: 1.42s\n",
      "455:\tlearn: 0.1409543\ttotal: 1.19s\tremaining: 1.42s\n",
      "456:\tlearn: 0.1406495\ttotal: 1.19s\tremaining: 1.42s\n",
      "457:\tlearn: 0.1404344\ttotal: 1.19s\tremaining: 1.41s\n",
      "458:\tlearn: 0.1401911\ttotal: 1.2s\tremaining: 1.41s\n",
      "459:\tlearn: 0.1400628\ttotal: 1.2s\tremaining: 1.41s\n",
      "460:\tlearn: 0.1399656\ttotal: 1.2s\tremaining: 1.4s\n",
      "461:\tlearn: 0.1397606\ttotal: 1.2s\tremaining: 1.4s\n",
      "462:\tlearn: 0.1396479\ttotal: 1.2s\tremaining: 1.4s\n",
      "463:\tlearn: 0.1392866\ttotal: 1.21s\tremaining: 1.39s\n",
      "464:\tlearn: 0.1390982\ttotal: 1.21s\tremaining: 1.39s\n",
      "465:\tlearn: 0.1390296\ttotal: 1.21s\tremaining: 1.39s\n",
      "466:\tlearn: 0.1389181\ttotal: 1.21s\tremaining: 1.38s\n",
      "467:\tlearn: 0.1388219\ttotal: 1.21s\tremaining: 1.38s\n",
      "468:\tlearn: 0.1387455\ttotal: 1.22s\tremaining: 1.38s\n",
      "469:\tlearn: 0.1386653\ttotal: 1.22s\tremaining: 1.37s\n",
      "470:\tlearn: 0.1385885\ttotal: 1.22s\tremaining: 1.37s\n",
      "471:\tlearn: 0.1384733\ttotal: 1.22s\tremaining: 1.37s\n",
      "472:\tlearn: 0.1381369\ttotal: 1.22s\tremaining: 1.36s\n",
      "473:\tlearn: 0.1380491\ttotal: 1.23s\tremaining: 1.36s\n",
      "474:\tlearn: 0.1377356\ttotal: 1.23s\tremaining: 1.36s\n",
      "475:\tlearn: 0.1376289\ttotal: 1.23s\tremaining: 1.35s\n",
      "476:\tlearn: 0.1375119\ttotal: 1.23s\tremaining: 1.35s\n",
      "477:\tlearn: 0.1373616\ttotal: 1.23s\tremaining: 1.35s\n",
      "478:\tlearn: 0.1372810\ttotal: 1.24s\tremaining: 1.34s\n",
      "479:\tlearn: 0.1370624\ttotal: 1.24s\tremaining: 1.34s\n",
      "480:\tlearn: 0.1368509\ttotal: 1.24s\tremaining: 1.34s\n",
      "481:\tlearn: 0.1365902\ttotal: 1.24s\tremaining: 1.33s\n",
      "482:\tlearn: 0.1364768\ttotal: 1.25s\tremaining: 1.33s\n",
      "483:\tlearn: 0.1362799\ttotal: 1.25s\tremaining: 1.33s\n",
      "484:\tlearn: 0.1361810\ttotal: 1.25s\tremaining: 1.33s\n",
      "485:\tlearn: 0.1360919\ttotal: 1.25s\tremaining: 1.32s\n",
      "486:\tlearn: 0.1358917\ttotal: 1.25s\tremaining: 1.32s\n",
      "487:\tlearn: 0.1356581\ttotal: 1.26s\tremaining: 1.32s\n",
      "488:\tlearn: 0.1354808\ttotal: 1.26s\tremaining: 1.32s\n",
      "489:\tlearn: 0.1352395\ttotal: 1.26s\tremaining: 1.31s\n",
      "490:\tlearn: 0.1350773\ttotal: 1.26s\tremaining: 1.31s\n",
      "491:\tlearn: 0.1348986\ttotal: 1.27s\tremaining: 1.31s\n",
      "492:\tlearn: 0.1347437\ttotal: 1.27s\tremaining: 1.3s\n",
      "493:\tlearn: 0.1346457\ttotal: 1.27s\tremaining: 1.3s\n",
      "494:\tlearn: 0.1344012\ttotal: 1.27s\tremaining: 1.3s\n",
      "495:\tlearn: 0.1342060\ttotal: 1.28s\tremaining: 1.3s\n",
      "496:\tlearn: 0.1341039\ttotal: 1.28s\tremaining: 1.29s\n",
      "497:\tlearn: 0.1339297\ttotal: 1.28s\tremaining: 1.29s\n",
      "498:\tlearn: 0.1336954\ttotal: 1.28s\tremaining: 1.29s\n",
      "499:\tlearn: 0.1335226\ttotal: 1.29s\tremaining: 1.29s\n",
      "500:\tlearn: 0.1334840\ttotal: 1.29s\tremaining: 1.28s\n",
      "501:\tlearn: 0.1333360\ttotal: 1.29s\tremaining: 1.28s\n",
      "502:\tlearn: 0.1332682\ttotal: 1.29s\tremaining: 1.28s\n",
      "503:\tlearn: 0.1330647\ttotal: 1.3s\tremaining: 1.28s\n",
      "504:\tlearn: 0.1327948\ttotal: 1.3s\tremaining: 1.27s\n",
      "505:\tlearn: 0.1326600\ttotal: 1.3s\tremaining: 1.27s\n",
      "506:\tlearn: 0.1324528\ttotal: 1.3s\tremaining: 1.27s\n",
      "507:\tlearn: 0.1322577\ttotal: 1.31s\tremaining: 1.26s\n",
      "508:\tlearn: 0.1321299\ttotal: 1.31s\tremaining: 1.26s\n",
      "509:\tlearn: 0.1318797\ttotal: 1.31s\tremaining: 1.26s\n",
      "510:\tlearn: 0.1316200\ttotal: 1.31s\tremaining: 1.26s\n",
      "511:\tlearn: 0.1314797\ttotal: 1.32s\tremaining: 1.26s\n",
      "512:\tlearn: 0.1313827\ttotal: 1.32s\tremaining: 1.25s\n",
      "513:\tlearn: 0.1313717\ttotal: 1.32s\tremaining: 1.25s\n",
      "514:\tlearn: 0.1312506\ttotal: 1.32s\tremaining: 1.25s\n",
      "515:\tlearn: 0.1310907\ttotal: 1.33s\tremaining: 1.25s\n",
      "516:\tlearn: 0.1308464\ttotal: 1.33s\tremaining: 1.24s\n",
      "517:\tlearn: 0.1308186\ttotal: 1.33s\tremaining: 1.24s\n",
      "518:\tlearn: 0.1307298\ttotal: 1.33s\tremaining: 1.24s\n",
      "519:\tlearn: 0.1306616\ttotal: 1.34s\tremaining: 1.24s\n",
      "520:\tlearn: 0.1304756\ttotal: 1.34s\tremaining: 1.23s\n",
      "521:\tlearn: 0.1302129\ttotal: 1.34s\tremaining: 1.23s\n",
      "522:\tlearn: 0.1300776\ttotal: 1.35s\tremaining: 1.23s\n",
      "523:\tlearn: 0.1298138\ttotal: 1.35s\tremaining: 1.23s\n",
      "524:\tlearn: 0.1296904\ttotal: 1.35s\tremaining: 1.22s\n",
      "525:\tlearn: 0.1294599\ttotal: 1.35s\tremaining: 1.22s\n",
      "526:\tlearn: 0.1293524\ttotal: 1.36s\tremaining: 1.22s\n",
      "527:\tlearn: 0.1291967\ttotal: 1.36s\tremaining: 1.22s\n",
      "528:\tlearn: 0.1290290\ttotal: 1.36s\tremaining: 1.21s\n",
      "529:\tlearn: 0.1289279\ttotal: 1.36s\tremaining: 1.21s\n",
      "530:\tlearn: 0.1288090\ttotal: 1.37s\tremaining: 1.21s\n",
      "531:\tlearn: 0.1285373\ttotal: 1.37s\tremaining: 1.21s\n",
      "532:\tlearn: 0.1283562\ttotal: 1.37s\tremaining: 1.2s\n",
      "533:\tlearn: 0.1281903\ttotal: 1.38s\tremaining: 1.2s\n",
      "534:\tlearn: 0.1281020\ttotal: 1.38s\tremaining: 1.2s\n",
      "535:\tlearn: 0.1278826\ttotal: 1.38s\tremaining: 1.2s\n",
      "536:\tlearn: 0.1278404\ttotal: 1.38s\tremaining: 1.19s\n",
      "537:\tlearn: 0.1276529\ttotal: 1.39s\tremaining: 1.19s\n",
      "538:\tlearn: 0.1274959\ttotal: 1.39s\tremaining: 1.19s\n",
      "539:\tlearn: 0.1274477\ttotal: 1.39s\tremaining: 1.19s\n",
      "540:\tlearn: 0.1273061\ttotal: 1.4s\tremaining: 1.18s\n",
      "541:\tlearn: 0.1271978\ttotal: 1.4s\tremaining: 1.18s\n",
      "542:\tlearn: 0.1270235\ttotal: 1.4s\tremaining: 1.18s\n",
      "543:\tlearn: 0.1267293\ttotal: 1.4s\tremaining: 1.18s\n",
      "544:\tlearn: 0.1266080\ttotal: 1.41s\tremaining: 1.17s\n",
      "545:\tlearn: 0.1264707\ttotal: 1.41s\tremaining: 1.17s\n",
      "546:\tlearn: 0.1262803\ttotal: 1.41s\tremaining: 1.17s\n",
      "547:\tlearn: 0.1260920\ttotal: 1.41s\tremaining: 1.17s\n",
      "548:\tlearn: 0.1259208\ttotal: 1.42s\tremaining: 1.16s\n",
      "549:\tlearn: 0.1257890\ttotal: 1.42s\tremaining: 1.16s\n",
      "550:\tlearn: 0.1256169\ttotal: 1.42s\tremaining: 1.16s\n",
      "551:\tlearn: 0.1254613\ttotal: 1.43s\tremaining: 1.16s\n",
      "552:\tlearn: 0.1252994\ttotal: 1.43s\tremaining: 1.16s\n",
      "553:\tlearn: 0.1251961\ttotal: 1.43s\tremaining: 1.15s\n",
      "554:\tlearn: 0.1250259\ttotal: 1.44s\tremaining: 1.15s\n",
      "555:\tlearn: 0.1248959\ttotal: 1.44s\tremaining: 1.15s\n",
      "556:\tlearn: 0.1247211\ttotal: 1.44s\tremaining: 1.15s\n",
      "557:\tlearn: 0.1246236\ttotal: 1.44s\tremaining: 1.14s\n",
      "558:\tlearn: 0.1244584\ttotal: 1.45s\tremaining: 1.14s\n",
      "559:\tlearn: 0.1243491\ttotal: 1.45s\tremaining: 1.14s\n",
      "560:\tlearn: 0.1241775\ttotal: 1.45s\tremaining: 1.14s\n",
      "561:\tlearn: 0.1240858\ttotal: 1.45s\tremaining: 1.13s\n",
      "562:\tlearn: 0.1240179\ttotal: 1.46s\tremaining: 1.13s\n",
      "563:\tlearn: 0.1237546\ttotal: 1.46s\tremaining: 1.13s\n",
      "564:\tlearn: 0.1236240\ttotal: 1.46s\tremaining: 1.13s\n",
      "565:\tlearn: 0.1235563\ttotal: 1.46s\tremaining: 1.12s\n",
      "566:\tlearn: 0.1233854\ttotal: 1.47s\tremaining: 1.12s\n",
      "567:\tlearn: 0.1232105\ttotal: 1.47s\tremaining: 1.12s\n",
      "568:\tlearn: 0.1231312\ttotal: 1.47s\tremaining: 1.11s\n",
      "569:\tlearn: 0.1229552\ttotal: 1.47s\tremaining: 1.11s\n",
      "570:\tlearn: 0.1226931\ttotal: 1.48s\tremaining: 1.11s\n",
      "571:\tlearn: 0.1226375\ttotal: 1.48s\tremaining: 1.11s\n",
      "572:\tlearn: 0.1224578\ttotal: 1.48s\tremaining: 1.1s\n",
      "573:\tlearn: 0.1222801\ttotal: 1.48s\tremaining: 1.1s\n",
      "574:\tlearn: 0.1219726\ttotal: 1.49s\tremaining: 1.1s\n",
      "575:\tlearn: 0.1218566\ttotal: 1.49s\tremaining: 1.1s\n",
      "576:\tlearn: 0.1217461\ttotal: 1.49s\tremaining: 1.09s\n",
      "577:\tlearn: 0.1216807\ttotal: 1.49s\tremaining: 1.09s\n",
      "578:\tlearn: 0.1215818\ttotal: 1.5s\tremaining: 1.09s\n",
      "579:\tlearn: 0.1213987\ttotal: 1.5s\tremaining: 1.09s\n",
      "580:\tlearn: 0.1212568\ttotal: 1.5s\tremaining: 1.08s\n",
      "581:\tlearn: 0.1210016\ttotal: 1.51s\tremaining: 1.08s\n",
      "582:\tlearn: 0.1208891\ttotal: 1.51s\tremaining: 1.08s\n",
      "583:\tlearn: 0.1208246\ttotal: 1.51s\tremaining: 1.08s\n",
      "584:\tlearn: 0.1206244\ttotal: 1.51s\tremaining: 1.07s\n",
      "585:\tlearn: 0.1204957\ttotal: 1.52s\tremaining: 1.07s\n",
      "586:\tlearn: 0.1203219\ttotal: 1.52s\tremaining: 1.07s\n",
      "587:\tlearn: 0.1201333\ttotal: 1.52s\tremaining: 1.07s\n",
      "588:\tlearn: 0.1199709\ttotal: 1.52s\tremaining: 1.06s\n",
      "589:\tlearn: 0.1197877\ttotal: 1.53s\tremaining: 1.06s\n",
      "590:\tlearn: 0.1197011\ttotal: 1.53s\tremaining: 1.06s\n",
      "591:\tlearn: 0.1195711\ttotal: 1.53s\tremaining: 1.06s\n",
      "592:\tlearn: 0.1194495\ttotal: 1.53s\tremaining: 1.05s\n",
      "593:\tlearn: 0.1194208\ttotal: 1.54s\tremaining: 1.05s\n",
      "594:\tlearn: 0.1192235\ttotal: 1.54s\tremaining: 1.05s\n",
      "595:\tlearn: 0.1189995\ttotal: 1.54s\tremaining: 1.05s\n",
      "596:\tlearn: 0.1188856\ttotal: 1.55s\tremaining: 1.04s\n",
      "597:\tlearn: 0.1186225\ttotal: 1.55s\tremaining: 1.04s\n",
      "598:\tlearn: 0.1183744\ttotal: 1.55s\tremaining: 1.04s\n",
      "599:\tlearn: 0.1183224\ttotal: 1.55s\tremaining: 1.04s\n",
      "600:\tlearn: 0.1182793\ttotal: 1.56s\tremaining: 1.03s\n",
      "601:\tlearn: 0.1181447\ttotal: 1.56s\tremaining: 1.03s\n",
      "602:\tlearn: 0.1179933\ttotal: 1.56s\tremaining: 1.03s\n",
      "603:\tlearn: 0.1178262\ttotal: 1.56s\tremaining: 1.03s\n",
      "604:\tlearn: 0.1177464\ttotal: 1.57s\tremaining: 1.02s\n",
      "605:\tlearn: 0.1175246\ttotal: 1.57s\tremaining: 1.02s\n",
      "606:\tlearn: 0.1173910\ttotal: 1.57s\tremaining: 1.02s\n",
      "607:\tlearn: 0.1172498\ttotal: 1.58s\tremaining: 1.02s\n",
      "608:\tlearn: 0.1171500\ttotal: 1.58s\tremaining: 1.01s\n",
      "609:\tlearn: 0.1170857\ttotal: 1.58s\tremaining: 1.01s\n",
      "610:\tlearn: 0.1168823\ttotal: 1.58s\tremaining: 1.01s\n",
      "611:\tlearn: 0.1167837\ttotal: 1.59s\tremaining: 1.01s\n",
      "612:\tlearn: 0.1166848\ttotal: 1.59s\tremaining: 1s\n",
      "613:\tlearn: 0.1163586\ttotal: 1.59s\tremaining: 1s\n",
      "614:\tlearn: 0.1161726\ttotal: 1.59s\tremaining: 999ms\n",
      "615:\tlearn: 0.1159833\ttotal: 1.6s\tremaining: 996ms\n",
      "616:\tlearn: 0.1159082\ttotal: 1.6s\tremaining: 994ms\n",
      "617:\tlearn: 0.1158121\ttotal: 1.6s\tremaining: 991ms\n",
      "618:\tlearn: 0.1156833\ttotal: 1.61s\tremaining: 989ms\n",
      "619:\tlearn: 0.1155016\ttotal: 1.61s\tremaining: 987ms\n",
      "620:\tlearn: 0.1152085\ttotal: 1.61s\tremaining: 984ms\n",
      "621:\tlearn: 0.1150690\ttotal: 1.61s\tremaining: 982ms\n",
      "622:\tlearn: 0.1149696\ttotal: 1.62s\tremaining: 979ms\n",
      "623:\tlearn: 0.1148474\ttotal: 1.62s\tremaining: 976ms\n",
      "624:\tlearn: 0.1147473\ttotal: 1.62s\tremaining: 974ms\n",
      "625:\tlearn: 0.1146332\ttotal: 1.63s\tremaining: 972ms\n",
      "626:\tlearn: 0.1145480\ttotal: 1.63s\tremaining: 969ms\n",
      "627:\tlearn: 0.1144363\ttotal: 1.63s\tremaining: 966ms\n",
      "628:\tlearn: 0.1143083\ttotal: 1.63s\tremaining: 964ms\n",
      "629:\tlearn: 0.1141415\ttotal: 1.64s\tremaining: 961ms\n",
      "630:\tlearn: 0.1140923\ttotal: 1.64s\tremaining: 959ms\n",
      "631:\tlearn: 0.1139857\ttotal: 1.64s\tremaining: 956ms\n",
      "632:\tlearn: 0.1138556\ttotal: 1.64s\tremaining: 953ms\n",
      "633:\tlearn: 0.1136905\ttotal: 1.65s\tremaining: 951ms\n",
      "634:\tlearn: 0.1136285\ttotal: 1.65s\tremaining: 948ms\n",
      "635:\tlearn: 0.1135185\ttotal: 1.65s\tremaining: 946ms\n",
      "636:\tlearn: 0.1133499\ttotal: 1.66s\tremaining: 944ms\n",
      "637:\tlearn: 0.1132854\ttotal: 1.66s\tremaining: 942ms\n",
      "638:\tlearn: 0.1131668\ttotal: 1.66s\tremaining: 940ms\n",
      "639:\tlearn: 0.1130297\ttotal: 1.67s\tremaining: 938ms\n",
      "640:\tlearn: 0.1129347\ttotal: 1.67s\tremaining: 935ms\n",
      "641:\tlearn: 0.1127565\ttotal: 1.67s\tremaining: 933ms\n",
      "642:\tlearn: 0.1126351\ttotal: 1.68s\tremaining: 931ms\n",
      "643:\tlearn: 0.1125755\ttotal: 1.68s\tremaining: 929ms\n",
      "644:\tlearn: 0.1124944\ttotal: 1.69s\tremaining: 928ms\n",
      "645:\tlearn: 0.1122449\ttotal: 1.69s\tremaining: 926ms\n",
      "646:\tlearn: 0.1122165\ttotal: 1.69s\tremaining: 924ms\n",
      "647:\tlearn: 0.1121126\ttotal: 1.7s\tremaining: 921ms\n",
      "648:\tlearn: 0.1119694\ttotal: 1.7s\tremaining: 919ms\n",
      "649:\tlearn: 0.1119026\ttotal: 1.7s\tremaining: 916ms\n",
      "650:\tlearn: 0.1117228\ttotal: 1.71s\tremaining: 914ms\n",
      "651:\tlearn: 0.1115478\ttotal: 1.71s\tremaining: 912ms\n",
      "652:\tlearn: 0.1113875\ttotal: 1.71s\tremaining: 909ms\n",
      "653:\tlearn: 0.1111514\ttotal: 1.71s\tremaining: 907ms\n",
      "654:\tlearn: 0.1110386\ttotal: 1.72s\tremaining: 904ms\n",
      "655:\tlearn: 0.1108811\ttotal: 1.72s\tremaining: 902ms\n",
      "656:\tlearn: 0.1106032\ttotal: 1.72s\tremaining: 900ms\n",
      "657:\tlearn: 0.1104228\ttotal: 1.73s\tremaining: 898ms\n",
      "658:\tlearn: 0.1103704\ttotal: 1.73s\tremaining: 895ms\n",
      "659:\tlearn: 0.1101628\ttotal: 1.73s\tremaining: 892ms\n",
      "660:\tlearn: 0.1099304\ttotal: 1.74s\tremaining: 890ms\n",
      "661:\tlearn: 0.1098444\ttotal: 1.74s\tremaining: 888ms\n",
      "662:\tlearn: 0.1097109\ttotal: 1.74s\tremaining: 886ms\n",
      "663:\tlearn: 0.1095932\ttotal: 1.75s\tremaining: 884ms\n",
      "664:\tlearn: 0.1094556\ttotal: 1.75s\tremaining: 882ms\n",
      "665:\tlearn: 0.1093089\ttotal: 1.75s\tremaining: 879ms\n",
      "666:\tlearn: 0.1091405\ttotal: 1.76s\tremaining: 877ms\n",
      "667:\tlearn: 0.1091031\ttotal: 1.76s\tremaining: 874ms\n",
      "668:\tlearn: 0.1089441\ttotal: 1.76s\tremaining: 872ms\n",
      "669:\tlearn: 0.1088381\ttotal: 1.77s\tremaining: 870ms\n",
      "670:\tlearn: 0.1087822\ttotal: 1.77s\tremaining: 868ms\n",
      "671:\tlearn: 0.1085582\ttotal: 1.77s\tremaining: 866ms\n",
      "672:\tlearn: 0.1084709\ttotal: 1.78s\tremaining: 863ms\n",
      "673:\tlearn: 0.1083513\ttotal: 1.78s\tremaining: 861ms\n",
      "674:\tlearn: 0.1081309\ttotal: 1.78s\tremaining: 858ms\n",
      "675:\tlearn: 0.1080387\ttotal: 1.78s\tremaining: 855ms\n",
      "676:\tlearn: 0.1079749\ttotal: 1.79s\tremaining: 853ms\n",
      "677:\tlearn: 0.1077743\ttotal: 1.79s\tremaining: 851ms\n",
      "678:\tlearn: 0.1076602\ttotal: 1.79s\tremaining: 848ms\n",
      "679:\tlearn: 0.1076157\ttotal: 1.8s\tremaining: 846ms\n",
      "680:\tlearn: 0.1073685\ttotal: 1.8s\tremaining: 844ms\n",
      "681:\tlearn: 0.1072944\ttotal: 1.8s\tremaining: 841ms\n",
      "682:\tlearn: 0.1072603\ttotal: 1.81s\tremaining: 839ms\n",
      "683:\tlearn: 0.1070376\ttotal: 1.81s\tremaining: 836ms\n",
      "684:\tlearn: 0.1069613\ttotal: 1.81s\tremaining: 833ms\n",
      "685:\tlearn: 0.1068424\ttotal: 1.81s\tremaining: 830ms\n",
      "686:\tlearn: 0.1068063\ttotal: 1.82s\tremaining: 828ms\n",
      "687:\tlearn: 0.1067242\ttotal: 1.82s\tremaining: 825ms\n",
      "688:\tlearn: 0.1066102\ttotal: 1.82s\tremaining: 822ms\n",
      "689:\tlearn: 0.1065833\ttotal: 1.82s\tremaining: 819ms\n",
      "690:\tlearn: 0.1063714\ttotal: 1.83s\tremaining: 817ms\n",
      "691:\tlearn: 0.1062855\ttotal: 1.83s\tremaining: 814ms\n",
      "692:\tlearn: 0.1062073\ttotal: 1.83s\tremaining: 811ms\n",
      "693:\tlearn: 0.1061558\ttotal: 1.83s\tremaining: 808ms\n",
      "694:\tlearn: 0.1060643\ttotal: 1.83s\tremaining: 806ms\n",
      "695:\tlearn: 0.1059710\ttotal: 1.84s\tremaining: 803ms\n",
      "696:\tlearn: 0.1058402\ttotal: 1.84s\tremaining: 800ms\n",
      "697:\tlearn: 0.1057908\ttotal: 1.84s\tremaining: 797ms\n",
      "698:\tlearn: 0.1056392\ttotal: 1.84s\tremaining: 795ms\n",
      "699:\tlearn: 0.1054165\ttotal: 1.85s\tremaining: 792ms\n",
      "700:\tlearn: 0.1053252\ttotal: 1.85s\tremaining: 789ms\n",
      "701:\tlearn: 0.1051987\ttotal: 1.85s\tremaining: 786ms\n",
      "702:\tlearn: 0.1051686\ttotal: 1.85s\tremaining: 784ms\n",
      "703:\tlearn: 0.1051023\ttotal: 1.86s\tremaining: 781ms\n",
      "704:\tlearn: 0.1049847\ttotal: 1.86s\tremaining: 778ms\n",
      "705:\tlearn: 0.1048592\ttotal: 1.86s\tremaining: 775ms\n",
      "706:\tlearn: 0.1046765\ttotal: 1.86s\tremaining: 773ms\n",
      "707:\tlearn: 0.1044788\ttotal: 1.87s\tremaining: 770ms\n",
      "708:\tlearn: 0.1043073\ttotal: 1.87s\tremaining: 767ms\n",
      "709:\tlearn: 0.1042136\ttotal: 1.87s\tremaining: 764ms\n",
      "710:\tlearn: 0.1041635\ttotal: 1.87s\tremaining: 761ms\n",
      "711:\tlearn: 0.1040517\ttotal: 1.88s\tremaining: 758ms\n",
      "712:\tlearn: 0.1039853\ttotal: 1.88s\tremaining: 756ms\n",
      "713:\tlearn: 0.1038741\ttotal: 1.88s\tremaining: 753ms\n",
      "714:\tlearn: 0.1037583\ttotal: 1.88s\tremaining: 750ms\n",
      "715:\tlearn: 0.1036095\ttotal: 1.88s\tremaining: 747ms\n",
      "716:\tlearn: 0.1034945\ttotal: 1.89s\tremaining: 744ms\n",
      "717:\tlearn: 0.1034393\ttotal: 1.89s\tremaining: 741ms\n",
      "718:\tlearn: 0.1032983\ttotal: 1.89s\tremaining: 739ms\n",
      "719:\tlearn: 0.1031645\ttotal: 1.89s\tremaining: 736ms\n",
      "720:\tlearn: 0.1029871\ttotal: 1.89s\tremaining: 733ms\n",
      "721:\tlearn: 0.1027753\ttotal: 1.9s\tremaining: 730ms\n",
      "722:\tlearn: 0.1026865\ttotal: 1.9s\tremaining: 727ms\n",
      "723:\tlearn: 0.1026257\ttotal: 1.9s\tremaining: 724ms\n",
      "724:\tlearn: 0.1024718\ttotal: 1.9s\tremaining: 721ms\n",
      "725:\tlearn: 0.1023354\ttotal: 1.9s\tremaining: 719ms\n",
      "726:\tlearn: 0.1023104\ttotal: 1.91s\tremaining: 716ms\n",
      "727:\tlearn: 0.1022852\ttotal: 1.91s\tremaining: 713ms\n",
      "728:\tlearn: 0.1021621\ttotal: 1.91s\tremaining: 710ms\n",
      "729:\tlearn: 0.1021420\ttotal: 1.91s\tremaining: 707ms\n",
      "730:\tlearn: 0.1021138\ttotal: 1.91s\tremaining: 704ms\n",
      "731:\tlearn: 0.1019785\ttotal: 1.92s\tremaining: 701ms\n",
      "732:\tlearn: 0.1019626\ttotal: 1.92s\tremaining: 699ms\n",
      "733:\tlearn: 0.1017910\ttotal: 1.92s\tremaining: 696ms\n",
      "734:\tlearn: 0.1017394\ttotal: 1.92s\tremaining: 693ms\n",
      "735:\tlearn: 0.1016880\ttotal: 1.92s\tremaining: 690ms\n",
      "736:\tlearn: 0.1015923\ttotal: 1.93s\tremaining: 687ms\n",
      "737:\tlearn: 0.1014986\ttotal: 1.93s\tremaining: 684ms\n",
      "738:\tlearn: 0.1013523\ttotal: 1.93s\tremaining: 682ms\n",
      "739:\tlearn: 0.1012151\ttotal: 1.93s\tremaining: 679ms\n",
      "740:\tlearn: 0.1009953\ttotal: 1.93s\tremaining: 676ms\n",
      "741:\tlearn: 0.1008448\ttotal: 1.94s\tremaining: 673ms\n",
      "742:\tlearn: 0.1008063\ttotal: 1.94s\tremaining: 670ms\n",
      "743:\tlearn: 0.1007482\ttotal: 1.94s\tremaining: 668ms\n",
      "744:\tlearn: 0.1007292\ttotal: 1.94s\tremaining: 665ms\n",
      "745:\tlearn: 0.1006259\ttotal: 1.94s\tremaining: 662ms\n",
      "746:\tlearn: 0.1004716\ttotal: 1.95s\tremaining: 659ms\n",
      "747:\tlearn: 0.1004337\ttotal: 1.95s\tremaining: 656ms\n",
      "748:\tlearn: 0.1003020\ttotal: 1.95s\tremaining: 653ms\n",
      "749:\tlearn: 0.1001846\ttotal: 1.95s\tremaining: 651ms\n",
      "750:\tlearn: 0.0999730\ttotal: 1.95s\tremaining: 648ms\n",
      "751:\tlearn: 0.0999051\ttotal: 1.96s\tremaining: 645ms\n",
      "752:\tlearn: 0.0997380\ttotal: 1.96s\tremaining: 642ms\n",
      "753:\tlearn: 0.0996063\ttotal: 1.96s\tremaining: 640ms\n",
      "754:\tlearn: 0.0995100\ttotal: 1.96s\tremaining: 637ms\n",
      "755:\tlearn: 0.0993721\ttotal: 1.96s\tremaining: 634ms\n",
      "756:\tlearn: 0.0991796\ttotal: 1.97s\tremaining: 631ms\n",
      "757:\tlearn: 0.0990549\ttotal: 1.97s\tremaining: 628ms\n",
      "758:\tlearn: 0.0988556\ttotal: 1.97s\tremaining: 626ms\n",
      "759:\tlearn: 0.0986445\ttotal: 1.97s\tremaining: 623ms\n",
      "760:\tlearn: 0.0985897\ttotal: 1.97s\tremaining: 620ms\n",
      "761:\tlearn: 0.0984769\ttotal: 1.98s\tremaining: 618ms\n",
      "762:\tlearn: 0.0984024\ttotal: 1.98s\tremaining: 615ms\n",
      "763:\tlearn: 0.0983397\ttotal: 1.98s\tremaining: 612ms\n",
      "764:\tlearn: 0.0981628\ttotal: 1.98s\tremaining: 610ms\n",
      "765:\tlearn: 0.0981078\ttotal: 1.99s\tremaining: 607ms\n",
      "766:\tlearn: 0.0980313\ttotal: 1.99s\tremaining: 604ms\n",
      "767:\tlearn: 0.0978469\ttotal: 1.99s\tremaining: 601ms\n",
      "768:\tlearn: 0.0976324\ttotal: 1.99s\tremaining: 599ms\n",
      "769:\tlearn: 0.0975343\ttotal: 2s\tremaining: 596ms\n",
      "770:\tlearn: 0.0973394\ttotal: 2s\tremaining: 593ms\n",
      "771:\tlearn: 0.0972752\ttotal: 2s\tremaining: 591ms\n",
      "772:\tlearn: 0.0971060\ttotal: 2s\tremaining: 588ms\n",
      "773:\tlearn: 0.0970784\ttotal: 2s\tremaining: 585ms\n",
      "774:\tlearn: 0.0968681\ttotal: 2.01s\tremaining: 583ms\n",
      "775:\tlearn: 0.0968285\ttotal: 2.01s\tremaining: 580ms\n",
      "776:\tlearn: 0.0966592\ttotal: 2.01s\tremaining: 577ms\n",
      "777:\tlearn: 0.0966139\ttotal: 2.01s\tremaining: 575ms\n",
      "778:\tlearn: 0.0964472\ttotal: 2.02s\tremaining: 572ms\n",
      "779:\tlearn: 0.0963223\ttotal: 2.02s\tremaining: 569ms\n",
      "780:\tlearn: 0.0962718\ttotal: 2.02s\tremaining: 567ms\n",
      "781:\tlearn: 0.0961224\ttotal: 2.02s\tremaining: 564ms\n",
      "782:\tlearn: 0.0959689\ttotal: 2.03s\tremaining: 562ms\n",
      "783:\tlearn: 0.0958410\ttotal: 2.03s\tremaining: 559ms\n",
      "784:\tlearn: 0.0957303\ttotal: 2.03s\tremaining: 556ms\n",
      "785:\tlearn: 0.0955182\ttotal: 2.03s\tremaining: 554ms\n",
      "786:\tlearn: 0.0954520\ttotal: 2.04s\tremaining: 551ms\n",
      "787:\tlearn: 0.0953595\ttotal: 2.04s\tremaining: 548ms\n",
      "788:\tlearn: 0.0952474\ttotal: 2.04s\tremaining: 546ms\n",
      "789:\tlearn: 0.0951962\ttotal: 2.04s\tremaining: 543ms\n",
      "790:\tlearn: 0.0950056\ttotal: 2.05s\tremaining: 541ms\n",
      "791:\tlearn: 0.0948911\ttotal: 2.05s\tremaining: 538ms\n",
      "792:\tlearn: 0.0946926\ttotal: 2.05s\tremaining: 536ms\n",
      "793:\tlearn: 0.0946062\ttotal: 2.05s\tremaining: 533ms\n",
      "794:\tlearn: 0.0945605\ttotal: 2.06s\tremaining: 530ms\n",
      "795:\tlearn: 0.0944224\ttotal: 2.06s\tremaining: 528ms\n",
      "796:\tlearn: 0.0942555\ttotal: 2.06s\tremaining: 525ms\n",
      "797:\tlearn: 0.0941755\ttotal: 2.06s\tremaining: 522ms\n",
      "798:\tlearn: 0.0940380\ttotal: 2.07s\tremaining: 520ms\n",
      "799:\tlearn: 0.0939160\ttotal: 2.07s\tremaining: 517ms\n",
      "800:\tlearn: 0.0938584\ttotal: 2.07s\tremaining: 515ms\n",
      "801:\tlearn: 0.0937891\ttotal: 2.07s\tremaining: 512ms\n",
      "802:\tlearn: 0.0936584\ttotal: 2.08s\tremaining: 510ms\n",
      "803:\tlearn: 0.0934981\ttotal: 2.08s\tremaining: 507ms\n",
      "804:\tlearn: 0.0933715\ttotal: 2.08s\tremaining: 504ms\n",
      "805:\tlearn: 0.0932166\ttotal: 2.08s\tremaining: 502ms\n",
      "806:\tlearn: 0.0930736\ttotal: 2.09s\tremaining: 499ms\n",
      "807:\tlearn: 0.0929947\ttotal: 2.09s\tremaining: 497ms\n",
      "808:\tlearn: 0.0928988\ttotal: 2.09s\tremaining: 494ms\n",
      "809:\tlearn: 0.0927312\ttotal: 2.1s\tremaining: 491ms\n",
      "810:\tlearn: 0.0926074\ttotal: 2.1s\tremaining: 489ms\n",
      "811:\tlearn: 0.0924219\ttotal: 2.1s\tremaining: 486ms\n",
      "812:\tlearn: 0.0922227\ttotal: 2.1s\tremaining: 484ms\n",
      "813:\tlearn: 0.0921104\ttotal: 2.11s\tremaining: 481ms\n",
      "814:\tlearn: 0.0920449\ttotal: 2.11s\tremaining: 479ms\n",
      "815:\tlearn: 0.0920014\ttotal: 2.11s\tremaining: 476ms\n",
      "816:\tlearn: 0.0919725\ttotal: 2.11s\tremaining: 474ms\n",
      "817:\tlearn: 0.0919156\ttotal: 2.12s\tremaining: 471ms\n",
      "818:\tlearn: 0.0918100\ttotal: 2.12s\tremaining: 469ms\n",
      "819:\tlearn: 0.0916762\ttotal: 2.12s\tremaining: 466ms\n",
      "820:\tlearn: 0.0915759\ttotal: 2.12s\tremaining: 463ms\n",
      "821:\tlearn: 0.0913454\ttotal: 2.13s\tremaining: 461ms\n",
      "822:\tlearn: 0.0912705\ttotal: 2.13s\tremaining: 458ms\n",
      "823:\tlearn: 0.0911825\ttotal: 2.13s\tremaining: 456ms\n",
      "824:\tlearn: 0.0911423\ttotal: 2.14s\tremaining: 453ms\n",
      "825:\tlearn: 0.0909806\ttotal: 2.14s\tremaining: 450ms\n",
      "826:\tlearn: 0.0908633\ttotal: 2.14s\tremaining: 448ms\n",
      "827:\tlearn: 0.0907973\ttotal: 2.14s\tremaining: 445ms\n",
      "828:\tlearn: 0.0907075\ttotal: 2.15s\tremaining: 443ms\n",
      "829:\tlearn: 0.0906960\ttotal: 2.15s\tremaining: 441ms\n",
      "830:\tlearn: 0.0906086\ttotal: 2.15s\tremaining: 438ms\n",
      "831:\tlearn: 0.0904337\ttotal: 2.16s\tremaining: 436ms\n",
      "832:\tlearn: 0.0903400\ttotal: 2.16s\tremaining: 433ms\n",
      "833:\tlearn: 0.0902539\ttotal: 2.16s\tremaining: 430ms\n",
      "834:\tlearn: 0.0901170\ttotal: 2.17s\tremaining: 428ms\n",
      "835:\tlearn: 0.0900070\ttotal: 2.17s\tremaining: 425ms\n",
      "836:\tlearn: 0.0898692\ttotal: 2.17s\tremaining: 423ms\n",
      "837:\tlearn: 0.0897701\ttotal: 2.17s\tremaining: 420ms\n",
      "838:\tlearn: 0.0896117\ttotal: 2.17s\tremaining: 417ms\n",
      "839:\tlearn: 0.0895731\ttotal: 2.18s\tremaining: 415ms\n",
      "840:\tlearn: 0.0895260\ttotal: 2.18s\tremaining: 412ms\n",
      "841:\tlearn: 0.0894439\ttotal: 2.18s\tremaining: 409ms\n",
      "842:\tlearn: 0.0894277\ttotal: 2.19s\tremaining: 407ms\n",
      "843:\tlearn: 0.0892534\ttotal: 2.19s\tremaining: 404ms\n",
      "844:\tlearn: 0.0890601\ttotal: 2.19s\tremaining: 402ms\n",
      "845:\tlearn: 0.0889490\ttotal: 2.19s\tremaining: 399ms\n",
      "846:\tlearn: 0.0889296\ttotal: 2.19s\tremaining: 396ms\n",
      "847:\tlearn: 0.0887477\ttotal: 2.2s\tremaining: 394ms\n",
      "848:\tlearn: 0.0887288\ttotal: 2.2s\tremaining: 391ms\n",
      "849:\tlearn: 0.0886828\ttotal: 2.2s\tremaining: 389ms\n",
      "850:\tlearn: 0.0886680\ttotal: 2.21s\tremaining: 386ms\n",
      "851:\tlearn: 0.0885499\ttotal: 2.21s\tremaining: 384ms\n",
      "852:\tlearn: 0.0884390\ttotal: 2.21s\tremaining: 381ms\n",
      "853:\tlearn: 0.0882626\ttotal: 2.21s\tremaining: 378ms\n",
      "854:\tlearn: 0.0882140\ttotal: 2.21s\tremaining: 376ms\n",
      "855:\tlearn: 0.0881053\ttotal: 2.22s\tremaining: 373ms\n",
      "856:\tlearn: 0.0880433\ttotal: 2.22s\tremaining: 371ms\n",
      "857:\tlearn: 0.0880090\ttotal: 2.22s\tremaining: 368ms\n",
      "858:\tlearn: 0.0878044\ttotal: 2.23s\tremaining: 366ms\n",
      "859:\tlearn: 0.0877257\ttotal: 2.23s\tremaining: 363ms\n",
      "860:\tlearn: 0.0875418\ttotal: 2.23s\tremaining: 360ms\n",
      "861:\tlearn: 0.0874172\ttotal: 2.23s\tremaining: 358ms\n",
      "862:\tlearn: 0.0872923\ttotal: 2.24s\tremaining: 355ms\n",
      "863:\tlearn: 0.0871703\ttotal: 2.24s\tremaining: 353ms\n",
      "864:\tlearn: 0.0870609\ttotal: 2.24s\tremaining: 350ms\n",
      "865:\tlearn: 0.0870199\ttotal: 2.24s\tremaining: 347ms\n",
      "866:\tlearn: 0.0868195\ttotal: 2.25s\tremaining: 345ms\n",
      "867:\tlearn: 0.0867715\ttotal: 2.25s\tremaining: 342ms\n",
      "868:\tlearn: 0.0866794\ttotal: 2.25s\tremaining: 340ms\n",
      "869:\tlearn: 0.0865113\ttotal: 2.25s\tremaining: 337ms\n",
      "870:\tlearn: 0.0864325\ttotal: 2.26s\tremaining: 334ms\n",
      "871:\tlearn: 0.0864200\ttotal: 2.26s\tremaining: 332ms\n",
      "872:\tlearn: 0.0863702\ttotal: 2.26s\tremaining: 329ms\n",
      "873:\tlearn: 0.0862138\ttotal: 2.27s\tremaining: 327ms\n",
      "874:\tlearn: 0.0861363\ttotal: 2.27s\tremaining: 324ms\n",
      "875:\tlearn: 0.0860470\ttotal: 2.27s\tremaining: 321ms\n",
      "876:\tlearn: 0.0858992\ttotal: 2.27s\tremaining: 319ms\n",
      "877:\tlearn: 0.0858827\ttotal: 2.28s\tremaining: 316ms\n",
      "878:\tlearn: 0.0856802\ttotal: 2.28s\tremaining: 314ms\n",
      "879:\tlearn: 0.0856174\ttotal: 2.28s\tremaining: 311ms\n",
      "880:\tlearn: 0.0855759\ttotal: 2.28s\tremaining: 308ms\n",
      "881:\tlearn: 0.0854002\ttotal: 2.29s\tremaining: 306ms\n",
      "882:\tlearn: 0.0852640\ttotal: 2.29s\tremaining: 303ms\n",
      "883:\tlearn: 0.0852313\ttotal: 2.29s\tremaining: 301ms\n",
      "884:\tlearn: 0.0851152\ttotal: 2.29s\tremaining: 298ms\n",
      "885:\tlearn: 0.0850825\ttotal: 2.3s\tremaining: 295ms\n",
      "886:\tlearn: 0.0848892\ttotal: 2.3s\tremaining: 293ms\n",
      "887:\tlearn: 0.0847637\ttotal: 2.3s\tremaining: 290ms\n",
      "888:\tlearn: 0.0847396\ttotal: 2.3s\tremaining: 288ms\n",
      "889:\tlearn: 0.0847043\ttotal: 2.31s\tremaining: 285ms\n",
      "890:\tlearn: 0.0846266\ttotal: 2.31s\tremaining: 283ms\n",
      "891:\tlearn: 0.0845928\ttotal: 2.31s\tremaining: 280ms\n",
      "892:\tlearn: 0.0845446\ttotal: 2.31s\tremaining: 277ms\n",
      "893:\tlearn: 0.0844196\ttotal: 2.32s\tremaining: 275ms\n",
      "894:\tlearn: 0.0843573\ttotal: 2.32s\tremaining: 272ms\n",
      "895:\tlearn: 0.0842741\ttotal: 2.32s\tremaining: 270ms\n",
      "896:\tlearn: 0.0842303\ttotal: 2.32s\tremaining: 267ms\n",
      "897:\tlearn: 0.0841257\ttotal: 2.33s\tremaining: 264ms\n",
      "898:\tlearn: 0.0840951\ttotal: 2.33s\tremaining: 262ms\n",
      "899:\tlearn: 0.0840174\ttotal: 2.33s\tremaining: 259ms\n",
      "900:\tlearn: 0.0839414\ttotal: 2.34s\tremaining: 257ms\n",
      "901:\tlearn: 0.0838132\ttotal: 2.34s\tremaining: 254ms\n",
      "902:\tlearn: 0.0836404\ttotal: 2.34s\tremaining: 252ms\n",
      "903:\tlearn: 0.0835490\ttotal: 2.34s\tremaining: 249ms\n",
      "904:\tlearn: 0.0833696\ttotal: 2.35s\tremaining: 246ms\n",
      "905:\tlearn: 0.0831571\ttotal: 2.35s\tremaining: 244ms\n",
      "906:\tlearn: 0.0831412\ttotal: 2.35s\tremaining: 241ms\n",
      "907:\tlearn: 0.0830341\ttotal: 2.35s\tremaining: 239ms\n",
      "908:\tlearn: 0.0830073\ttotal: 2.36s\tremaining: 236ms\n",
      "909:\tlearn: 0.0829839\ttotal: 2.36s\tremaining: 233ms\n",
      "910:\tlearn: 0.0829541\ttotal: 2.36s\tremaining: 231ms\n",
      "911:\tlearn: 0.0829435\ttotal: 2.36s\tremaining: 228ms\n",
      "912:\tlearn: 0.0829192\ttotal: 2.37s\tremaining: 226ms\n",
      "913:\tlearn: 0.0828632\ttotal: 2.37s\tremaining: 223ms\n",
      "914:\tlearn: 0.0828176\ttotal: 2.37s\tremaining: 220ms\n",
      "915:\tlearn: 0.0827577\ttotal: 2.37s\tremaining: 218ms\n",
      "916:\tlearn: 0.0826974\ttotal: 2.38s\tremaining: 215ms\n",
      "917:\tlearn: 0.0826139\ttotal: 2.38s\tremaining: 213ms\n",
      "918:\tlearn: 0.0824526\ttotal: 2.38s\tremaining: 210ms\n",
      "919:\tlearn: 0.0823360\ttotal: 2.38s\tremaining: 207ms\n",
      "920:\tlearn: 0.0822975\ttotal: 2.39s\tremaining: 205ms\n",
      "921:\tlearn: 0.0822834\ttotal: 2.39s\tremaining: 202ms\n",
      "922:\tlearn: 0.0822488\ttotal: 2.39s\tremaining: 200ms\n",
      "923:\tlearn: 0.0820562\ttotal: 2.4s\tremaining: 197ms\n",
      "924:\tlearn: 0.0819303\ttotal: 2.4s\tremaining: 195ms\n",
      "925:\tlearn: 0.0817736\ttotal: 2.4s\tremaining: 192ms\n",
      "926:\tlearn: 0.0816072\ttotal: 2.4s\tremaining: 189ms\n",
      "927:\tlearn: 0.0815621\ttotal: 2.41s\tremaining: 187ms\n",
      "928:\tlearn: 0.0815159\ttotal: 2.41s\tremaining: 184ms\n",
      "929:\tlearn: 0.0814290\ttotal: 2.41s\tremaining: 182ms\n",
      "930:\tlearn: 0.0812618\ttotal: 2.41s\tremaining: 179ms\n",
      "931:\tlearn: 0.0812113\ttotal: 2.42s\tremaining: 176ms\n",
      "932:\tlearn: 0.0811411\ttotal: 2.42s\tremaining: 174ms\n",
      "933:\tlearn: 0.0810591\ttotal: 2.42s\tremaining: 171ms\n",
      "934:\tlearn: 0.0808566\ttotal: 2.42s\tremaining: 169ms\n",
      "935:\tlearn: 0.0807511\ttotal: 2.43s\tremaining: 166ms\n",
      "936:\tlearn: 0.0807002\ttotal: 2.43s\tremaining: 163ms\n",
      "937:\tlearn: 0.0805465\ttotal: 2.43s\tremaining: 161ms\n",
      "938:\tlearn: 0.0805017\ttotal: 2.44s\tremaining: 158ms\n",
      "939:\tlearn: 0.0804732\ttotal: 2.44s\tremaining: 156ms\n",
      "940:\tlearn: 0.0804237\ttotal: 2.44s\tremaining: 153ms\n",
      "941:\tlearn: 0.0804106\ttotal: 2.44s\tremaining: 151ms\n",
      "942:\tlearn: 0.0802566\ttotal: 2.45s\tremaining: 148ms\n",
      "943:\tlearn: 0.0802041\ttotal: 2.45s\tremaining: 145ms\n",
      "944:\tlearn: 0.0801562\ttotal: 2.45s\tremaining: 143ms\n",
      "945:\tlearn: 0.0800975\ttotal: 2.46s\tremaining: 140ms\n",
      "946:\tlearn: 0.0799333\ttotal: 2.46s\tremaining: 138ms\n",
      "947:\tlearn: 0.0798692\ttotal: 2.46s\tremaining: 135ms\n",
      "948:\tlearn: 0.0797417\ttotal: 2.46s\tremaining: 132ms\n",
      "949:\tlearn: 0.0797250\ttotal: 2.46s\tremaining: 130ms\n",
      "950:\tlearn: 0.0795926\ttotal: 2.47s\tremaining: 127ms\n",
      "951:\tlearn: 0.0794786\ttotal: 2.47s\tremaining: 125ms\n",
      "952:\tlearn: 0.0793154\ttotal: 2.47s\tremaining: 122ms\n",
      "953:\tlearn: 0.0792790\ttotal: 2.48s\tremaining: 119ms\n",
      "954:\tlearn: 0.0792101\ttotal: 2.48s\tremaining: 117ms\n",
      "955:\tlearn: 0.0791697\ttotal: 2.48s\tremaining: 114ms\n",
      "956:\tlearn: 0.0791053\ttotal: 2.48s\tremaining: 112ms\n",
      "957:\tlearn: 0.0790109\ttotal: 2.49s\tremaining: 109ms\n",
      "958:\tlearn: 0.0788502\ttotal: 2.49s\tremaining: 106ms\n",
      "959:\tlearn: 0.0787721\ttotal: 2.49s\tremaining: 104ms\n",
      "960:\tlearn: 0.0786874\ttotal: 2.49s\tremaining: 101ms\n",
      "961:\tlearn: 0.0785681\ttotal: 2.5s\tremaining: 98.6ms\n",
      "962:\tlearn: 0.0784400\ttotal: 2.5s\tremaining: 96ms\n",
      "963:\tlearn: 0.0782727\ttotal: 2.5s\tremaining: 93.4ms\n",
      "964:\tlearn: 0.0781696\ttotal: 2.5s\tremaining: 90.9ms\n",
      "965:\tlearn: 0.0780768\ttotal: 2.51s\tremaining: 88.3ms\n",
      "966:\tlearn: 0.0780491\ttotal: 2.51s\tremaining: 85.7ms\n",
      "967:\tlearn: 0.0779881\ttotal: 2.51s\tremaining: 83.1ms\n",
      "968:\tlearn: 0.0779744\ttotal: 2.52s\tremaining: 80.5ms\n",
      "969:\tlearn: 0.0779439\ttotal: 2.52s\tremaining: 77.9ms\n",
      "970:\tlearn: 0.0777564\ttotal: 2.52s\tremaining: 75.3ms\n",
      "971:\tlearn: 0.0776561\ttotal: 2.52s\tremaining: 72.7ms\n",
      "972:\tlearn: 0.0775000\ttotal: 2.53s\tremaining: 70.1ms\n",
      "973:\tlearn: 0.0774879\ttotal: 2.53s\tremaining: 67.5ms\n",
      "974:\tlearn: 0.0774764\ttotal: 2.53s\tremaining: 64.9ms\n",
      "975:\tlearn: 0.0773140\ttotal: 2.54s\tremaining: 62.3ms\n",
      "976:\tlearn: 0.0772744\ttotal: 2.54s\tremaining: 59.8ms\n",
      "977:\tlearn: 0.0771014\ttotal: 2.54s\tremaining: 57.1ms\n",
      "978:\tlearn: 0.0770896\ttotal: 2.54s\tremaining: 54.5ms\n",
      "979:\tlearn: 0.0770793\ttotal: 2.54s\tremaining: 51.9ms\n",
      "980:\tlearn: 0.0769059\ttotal: 2.55s\tremaining: 49.3ms\n",
      "981:\tlearn: 0.0768627\ttotal: 2.55s\tremaining: 46.7ms\n",
      "982:\tlearn: 0.0768080\ttotal: 2.55s\tremaining: 44.1ms\n",
      "983:\tlearn: 0.0767880\ttotal: 2.55s\tremaining: 41.5ms\n",
      "984:\tlearn: 0.0766334\ttotal: 2.56s\tremaining: 38.9ms\n",
      "985:\tlearn: 0.0766004\ttotal: 2.56s\tremaining: 36.3ms\n",
      "986:\tlearn: 0.0765001\ttotal: 2.56s\tremaining: 33.7ms\n",
      "987:\tlearn: 0.0763892\ttotal: 2.56s\tremaining: 31.1ms\n",
      "988:\tlearn: 0.0763199\ttotal: 2.56s\tremaining: 28.5ms\n",
      "989:\tlearn: 0.0762880\ttotal: 2.57s\tremaining: 25.9ms\n",
      "990:\tlearn: 0.0762118\ttotal: 2.57s\tremaining: 23.3ms\n",
      "991:\tlearn: 0.0761085\ttotal: 2.57s\tremaining: 20.7ms\n",
      "992:\tlearn: 0.0760082\ttotal: 2.57s\tremaining: 18.1ms\n",
      "993:\tlearn: 0.0758989\ttotal: 2.58s\tremaining: 15.6ms\n",
      "994:\tlearn: 0.0758549\ttotal: 2.58s\tremaining: 13ms\n",
      "995:\tlearn: 0.0758402\ttotal: 2.58s\tremaining: 10.4ms\n",
      "996:\tlearn: 0.0758173\ttotal: 2.58s\tremaining: 7.77ms\n",
      "997:\tlearn: 0.0757297\ttotal: 2.58s\tremaining: 5.18ms\n",
      "998:\tlearn: 0.0756327\ttotal: 2.59s\tremaining: 2.59ms\n",
      "999:\tlearn: 0.0756027\ttotal: 2.59s\tremaining: 0us\n"
     ]
    }
   ],
   "source": [
    "cat_model = CatBoostClassifier().fit(X_train, y_train)"
   ]
  },
  {
   "cell_type": "code",
   "execution_count": 189,
   "metadata": {},
   "outputs": [
    {
     "data": {
      "text/plain": [
       "0.8614718614718615"
      ]
     },
     "execution_count": 189,
     "metadata": {},
     "output_type": "execute_result"
    }
   ],
   "source": [
    "y_pred = cat_model.predict(X_test)\n",
    "accuracy_score(y_test, y_pred)"
   ]
  },
  {
   "cell_type": "code",
   "execution_count": null,
   "metadata": {},
   "outputs": [],
   "source": [
    "#modeltuning"
   ]
  },
  {
   "cell_type": "code",
   "execution_count": 190,
   "metadata": {},
   "outputs": [],
   "source": [
    "catb_params = {\n",
    "    'iterations': [200,500],\n",
    "    'learning_rate': [0.01,0.05, 0.1],\n",
    "    'depth': [3,5,8] }"
   ]
  },
  {
   "cell_type": "code",
   "execution_count": 191,
   "metadata": {},
   "outputs": [
    {
     "name": "stdout",
     "output_type": "stream",
     "text": [
      "Fitting 5 folds for each of 18 candidates, totalling 90 fits\n"
     ]
    },
    {
     "name": "stderr",
     "output_type": "stream",
     "text": [
      "[Parallel(n_jobs=-1)]: Using backend LokyBackend with 4 concurrent workers.\n",
      "[Parallel(n_jobs=-1)]: Done  33 tasks      | elapsed:    9.8s\n",
      "[Parallel(n_jobs=-1)]: Done  90 out of  90 | elapsed:   52.1s finished\n"
     ]
    },
    {
     "name": "stdout",
     "output_type": "stream",
     "text": [
      "0:\tlearn: 0.6339802\ttotal: 1.22ms\tremaining: 243ms\n",
      "1:\tlearn: 0.5696357\ttotal: 2.6ms\tremaining: 258ms\n",
      "2:\tlearn: 0.5198928\ttotal: 3.8ms\tremaining: 249ms\n",
      "3:\tlearn: 0.4768667\ttotal: 4.94ms\tremaining: 242ms\n",
      "4:\tlearn: 0.4443025\ttotal: 6.08ms\tremaining: 237ms\n",
      "5:\tlearn: 0.4096408\ttotal: 7.43ms\tremaining: 240ms\n",
      "6:\tlearn: 0.3904734\ttotal: 8.67ms\tremaining: 239ms\n",
      "7:\tlearn: 0.3656117\ttotal: 9.84ms\tremaining: 236ms\n",
      "8:\tlearn: 0.3539201\ttotal: 11ms\tremaining: 233ms\n",
      "9:\tlearn: 0.3405689\ttotal: 12.1ms\tremaining: 231ms\n",
      "10:\tlearn: 0.3252763\ttotal: 13.3ms\tremaining: 229ms\n",
      "11:\tlearn: 0.3191188\ttotal: 14.7ms\tremaining: 230ms\n",
      "12:\tlearn: 0.3106900\ttotal: 16.2ms\tremaining: 233ms\n",
      "13:\tlearn: 0.3011487\ttotal: 17.7ms\tremaining: 235ms\n",
      "14:\tlearn: 0.2886159\ttotal: 19.4ms\tremaining: 240ms\n",
      "15:\tlearn: 0.2823725\ttotal: 21ms\tremaining: 242ms\n",
      "16:\tlearn: 0.2782155\ttotal: 22.6ms\tremaining: 243ms\n",
      "17:\tlearn: 0.2752574\ttotal: 23.8ms\tremaining: 240ms\n",
      "18:\tlearn: 0.2712874\ttotal: 24.9ms\tremaining: 237ms\n",
      "19:\tlearn: 0.2658815\ttotal: 26ms\tremaining: 234ms\n",
      "20:\tlearn: 0.2631421\ttotal: 27.4ms\tremaining: 234ms\n",
      "21:\tlearn: 0.2594005\ttotal: 29ms\tremaining: 235ms\n",
      "22:\tlearn: 0.2557809\ttotal: 31.1ms\tremaining: 239ms\n",
      "23:\tlearn: 0.2517934\ttotal: 32.5ms\tremaining: 239ms\n",
      "24:\tlearn: 0.2495495\ttotal: 34ms\tremaining: 238ms\n",
      "25:\tlearn: 0.2472535\ttotal: 35.5ms\tremaining: 238ms\n",
      "26:\tlearn: 0.2441035\ttotal: 37.6ms\tremaining: 241ms\n",
      "27:\tlearn: 0.2431796\ttotal: 39.1ms\tremaining: 240ms\n",
      "28:\tlearn: 0.2412868\ttotal: 40.3ms\tremaining: 237ms\n",
      "29:\tlearn: 0.2380778\ttotal: 41.8ms\tremaining: 237ms\n",
      "30:\tlearn: 0.2328129\ttotal: 43.5ms\tremaining: 237ms\n",
      "31:\tlearn: 0.2304786\ttotal: 44.7ms\tremaining: 234ms\n",
      "32:\tlearn: 0.2281477\ttotal: 45.8ms\tremaining: 232ms\n",
      "33:\tlearn: 0.2263862\ttotal: 47ms\tremaining: 229ms\n",
      "34:\tlearn: 0.2236709\ttotal: 48.5ms\tremaining: 229ms\n",
      "35:\tlearn: 0.2220572\ttotal: 50.3ms\tremaining: 229ms\n",
      "36:\tlearn: 0.2208228\ttotal: 51.5ms\tremaining: 227ms\n",
      "37:\tlearn: 0.2195450\ttotal: 52.6ms\tremaining: 224ms\n",
      "38:\tlearn: 0.2169631\ttotal: 53.7ms\tremaining: 222ms\n",
      "39:\tlearn: 0.2152205\ttotal: 55.1ms\tremaining: 221ms\n",
      "40:\tlearn: 0.2134081\ttotal: 57ms\tremaining: 221ms\n",
      "41:\tlearn: 0.2117457\ttotal: 58.2ms\tremaining: 219ms\n",
      "42:\tlearn: 0.2107057\ttotal: 59.3ms\tremaining: 217ms\n",
      "43:\tlearn: 0.2093741\ttotal: 60.4ms\tremaining: 214ms\n",
      "44:\tlearn: 0.2083972\ttotal: 61.9ms\tremaining: 213ms\n",
      "45:\tlearn: 0.2072706\ttotal: 63.5ms\tremaining: 213ms\n",
      "46:\tlearn: 0.2057488\ttotal: 64.7ms\tremaining: 211ms\n",
      "47:\tlearn: 0.2048353\ttotal: 65.8ms\tremaining: 209ms\n",
      "48:\tlearn: 0.2041284\ttotal: 67ms\tremaining: 206ms\n",
      "49:\tlearn: 0.2012600\ttotal: 68.3ms\tremaining: 205ms\n",
      "50:\tlearn: 0.2008212\ttotal: 69.7ms\tremaining: 204ms\n",
      "51:\tlearn: 0.1994568\ttotal: 71.2ms\tremaining: 203ms\n",
      "52:\tlearn: 0.1973076\ttotal: 72.7ms\tremaining: 202ms\n",
      "53:\tlearn: 0.1955552\ttotal: 74ms\tremaining: 200ms\n",
      "54:\tlearn: 0.1943505\ttotal: 75.6ms\tremaining: 199ms\n",
      "55:\tlearn: 0.1941166\ttotal: 77.4ms\tremaining: 199ms\n",
      "56:\tlearn: 0.1920245\ttotal: 78.7ms\tremaining: 197ms\n",
      "57:\tlearn: 0.1918702\ttotal: 80ms\tremaining: 196ms\n",
      "58:\tlearn: 0.1909104\ttotal: 81.1ms\tremaining: 194ms\n",
      "59:\tlearn: 0.1895961\ttotal: 82.5ms\tremaining: 192ms\n",
      "60:\tlearn: 0.1881013\ttotal: 83.9ms\tremaining: 191ms\n",
      "61:\tlearn: 0.1878482\ttotal: 85.4ms\tremaining: 190ms\n",
      "62:\tlearn: 0.1866781\ttotal: 86.5ms\tremaining: 188ms\n",
      "63:\tlearn: 0.1847952\ttotal: 87.7ms\tremaining: 186ms\n",
      "64:\tlearn: 0.1802011\ttotal: 89ms\tremaining: 185ms\n",
      "65:\tlearn: 0.1795761\ttotal: 90.5ms\tremaining: 184ms\n",
      "66:\tlearn: 0.1789662\ttotal: 92ms\tremaining: 183ms\n",
      "67:\tlearn: 0.1782943\ttotal: 93.2ms\tremaining: 181ms\n",
      "68:\tlearn: 0.1770820\ttotal: 94.4ms\tremaining: 179ms\n",
      "69:\tlearn: 0.1755740\ttotal: 96.5ms\tremaining: 179ms\n",
      "70:\tlearn: 0.1746492\ttotal: 97.9ms\tremaining: 178ms\n",
      "71:\tlearn: 0.1739336\ttotal: 99.1ms\tremaining: 176ms\n",
      "72:\tlearn: 0.1733127\ttotal: 100ms\tremaining: 174ms\n",
      "73:\tlearn: 0.1722885\ttotal: 102ms\tremaining: 173ms\n",
      "74:\tlearn: 0.1672225\ttotal: 103ms\tremaining: 172ms\n",
      "75:\tlearn: 0.1669584\ttotal: 105ms\tremaining: 171ms\n",
      "76:\tlearn: 0.1658166\ttotal: 106ms\tremaining: 169ms\n",
      "77:\tlearn: 0.1656298\ttotal: 107ms\tremaining: 167ms\n",
      "78:\tlearn: 0.1648101\ttotal: 108ms\tremaining: 166ms\n",
      "79:\tlearn: 0.1627093\ttotal: 110ms\tremaining: 165ms\n",
      "80:\tlearn: 0.1608525\ttotal: 111ms\tremaining: 164ms\n",
      "81:\tlearn: 0.1587962\ttotal: 112ms\tremaining: 162ms\n",
      "82:\tlearn: 0.1570894\ttotal: 114ms\tremaining: 160ms\n",
      "83:\tlearn: 0.1567708\ttotal: 115ms\tremaining: 159ms\n",
      "84:\tlearn: 0.1564162\ttotal: 117ms\tremaining: 158ms\n",
      "85:\tlearn: 0.1556454\ttotal: 118ms\tremaining: 157ms\n",
      "86:\tlearn: 0.1534867\ttotal: 120ms\tremaining: 156ms\n",
      "87:\tlearn: 0.1500155\ttotal: 121ms\tremaining: 154ms\n",
      "88:\tlearn: 0.1498633\ttotal: 123ms\tremaining: 153ms\n",
      "89:\tlearn: 0.1495573\ttotal: 124ms\tremaining: 151ms\n",
      "90:\tlearn: 0.1491756\ttotal: 125ms\tremaining: 150ms\n",
      "91:\tlearn: 0.1478669\ttotal: 127ms\tremaining: 149ms\n",
      "92:\tlearn: 0.1466640\ttotal: 128ms\tremaining: 147ms\n",
      "93:\tlearn: 0.1461757\ttotal: 129ms\tremaining: 146ms\n",
      "94:\tlearn: 0.1448589\ttotal: 131ms\tremaining: 145ms\n",
      "95:\tlearn: 0.1446564\ttotal: 132ms\tremaining: 143ms\n",
      "96:\tlearn: 0.1431060\ttotal: 133ms\tremaining: 142ms\n",
      "97:\tlearn: 0.1405313\ttotal: 134ms\tremaining: 140ms\n",
      "98:\tlearn: 0.1403700\ttotal: 136ms\tremaining: 139ms\n",
      "99:\tlearn: 0.1393604\ttotal: 138ms\tremaining: 138ms\n",
      "100:\tlearn: 0.1391582\ttotal: 139ms\tremaining: 137ms\n",
      "101:\tlearn: 0.1375068\ttotal: 141ms\tremaining: 135ms\n",
      "102:\tlearn: 0.1358045\ttotal: 142ms\tremaining: 133ms\n",
      "103:\tlearn: 0.1352509\ttotal: 143ms\tremaining: 132ms\n",
      "104:\tlearn: 0.1347743\ttotal: 145ms\tremaining: 131ms\n",
      "105:\tlearn: 0.1322140\ttotal: 146ms\tremaining: 130ms\n",
      "106:\tlearn: 0.1303065\ttotal: 147ms\tremaining: 128ms\n",
      "107:\tlearn: 0.1293291\ttotal: 148ms\tremaining: 126ms\n",
      "108:\tlearn: 0.1281196\ttotal: 150ms\tremaining: 125ms\n",
      "109:\tlearn: 0.1265498\ttotal: 152ms\tremaining: 124ms\n",
      "110:\tlearn: 0.1257347\ttotal: 153ms\tremaining: 123ms\n",
      "111:\tlearn: 0.1245572\ttotal: 154ms\tremaining: 121ms\n",
      "112:\tlearn: 0.1241511\ttotal: 156ms\tremaining: 120ms\n",
      "113:\tlearn: 0.1237821\ttotal: 158ms\tremaining: 119ms\n",
      "114:\tlearn: 0.1228877\ttotal: 159ms\tremaining: 118ms\n",
      "115:\tlearn: 0.1220298\ttotal: 161ms\tremaining: 116ms\n",
      "116:\tlearn: 0.1206009\ttotal: 162ms\tremaining: 115ms\n",
      "117:\tlearn: 0.1195878\ttotal: 165ms\tremaining: 114ms\n",
      "118:\tlearn: 0.1192282\ttotal: 167ms\tremaining: 113ms\n",
      "119:\tlearn: 0.1184831\ttotal: 168ms\tremaining: 112ms\n",
      "120:\tlearn: 0.1173510\ttotal: 170ms\tremaining: 111ms\n",
      "121:\tlearn: 0.1172375\ttotal: 172ms\tremaining: 110ms\n",
      "122:\tlearn: 0.1160862\ttotal: 174ms\tremaining: 109ms\n",
      "123:\tlearn: 0.1154384\ttotal: 176ms\tremaining: 108ms\n",
      "124:\tlearn: 0.1146406\ttotal: 178ms\tremaining: 107ms\n",
      "125:\tlearn: 0.1145304\ttotal: 179ms\tremaining: 105ms\n",
      "126:\tlearn: 0.1135601\ttotal: 181ms\tremaining: 104ms\n",
      "127:\tlearn: 0.1130463\ttotal: 182ms\tremaining: 103ms\n",
      "128:\tlearn: 0.1123774\ttotal: 184ms\tremaining: 101ms\n",
      "129:\tlearn: 0.1120330\ttotal: 185ms\tremaining: 99.9ms\n",
      "130:\tlearn: 0.1115622\ttotal: 187ms\tremaining: 98.4ms\n",
      "131:\tlearn: 0.1114438\ttotal: 188ms\tremaining: 97ms\n",
      "132:\tlearn: 0.1105755\ttotal: 190ms\tremaining: 95.9ms\n",
      "133:\tlearn: 0.1101372\ttotal: 192ms\tremaining: 94.4ms\n",
      "134:\tlearn: 0.1089691\ttotal: 193ms\tremaining: 93ms\n",
      "135:\tlearn: 0.1086433\ttotal: 195ms\tremaining: 91.6ms\n",
      "136:\tlearn: 0.1083741\ttotal: 197ms\tremaining: 90.4ms\n",
      "137:\tlearn: 0.1079742\ttotal: 198ms\tremaining: 89ms\n",
      "138:\tlearn: 0.1070705\ttotal: 200ms\tremaining: 87.7ms\n",
      "139:\tlearn: 0.1068731\ttotal: 201ms\tremaining: 86.2ms\n",
      "140:\tlearn: 0.1056415\ttotal: 203ms\tremaining: 85ms\n",
      "141:\tlearn: 0.1055686\ttotal: 205ms\tremaining: 83.6ms\n",
      "142:\tlearn: 0.1053657\ttotal: 206ms\tremaining: 82.2ms\n",
      "143:\tlearn: 0.1044430\ttotal: 208ms\tremaining: 80.7ms\n",
      "144:\tlearn: 0.1037812\ttotal: 209ms\tremaining: 79.3ms\n",
      "145:\tlearn: 0.1020730\ttotal: 211ms\tremaining: 78ms\n",
      "146:\tlearn: 0.1019656\ttotal: 216ms\tremaining: 77.9ms\n",
      "147:\tlearn: 0.1014272\ttotal: 218ms\tremaining: 76.6ms\n",
      "148:\tlearn: 0.1003194\ttotal: 220ms\tremaining: 75.2ms\n",
      "149:\tlearn: 0.0993058\ttotal: 221ms\tremaining: 73.7ms\n",
      "150:\tlearn: 0.0982661\ttotal: 222ms\tremaining: 72.2ms\n",
      "151:\tlearn: 0.0972410\ttotal: 224ms\tremaining: 70.8ms\n",
      "152:\tlearn: 0.0971027\ttotal: 226ms\tremaining: 69.4ms\n",
      "153:\tlearn: 0.0967476\ttotal: 227ms\tremaining: 67.9ms\n",
      "154:\tlearn: 0.0956818\ttotal: 229ms\tremaining: 66.4ms\n",
      "155:\tlearn: 0.0952413\ttotal: 231ms\tremaining: 65.1ms\n",
      "156:\tlearn: 0.0944628\ttotal: 232ms\tremaining: 63.6ms\n",
      "157:\tlearn: 0.0938894\ttotal: 234ms\tremaining: 62.2ms\n",
      "158:\tlearn: 0.0934776\ttotal: 235ms\tremaining: 60.7ms\n",
      "159:\tlearn: 0.0926891\ttotal: 237ms\tremaining: 59.3ms\n",
      "160:\tlearn: 0.0921797\ttotal: 239ms\tremaining: 57.9ms\n",
      "161:\tlearn: 0.0916570\ttotal: 241ms\tremaining: 56.5ms\n",
      "162:\tlearn: 0.0910003\ttotal: 242ms\tremaining: 55ms\n",
      "163:\tlearn: 0.0905992\ttotal: 244ms\tremaining: 53.6ms\n",
      "164:\tlearn: 0.0901089\ttotal: 246ms\tremaining: 52.1ms\n",
      "165:\tlearn: 0.0898429\ttotal: 247ms\tremaining: 50.6ms\n",
      "166:\tlearn: 0.0889666\ttotal: 248ms\tremaining: 49.1ms\n",
      "167:\tlearn: 0.0883827\ttotal: 250ms\tremaining: 47.6ms\n",
      "168:\tlearn: 0.0879601\ttotal: 251ms\tremaining: 46.1ms\n",
      "169:\tlearn: 0.0871893\ttotal: 253ms\tremaining: 44.7ms\n",
      "170:\tlearn: 0.0868897\ttotal: 255ms\tremaining: 43.3ms\n",
      "171:\tlearn: 0.0867916\ttotal: 258ms\tremaining: 41.9ms\n",
      "172:\tlearn: 0.0864410\ttotal: 260ms\tremaining: 40.5ms\n",
      "173:\tlearn: 0.0858047\ttotal: 262ms\tremaining: 39.1ms\n",
      "174:\tlearn: 0.0852543\ttotal: 264ms\tremaining: 37.7ms\n",
      "175:\tlearn: 0.0847586\ttotal: 265ms\tremaining: 36.2ms\n",
      "176:\tlearn: 0.0845690\ttotal: 266ms\tremaining: 34.6ms\n",
      "177:\tlearn: 0.0835028\ttotal: 268ms\tremaining: 33.1ms\n",
      "178:\tlearn: 0.0830723\ttotal: 269ms\tremaining: 31.5ms\n",
      "179:\tlearn: 0.0821148\ttotal: 270ms\tremaining: 30ms\n",
      "180:\tlearn: 0.0818980\ttotal: 272ms\tremaining: 28.5ms\n",
      "181:\tlearn: 0.0806696\ttotal: 273ms\tremaining: 27ms\n",
      "182:\tlearn: 0.0805058\ttotal: 274ms\tremaining: 25.5ms\n",
      "183:\tlearn: 0.0801705\ttotal: 275ms\tremaining: 23.9ms\n",
      "184:\tlearn: 0.0797192\ttotal: 277ms\tremaining: 22.4ms\n",
      "185:\tlearn: 0.0790633\ttotal: 278ms\tremaining: 20.9ms\n",
      "186:\tlearn: 0.0787864\ttotal: 279ms\tremaining: 19.4ms\n",
      "187:\tlearn: 0.0780695\ttotal: 280ms\tremaining: 17.9ms\n",
      "188:\tlearn: 0.0776914\ttotal: 282ms\tremaining: 16.4ms\n",
      "189:\tlearn: 0.0769324\ttotal: 283ms\tremaining: 14.9ms\n",
      "190:\tlearn: 0.0767363\ttotal: 284ms\tremaining: 13.4ms\n",
      "191:\tlearn: 0.0763012\ttotal: 286ms\tremaining: 11.9ms\n",
      "192:\tlearn: 0.0757659\ttotal: 287ms\tremaining: 10.4ms\n",
      "193:\tlearn: 0.0749516\ttotal: 288ms\tremaining: 8.9ms\n",
      "194:\tlearn: 0.0744762\ttotal: 289ms\tremaining: 7.41ms\n",
      "195:\tlearn: 0.0744311\ttotal: 290ms\tremaining: 5.92ms\n",
      "196:\tlearn: 0.0736656\ttotal: 292ms\tremaining: 4.45ms\n",
      "197:\tlearn: 0.0730818\ttotal: 293ms\tremaining: 2.96ms\n",
      "198:\tlearn: 0.0726398\ttotal: 294ms\tremaining: 1.48ms\n",
      "199:\tlearn: 0.0721630\ttotal: 295ms\tremaining: 0us\n"
     ]
    },
    {
     "data": {
      "text/plain": [
       "{'depth': 3, 'iterations': 200, 'learning_rate': 0.1}"
      ]
     },
     "execution_count": 191,
     "metadata": {},
     "output_type": "execute_result"
    }
   ],
   "source": [
    "catb = CatBoostClassifier()\n",
    "catb_cv_model = GridSearchCV(catb, catb_params, cv=5, n_jobs = -1, verbose = 2)\n",
    "catb_cv_model.fit(X_train, y_train)\n",
    "catb_cv_model.best_params_"
   ]
  },
  {
   "cell_type": "code",
   "execution_count": 192,
   "metadata": {},
   "outputs": [
    {
     "data": {
      "text/plain": [
       "{'depth': 3, 'iterations': 200, 'learning_rate': 0.1}"
      ]
     },
     "execution_count": 192,
     "metadata": {},
     "output_type": "execute_result"
    }
   ],
   "source": [
    "catb_cv_model.best_params_"
   ]
  },
  {
   "cell_type": "code",
   "execution_count": 193,
   "metadata": {},
   "outputs": [
    {
     "name": "stdout",
     "output_type": "stream",
     "text": [
      "0:\tlearn: 0.6502187\ttotal: 4.04ms\tremaining: 803ms\n",
      "1:\tlearn: 0.6159221\ttotal: 8.37ms\tremaining: 829ms\n",
      "2:\tlearn: 0.5775301\ttotal: 11.5ms\tremaining: 754ms\n",
      "3:\tlearn: 0.5454495\ttotal: 14.3ms\tremaining: 700ms\n",
      "4:\tlearn: 0.5145079\ttotal: 16.4ms\tremaining: 640ms\n",
      "5:\tlearn: 0.4893862\ttotal: 19ms\tremaining: 616ms\n",
      "6:\tlearn: 0.4598527\ttotal: 21.7ms\tremaining: 598ms\n",
      "7:\tlearn: 0.4361147\ttotal: 24.2ms\tremaining: 582ms\n",
      "8:\tlearn: 0.4196340\ttotal: 26.3ms\tremaining: 558ms\n",
      "9:\tlearn: 0.4048202\ttotal: 28.6ms\tremaining: 543ms\n",
      "10:\tlearn: 0.3874543\ttotal: 31.2ms\tremaining: 536ms\n",
      "11:\tlearn: 0.3728241\ttotal: 33.4ms\tremaining: 523ms\n",
      "12:\tlearn: 0.3616296\ttotal: 35.7ms\tremaining: 514ms\n",
      "13:\tlearn: 0.3466688\ttotal: 39.2ms\tremaining: 520ms\n",
      "14:\tlearn: 0.3349312\ttotal: 41.7ms\tremaining: 514ms\n",
      "15:\tlearn: 0.3226848\ttotal: 44ms\tremaining: 506ms\n",
      "16:\tlearn: 0.3156807\ttotal: 46.1ms\tremaining: 496ms\n",
      "17:\tlearn: 0.3094928\ttotal: 48.4ms\tremaining: 489ms\n",
      "18:\tlearn: 0.3009116\ttotal: 50.8ms\tremaining: 484ms\n",
      "19:\tlearn: 0.2915729\ttotal: 53ms\tremaining: 477ms\n",
      "20:\tlearn: 0.2861923\ttotal: 55.2ms\tremaining: 470ms\n",
      "21:\tlearn: 0.2799316\ttotal: 57.5ms\tremaining: 465ms\n",
      "22:\tlearn: 0.2766942\ttotal: 60ms\tremaining: 462ms\n",
      "23:\tlearn: 0.2696542\ttotal: 62.1ms\tremaining: 455ms\n",
      "24:\tlearn: 0.2645543\ttotal: 64.2ms\tremaining: 449ms\n",
      "25:\tlearn: 0.2593471\ttotal: 66.6ms\tremaining: 446ms\n",
      "26:\tlearn: 0.2542512\ttotal: 69ms\tremaining: 442ms\n",
      "27:\tlearn: 0.2475628\ttotal: 71.4ms\tremaining: 439ms\n",
      "28:\tlearn: 0.2448567\ttotal: 73.8ms\tremaining: 435ms\n",
      "29:\tlearn: 0.2428986\ttotal: 76.1ms\tremaining: 431ms\n",
      "30:\tlearn: 0.2398154\ttotal: 79.3ms\tremaining: 432ms\n",
      "31:\tlearn: 0.2380384\ttotal: 81.8ms\tremaining: 429ms\n",
      "32:\tlearn: 0.2348246\ttotal: 83.8ms\tremaining: 424ms\n",
      "33:\tlearn: 0.2327038\ttotal: 85.8ms\tremaining: 419ms\n",
      "34:\tlearn: 0.2274567\ttotal: 87.6ms\tremaining: 413ms\n",
      "35:\tlearn: 0.2252679\ttotal: 89.5ms\tremaining: 408ms\n",
      "36:\tlearn: 0.2229732\ttotal: 91.5ms\tremaining: 403ms\n",
      "37:\tlearn: 0.2209286\ttotal: 93.4ms\tremaining: 398ms\n",
      "38:\tlearn: 0.2185048\ttotal: 95.3ms\tremaining: 393ms\n",
      "39:\tlearn: 0.2165264\ttotal: 97.2ms\tremaining: 389ms\n",
      "40:\tlearn: 0.2159684\ttotal: 99.2ms\tremaining: 385ms\n",
      "41:\tlearn: 0.2131718\ttotal: 102ms\tremaining: 382ms\n",
      "42:\tlearn: 0.2112045\ttotal: 104ms\tremaining: 378ms\n",
      "43:\tlearn: 0.2089570\ttotal: 105ms\tremaining: 374ms\n",
      "44:\tlearn: 0.2075314\ttotal: 107ms\tremaining: 370ms\n",
      "45:\tlearn: 0.2073641\ttotal: 109ms\tremaining: 364ms\n",
      "46:\tlearn: 0.2052149\ttotal: 111ms\tremaining: 361ms\n",
      "47:\tlearn: 0.2036212\ttotal: 113ms\tremaining: 358ms\n",
      "48:\tlearn: 0.2020763\ttotal: 115ms\tremaining: 353ms\n",
      "49:\tlearn: 0.2011580\ttotal: 117ms\tremaining: 350ms\n",
      "50:\tlearn: 0.1995100\ttotal: 119ms\tremaining: 347ms\n",
      "51:\tlearn: 0.1972933\ttotal: 121ms\tremaining: 344ms\n",
      "52:\tlearn: 0.1953229\ttotal: 123ms\tremaining: 340ms\n",
      "53:\tlearn: 0.1943779\ttotal: 125ms\tremaining: 337ms\n",
      "54:\tlearn: 0.1933431\ttotal: 127ms\tremaining: 334ms\n",
      "55:\tlearn: 0.1918461\ttotal: 129ms\tremaining: 331ms\n",
      "56:\tlearn: 0.1905706\ttotal: 132ms\tremaining: 331ms\n",
      "57:\tlearn: 0.1897981\ttotal: 134ms\tremaining: 327ms\n",
      "58:\tlearn: 0.1879404\ttotal: 138ms\tremaining: 330ms\n",
      "59:\tlearn: 0.1866091\ttotal: 140ms\tremaining: 327ms\n",
      "60:\tlearn: 0.1861385\ttotal: 142ms\tremaining: 325ms\n",
      "61:\tlearn: 0.1847989\ttotal: 145ms\tremaining: 322ms\n",
      "62:\tlearn: 0.1836993\ttotal: 146ms\tremaining: 319ms\n",
      "63:\tlearn: 0.1831415\ttotal: 148ms\tremaining: 315ms\n",
      "64:\tlearn: 0.1825722\ttotal: 150ms\tremaining: 311ms\n",
      "65:\tlearn: 0.1813912\ttotal: 151ms\tremaining: 307ms\n",
      "66:\tlearn: 0.1801096\ttotal: 153ms\tremaining: 303ms\n",
      "67:\tlearn: 0.1792491\ttotal: 154ms\tremaining: 300ms\n",
      "68:\tlearn: 0.1780499\ttotal: 156ms\tremaining: 296ms\n",
      "69:\tlearn: 0.1760867\ttotal: 158ms\tremaining: 293ms\n",
      "70:\tlearn: 0.1758036\ttotal: 159ms\tremaining: 290ms\n",
      "71:\tlearn: 0.1738394\ttotal: 161ms\tremaining: 287ms\n",
      "72:\tlearn: 0.1734116\ttotal: 163ms\tremaining: 283ms\n",
      "73:\tlearn: 0.1725651\ttotal: 164ms\tremaining: 280ms\n",
      "74:\tlearn: 0.1713301\ttotal: 166ms\tremaining: 277ms\n",
      "75:\tlearn: 0.1689635\ttotal: 168ms\tremaining: 273ms\n",
      "76:\tlearn: 0.1676754\ttotal: 169ms\tremaining: 270ms\n",
      "77:\tlearn: 0.1668609\ttotal: 171ms\tremaining: 267ms\n",
      "78:\tlearn: 0.1663716\ttotal: 173ms\tremaining: 264ms\n",
      "79:\tlearn: 0.1645624\ttotal: 174ms\tremaining: 261ms\n",
      "80:\tlearn: 0.1626155\ttotal: 176ms\tremaining: 259ms\n",
      "81:\tlearn: 0.1605724\ttotal: 178ms\tremaining: 256ms\n",
      "82:\tlearn: 0.1594739\ttotal: 179ms\tremaining: 253ms\n",
      "83:\tlearn: 0.1590744\ttotal: 181ms\tremaining: 250ms\n",
      "84:\tlearn: 0.1584970\ttotal: 184ms\tremaining: 248ms\n",
      "85:\tlearn: 0.1568362\ttotal: 186ms\tremaining: 246ms\n",
      "86:\tlearn: 0.1560619\ttotal: 188ms\tremaining: 244ms\n",
      "87:\tlearn: 0.1555458\ttotal: 190ms\tremaining: 241ms\n",
      "88:\tlearn: 0.1548536\ttotal: 191ms\tremaining: 239ms\n",
      "89:\tlearn: 0.1541203\ttotal: 193ms\tremaining: 236ms\n",
      "90:\tlearn: 0.1523454\ttotal: 195ms\tremaining: 234ms\n",
      "91:\tlearn: 0.1515976\ttotal: 198ms\tremaining: 232ms\n",
      "92:\tlearn: 0.1508370\ttotal: 200ms\tremaining: 230ms\n",
      "93:\tlearn: 0.1491774\ttotal: 203ms\tremaining: 229ms\n",
      "94:\tlearn: 0.1483049\ttotal: 206ms\tremaining: 228ms\n",
      "95:\tlearn: 0.1467371\ttotal: 209ms\tremaining: 227ms\n",
      "96:\tlearn: 0.1461275\ttotal: 213ms\tremaining: 226ms\n",
      "97:\tlearn: 0.1450570\ttotal: 216ms\tremaining: 224ms\n",
      "98:\tlearn: 0.1447880\ttotal: 218ms\tremaining: 223ms\n",
      "99:\tlearn: 0.1436117\ttotal: 223ms\tremaining: 223ms\n",
      "100:\tlearn: 0.1429377\ttotal: 226ms\tremaining: 222ms\n",
      "101:\tlearn: 0.1424978\ttotal: 229ms\tremaining: 220ms\n",
      "102:\tlearn: 0.1418113\ttotal: 233ms\tremaining: 219ms\n",
      "103:\tlearn: 0.1410666\ttotal: 236ms\tremaining: 218ms\n",
      "104:\tlearn: 0.1397824\ttotal: 238ms\tremaining: 215ms\n",
      "105:\tlearn: 0.1383687\ttotal: 240ms\tremaining: 212ms\n",
      "106:\tlearn: 0.1376221\ttotal: 241ms\tremaining: 210ms\n",
      "107:\tlearn: 0.1368162\ttotal: 243ms\tremaining: 207ms\n",
      "108:\tlearn: 0.1355236\ttotal: 245ms\tremaining: 205ms\n",
      "109:\tlearn: 0.1336246\ttotal: 247ms\tremaining: 202ms\n",
      "110:\tlearn: 0.1327263\ttotal: 249ms\tremaining: 200ms\n",
      "111:\tlearn: 0.1313315\ttotal: 251ms\tremaining: 197ms\n",
      "112:\tlearn: 0.1309148\ttotal: 253ms\tremaining: 194ms\n",
      "113:\tlearn: 0.1301702\ttotal: 254ms\tremaining: 192ms\n",
      "114:\tlearn: 0.1292949\ttotal: 256ms\tremaining: 190ms\n",
      "115:\tlearn: 0.1290326\ttotal: 258ms\tremaining: 187ms\n",
      "116:\tlearn: 0.1279999\ttotal: 260ms\tremaining: 185ms\n",
      "117:\tlearn: 0.1277690\ttotal: 262ms\tremaining: 182ms\n",
      "118:\tlearn: 0.1266411\ttotal: 264ms\tremaining: 180ms\n",
      "119:\tlearn: 0.1262242\ttotal: 266ms\tremaining: 177ms\n",
      "120:\tlearn: 0.1248158\ttotal: 267ms\tremaining: 174ms\n",
      "121:\tlearn: 0.1240271\ttotal: 269ms\tremaining: 172ms\n",
      "122:\tlearn: 0.1228182\ttotal: 270ms\tremaining: 169ms\n",
      "123:\tlearn: 0.1221931\ttotal: 272ms\tremaining: 167ms\n",
      "124:\tlearn: 0.1218272\ttotal: 274ms\tremaining: 164ms\n",
      "125:\tlearn: 0.1211377\ttotal: 275ms\tremaining: 162ms\n",
      "126:\tlearn: 0.1197592\ttotal: 277ms\tremaining: 159ms\n",
      "127:\tlearn: 0.1195780\ttotal: 279ms\tremaining: 157ms\n",
      "128:\tlearn: 0.1191616\ttotal: 281ms\tremaining: 154ms\n",
      "129:\tlearn: 0.1190681\ttotal: 282ms\tremaining: 152ms\n",
      "130:\tlearn: 0.1179342\ttotal: 284ms\tremaining: 150ms\n",
      "131:\tlearn: 0.1168569\ttotal: 286ms\tremaining: 147ms\n",
      "132:\tlearn: 0.1156823\ttotal: 287ms\tremaining: 145ms\n",
      "133:\tlearn: 0.1156084\ttotal: 289ms\tremaining: 142ms\n",
      "134:\tlearn: 0.1154480\ttotal: 291ms\tremaining: 140ms\n",
      "135:\tlearn: 0.1141779\ttotal: 292ms\tremaining: 138ms\n",
      "136:\tlearn: 0.1135231\ttotal: 294ms\tremaining: 135ms\n",
      "137:\tlearn: 0.1127327\ttotal: 296ms\tremaining: 133ms\n",
      "138:\tlearn: 0.1122369\ttotal: 298ms\tremaining: 131ms\n",
      "139:\tlearn: 0.1121296\ttotal: 300ms\tremaining: 128ms\n",
      "140:\tlearn: 0.1115874\ttotal: 301ms\tremaining: 126ms\n",
      "141:\tlearn: 0.1111653\ttotal: 303ms\tremaining: 124ms\n",
      "142:\tlearn: 0.1107208\ttotal: 305ms\tremaining: 121ms\n",
      "143:\tlearn: 0.1097141\ttotal: 306ms\tremaining: 119ms\n",
      "144:\tlearn: 0.1092925\ttotal: 308ms\tremaining: 117ms\n",
      "145:\tlearn: 0.1082472\ttotal: 309ms\tremaining: 114ms\n",
      "146:\tlearn: 0.1079468\ttotal: 311ms\tremaining: 112ms\n",
      "147:\tlearn: 0.1075531\ttotal: 312ms\tremaining: 110ms\n",
      "148:\tlearn: 0.1068058\ttotal: 314ms\tremaining: 107ms\n",
      "149:\tlearn: 0.1054267\ttotal: 316ms\tremaining: 105ms\n",
      "150:\tlearn: 0.1039752\ttotal: 317ms\tremaining: 103ms\n",
      "151:\tlearn: 0.1038316\ttotal: 319ms\tremaining: 101ms\n",
      "152:\tlearn: 0.1029413\ttotal: 321ms\tremaining: 98.7ms\n",
      "153:\tlearn: 0.1026911\ttotal: 323ms\tremaining: 96.4ms\n",
      "154:\tlearn: 0.1016375\ttotal: 325ms\tremaining: 94.2ms\n",
      "155:\tlearn: 0.1011938\ttotal: 326ms\tremaining: 92ms\n",
      "156:\tlearn: 0.1001802\ttotal: 328ms\tremaining: 89.8ms\n",
      "157:\tlearn: 0.0995816\ttotal: 329ms\tremaining: 87.5ms\n",
      "158:\tlearn: 0.0984541\ttotal: 331ms\tremaining: 85.3ms\n",
      "159:\tlearn: 0.0980630\ttotal: 333ms\tremaining: 83.1ms\n",
      "160:\tlearn: 0.0976440\ttotal: 334ms\tremaining: 80.9ms\n",
      "161:\tlearn: 0.0963103\ttotal: 336ms\tremaining: 78.8ms\n",
      "162:\tlearn: 0.0962122\ttotal: 337ms\tremaining: 76.6ms\n",
      "163:\tlearn: 0.0959602\ttotal: 339ms\tremaining: 74.4ms\n",
      "164:\tlearn: 0.0955405\ttotal: 341ms\tremaining: 72.3ms\n",
      "165:\tlearn: 0.0949202\ttotal: 342ms\tremaining: 70.1ms\n",
      "166:\tlearn: 0.0943418\ttotal: 344ms\tremaining: 68ms\n",
      "167:\tlearn: 0.0936366\ttotal: 346ms\tremaining: 65.9ms\n",
      "168:\tlearn: 0.0933683\ttotal: 347ms\tremaining: 63.7ms\n",
      "169:\tlearn: 0.0932686\ttotal: 349ms\tremaining: 61.6ms\n",
      "170:\tlearn: 0.0927441\ttotal: 351ms\tremaining: 59.5ms\n",
      "171:\tlearn: 0.0925808\ttotal: 352ms\tremaining: 57.3ms\n",
      "172:\tlearn: 0.0913986\ttotal: 354ms\tremaining: 55.2ms\n",
      "173:\tlearn: 0.0903552\ttotal: 356ms\tremaining: 53.2ms\n",
      "174:\tlearn: 0.0893599\ttotal: 358ms\tremaining: 51.2ms\n",
      "175:\tlearn: 0.0890632\ttotal: 360ms\tremaining: 49.1ms\n",
      "176:\tlearn: 0.0889780\ttotal: 362ms\tremaining: 47.1ms\n",
      "177:\tlearn: 0.0883863\ttotal: 364ms\tremaining: 45ms\n",
      "178:\tlearn: 0.0877305\ttotal: 366ms\tremaining: 43ms\n",
      "179:\tlearn: 0.0872812\ttotal: 368ms\tremaining: 40.9ms\n",
      "180:\tlearn: 0.0868418\ttotal: 370ms\tremaining: 38.9ms\n",
      "181:\tlearn: 0.0857899\ttotal: 372ms\tremaining: 36.8ms\n",
      "182:\tlearn: 0.0852013\ttotal: 374ms\tremaining: 34.8ms\n",
      "183:\tlearn: 0.0848596\ttotal: 376ms\tremaining: 32.7ms\n",
      "184:\tlearn: 0.0846910\ttotal: 378ms\tremaining: 30.6ms\n",
      "185:\tlearn: 0.0845476\ttotal: 380ms\tremaining: 28.6ms\n",
      "186:\tlearn: 0.0838711\ttotal: 383ms\tremaining: 26.6ms\n",
      "187:\tlearn: 0.0830709\ttotal: 384ms\tremaining: 24.5ms\n",
      "188:\tlearn: 0.0822018\ttotal: 386ms\tremaining: 22.5ms\n",
      "189:\tlearn: 0.0815345\ttotal: 389ms\tremaining: 20.4ms\n",
      "190:\tlearn: 0.0814656\ttotal: 390ms\tremaining: 18.4ms\n",
      "191:\tlearn: 0.0811735\ttotal: 392ms\tremaining: 16.3ms\n",
      "192:\tlearn: 0.0805950\ttotal: 394ms\tremaining: 14.3ms\n",
      "193:\tlearn: 0.0804325\ttotal: 396ms\tremaining: 12.2ms\n",
      "194:\tlearn: 0.0803394\ttotal: 398ms\tremaining: 10.2ms\n",
      "195:\tlearn: 0.0802045\ttotal: 400ms\tremaining: 8.16ms\n",
      "196:\tlearn: 0.0801198\ttotal: 402ms\tremaining: 6.12ms\n",
      "197:\tlearn: 0.0794342\ttotal: 404ms\tremaining: 4.08ms\n",
      "198:\tlearn: 0.0791601\ttotal: 405ms\tremaining: 2.04ms\n",
      "199:\tlearn: 0.0787705\ttotal: 407ms\tremaining: 0us\n"
     ]
    }
   ],
   "source": [
    "catb = CatBoostClassifier(iterations = 200, \n",
    "                          learning_rate = 0.05, \n",
    "                          depth = 5)\n",
    "\n",
    "catb_tuned = catb.fit(X_train, y_train)\n",
    "y_pred = catb_tuned.predict(X_test)"
   ]
  },
  {
   "cell_type": "code",
   "execution_count": 194,
   "metadata": {},
   "outputs": [
    {
     "data": {
      "text/plain": [
       "0.8571428571428571"
      ]
     },
     "execution_count": 194,
     "metadata": {},
     "output_type": "execute_result"
    }
   ],
   "source": [
    "y_pred = catb_tuned.predict(X_test)\n",
    "accuracy_score(y_test, y_pred)"
   ]
  },
  {
   "cell_type": "code",
   "execution_count": null,
   "metadata": {},
   "outputs": [],
   "source": []
  },
  {
   "cell_type": "markdown",
   "metadata": {},
   "source": [
    "# Karşılaştırılma"
   ]
  },
  {
   "cell_type": "code",
   "execution_count": 195,
   "metadata": {},
   "outputs": [
    {
     "name": "stdout",
     "output_type": "stream",
     "text": [
      "----------------------------\n",
      "KNeighborsClassifier:\n",
      "Accuracy: 84.4156%\n",
      "----------------------------\n",
      "LogisticRegression:\n",
      "Accuracy: 75.3247%\n",
      "----------------------------\n",
      "SVC:\n",
      "Accuracy: 86.5801%\n",
      "----------------------------\n",
      "GaussianNB:\n",
      "Accuracy: 74.4589%\n",
      "----------------------------\n",
      "MLPClassifier:\n",
      "Accuracy: 34.6320%\n",
      "----------------------------\n",
      "DecisionTreeClassifier:\n",
      "Accuracy: 86.1472%\n",
      "----------------------------\n",
      "RandomForestClassifier:\n",
      "Accuracy: 86.5801%\n",
      "----------------------------\n",
      "GradientBoostingClassifier:\n",
      "Accuracy: 87.4459%\n",
      "----------------------------\n",
      "CatBoostClassifier:\n",
      "Accuracy: 85.7143%\n",
      "----------------------------\n",
      "LGBMClassifier:\n",
      "Accuracy: 87.0130%\n",
      "----------------------------\n",
      "XGBClassifier:\n",
      "Accuracy: 86.5801%\n"
     ]
    }
   ],
   "source": [
    "modeller = [\n",
    "    knn_tuned,\n",
    "    loj_model,\n",
    "    svc_tuned,\n",
    "    nb_model,\n",
    "    mlpc_tuned,\n",
    "    cart_tuned,\n",
    "    rf_tuned,\n",
    "    gbm_tuned,\n",
    "    catb_tuned,\n",
    "    lgbm_tuned,\n",
    "    xgb_tuned\n",
    "    \n",
    "]\n",
    "\n",
    "\n",
    "for model in modeller:\n",
    "    isimler = model.__class__.__name__\n",
    "    y_pred = model.predict(X_test)\n",
    "    dogruluk = accuracy_score(y_test, y_pred)\n",
    "    print(\"-\"*28)\n",
    "    print(isimler + \":\" )\n",
    "    print(\"Accuracy: {:.4%}\".format(dogruluk))"
   ]
  },
  {
   "cell_type": "code",
   "execution_count": 196,
   "metadata": {},
   "outputs": [
    {
     "data": {
      "image/png": "[encoded data removed]",
      "text/plain": [
       "<Figure size 432x288 with 1 Axes>"
      ]
     },
     "metadata": {
      "needs_background": "light"
     },
     "output_type": "display_data"
    }
   ],
   "source": [
    "sonuc = []\n",
    "\n",
    "sonuclar = pd.DataFrame(columns= [\"Modeller\",\"Accuracy\"])\n",
    "\n",
    "for model in modeller:\n",
    "    isimler = model.__class__.__name__\n",
    "    y_pred = model.predict(X_test)\n",
    "    dogruluk = accuracy_score(y_test, y_pred)    \n",
    "    sonuc = pd.DataFrame([[isimler, dogruluk*100]], columns= [\"Modeller\",\"Accuracy\"])\n",
    "    sonuclar = sonuclar.append(sonuc)\n",
    "    \n",
    "    \n",
    "sns.barplot(x= 'Accuracy', y = 'Modeller', data=sonuclar, color=\"r\")\n",
    "plt.xlabel('Accuracy %')\n",
    "plt.title('Modellerin Doğruluk Oranları');    "
   ]
  },
  {
   "cell_type": "code",
   "execution_count": null,
   "metadata": {},
   "outputs": [],
   "source": []
  },
  {
   "cell_type": "code",
   "execution_count": null,
   "metadata": {},
   "outputs": [],
   "source": []
  },
  {
   "cell_type": "code",
   "execution_count": null,
   "metadata": {},
   "outputs": [],
   "source": []
  },
  {
   "cell_type": "code",
   "execution_count": null,
   "metadata": {},
   "outputs": [],
   "source": []
  },
  {
   "cell_type": "code",
   "execution_count": null,
   "metadata": {},
   "outputs": [],
   "source": []
  },
  {
   "cell_type": "code",
   "execution_count": null,
   "metadata": {},
   "outputs": [],
   "source": []
  },
  {
   "cell_type": "code",
   "execution_count": null,
   "metadata": {},
   "outputs": [],
   "source": []
  },
  {
   "cell_type": "code",
   "execution_count": null,
   "metadata": {},
   "outputs": [],
   "source": []
  },
  {
   "cell_type": "code",
   "execution_count": null,
   "metadata": {},
   "outputs": [],
   "source": []
  }
 ],
 "metadata": {
  "kernelspec": {
   "display_name": "Python 3",
   "language": "python",
   "name": "python3"
  },
  "language_info": {
   "codemirror_mode": {
    "name": "ipython",
    "version": 3
   },
   "file_extension": ".py",
   "mimetype": "text/x-python",
   "name": "python",
   "nbconvert_exporter": "python",
   "pygments_lexer": "ipython3",
   "version": "3.7.6"
  }
 },
 "nbformat": 4,
 "nbformat_minor": 4
}
